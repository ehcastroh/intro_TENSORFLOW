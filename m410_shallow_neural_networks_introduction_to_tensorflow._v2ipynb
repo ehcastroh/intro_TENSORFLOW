{
 "cells": [
  {
   "cell_type": "markdown",
   "metadata": {
    "slideshow": {
     "slide_type": "slide"
    }
   },
   "source": [
    "<hr style=\"border: 6px solid#003262;\" />\n",
    "\n",
    "<div align=\"center\">\n",
    "    <img src= \"/assets/content/datax_logos/DataX_blue_wide_logo.png\" align=\"center\" width=\"100%\">\n",
    "</div>\n",
    "\n",
    "\n",
    "<br>\n",
    "\n",
    "# **DATA-X:** <br>  m410 - SHALLOW NEURAL NETWORKS; AN INTRODUCTION TO TENSORFLOW V.2\n",
    "\n",
    "<br>\n",
    "\n",
    "\n",
    "**Author List (in no particular order):** [Elias Castro Hernandez](https://www.linkedin.com/in/ehcastroh/), [Rajarathnam Balakrishnan](https://www.linkedin.com/in/rajarathnam-balakrishnan-7b447b135/), [Ikhlaq Sidhu](https://ikhlaq-sidhu.com/), [Debbie Yuen](http://www.debbiecyuen.me/), and [Alexander Fred-Ojala](https://www.linkedin.com/in/alexanderfo/) \n",
    "\n",
    "**About (TL/DR):** Tensorflow (TF) is an open-source library used for dataflow, differentiable programming, symbolic math ,and machine learning applications such as deep learning neural networks. TF's flexible architecture allows for easy deployment across varied processing platforms. \n",
    "\n",
    "**Learning Goal(s):** This notebook covers advanced topics in machine learning. However, it does not require any prior knowledge in machine learning. The goal of this notebook is to teach a user how to deploy a TF model, as well as to provide the user guidance on how to tackle the more nuanced topics. \n",
    "\n",
    "**Associated Materials:** To ease the learning curve, we encourage the user of this notebook to view the resources section on the main JupyterLab, and/or review the [Data-X Fundamentals](https://github.com/scetx/datax/tree/master/01-data-x-fundamentals) repo.\n",
    "\n",
    "**Keywords (Tags):** tensorflow, tensor-flow, tensorflow-tutorial, deep-learning, deep-learning-with-python, neural-networks, data-x, uc-berkeley-engineering \n",
    "\n",
    "**Prerequisite Knowledge:** (1) Python, (2) NumPy, (3) Pandas, (4) Linear Algebra, (5) Bash \n",
    "\n",
    "**Target User:** Data scientists, applied machine learning engineers, and developers\n",
    "\n",
    "**Copyright:** Content curation has been used to expedite the creation of the following learning materials. Credit and copyright belong to the content creators used in facilitating this content. Please support the creators of the resources used by frequenting their sites, and social media.\n"
   ]
  },
  {
   "cell_type": "markdown",
   "metadata": {},
   "source": [
    "<hr style=\"border: 4px solid#003262;\" />\n",
    "\n",
    "<a name='Part_table_contents' id=\"Part_table_contents\"></a>"
   ]
  },
  {
   "cell_type": "markdown",
   "metadata": {
    "slideshow": {
     "slide_type": "subslide"
    }
   },
   "source": [
    "\n",
    "\n",
    "#### CONTENTS\n",
    "\n",
    "> #### [PART 0: ABOUT AND MOTIVATION](#Part_0)\n",
    "> #### [PART 1: TENSORS AND OPERATIONS](#Part_1)\n",
    "> #### [PART 2: TENSORFLOW GRAPHS, AND EXECUTIONS](#Part_2)\n",
    "> #### [PART 3 (OPTIONAL): TENSORFLOW LINEAR REGRESSION](#Part_3)\n",
    "> #### [PART 4: WRAP UP AND NEXT STEPS](#Part_4)"
   ]
  },
  {
   "cell_type": "markdown",
   "metadata": {},
   "source": [
    "#### APPENDIX\n",
    "\n",
    "> #### [PREREQUISITE KNOWLEDGE AND REQUIREMENTS](#Appendix_1)\n",
    "> #### [REFERENCES AND ADDITIONAL RESOURCES](#Appendix_2)\n",
    "\n",
    "<br>\n"
   ]
  },
  {
   "cell_type": "markdown",
   "metadata": {},
   "source": [
    "<a id='Part_0'></a>\n",
    "\n",
    "<hr style=\"border: 2px solid#003262;\" />\n",
    "\n",
    "#### PART 0\n",
    "\n",
    "## **ABOUT** AND **MOTIVATION** NEED VIDEO FROM DEBBIE"
   ]
  },
  {
   "cell_type": "markdown",
   "metadata": {},
   "source": [
    "<div align=\"center\" style=\"font-size:12px; font-family:FreeMono; font-weight: 100; font-stretch:ultra-condensed; line-height: 1.0; color:#2A2C2B\">\n",
    "  <a href=\"\">\n",
    "    <img src=\"assets/content/images/tensorflow_thumbnail_play-01.png\" align=\"center\" width=\"50%\" padding=\"10px\"/>\n",
    "  </a><br>\n",
    "</div>"
   ]
  },
  {
   "cell_type": "markdown",
   "metadata": {},
   "source": [
    "<a id='Part_1'></a>\n",
    "\n",
    "<hr style=\"border: 2px solid#003262;\" />\n",
    "\n",
    "#### PART 1\n",
    "\n",
    "## **TENSORS** AND **OPERATIONS**\n",
    "\n",
    "\n",
    "<div align=\"center\" style=\"font-size:12px; font-family:FreeMono; font-weight: 100; font-stretch:ultra-condensed; line-height: 1.0; color:#2A2C2B\">\n",
    "    <img src=\"/assets/content/images/tensorflow_thumbnail-01.png\" align=\"center\" width=\"40%\" padding=\"10\"><br>\n",
    "    <br>\n",
    "    \n",
    "</div>\n",
    "\n",
    "<br>\n",
    "\n",
    "<br>\n",
    "\n",
    "[**TensorFlow**](https://www.tensorflow.org/) is a cross-platform, end-to-end, open source, platform for efficiently training and deploying machine learning models. TensorFlow offers multiple levels of abstractions, which means you can use high-level API's such as [**Keras**](https://keras.io/) or [**Ludwig**](https://ludwig-ai.github.io/ludwig-docs/index.html) to make things a bit simpler, or even to set up a [**Distribution Strategy**](https://www.tensorflow.org/guide/distributed_training) API on different hardware configurions without having to change the model defintion.\n",
    "\n",
    "<br>\n",
    "\n",
    "<strong style=\"color:red\">KEY CONSIDERATION:</strong> Some of the following content may be written for machines running on Linux or Mac operating systems. If you are working on a Windows machine, you will need to enable the Linux Bash Shell, or adjust Shell commands to PowerShell syntax. A tutorial on how to enable the Linux Bash Shell on Windows 10 can be found [here](https://youtu.be/xzgwDbe7foQ).\n",
    "\n",
    "\n",
    "#### CONTENTS:\n",
    "\n",
    "> [PART 1.0: TENSORFLOW INSTALLATION NOTES](#Part_1_0)<br>\n",
    "> [PART 1.1: TENSORFLOW SETUP](#Part_1_1)<br>\n",
    "> [PART 1.2: TENSORBOARD SETUP](#Part_1_2)<br>\n",
    "> [PART 1.3: TENSORFLOW TENSORS](#Part_1_3)<br>\n",
    "> [PART 1.4: TENSORFLOW OPERATIONS](#Part_1_4)<br>\n",
    "> [PART 1.5 (OPTIONAL): EAGER EXECUTION](#Part_1_5)"
   ]
  },
  {
   "cell_type": "markdown",
   "metadata": {},
   "source": [
    "<a id='Part_1_0'></a>\n",
    "\n",
    "<hr style=\"border: 1px solid#003262;\" />\n",
    "\n",
    "#### PART 1.0: TENSORFLOW INSTALLATION NOTES\n",
    "\n",
    "<br>\n",
    "\n",
    "<div align=\"center\" style=\"font-size:12px; font-family:FreeMono; font-weight: 100; font-stretch:ultra-condensed; line-height: 1.0; color:#2A2C2B\">\n",
    "    <img src=\"/assets/content/images/tf_logo_social.png\" align=\"center\" width=\"30%\" padding=\"0px\"><br>\n",
    "    <br>\n",
    "</div>"
   ]
  },
  {
   "cell_type": "markdown",
   "metadata": {},
   "source": [
    "<br>\n",
    "\n",
    "#### **1.0.1 Install Python Development Environment**\n",
    "\n",
    "___"
   ]
  },
  {
   "cell_type": "markdown",
   "metadata": {},
   "source": [
    "\n",
    "\n",
    "#### **Install/Update pip3**\n",
    "\n",
    "https://pip.pypa.io/en/stable/installing/\n",
    "\n",
    "```bash\n",
    "    # TensorFlow requires pip version >= 19.0\n",
    "    $ pip install --upgrade pip \n",
    "```"
   ]
  },
  {
   "cell_type": "markdown",
   "metadata": {},
   "source": [
    "<br>\n",
    "\n",
    "#### **Install/Update Python 3**\n",
    "\n",
    "https://www.python.org/downloads/\n",
    "\n",
    "```bash\n",
    "    # TensorFlow requires Python 3.5-3.8 \n",
    "    $ sudo apt-get update && sudo apt-get install python3-dev python3-pip python3-venv python-virtualenv\n",
    "```"
   ]
  },
  {
   "cell_type": "markdown",
   "metadata": {},
   "source": [
    "<br>\n",
    "\n",
    "#### **1.0.2 Create Virtual Environgment (Recommended)**\n",
    "\n",
    "\n",
    "___"
   ]
  },
  {
   "cell_type": "markdown",
   "metadata": {},
   "source": [
    "**Create virtual environment**\n",
    "\n",
    ">On a terminal, or using magic keys, create a new virtual environment using a Python interpreter and creating a ```venv``` directory to hold it\n",
    "\n",
    "```bash\n",
    "    $ python3 -m venv venv\n",
    "```"
   ]
  },
  {
   "cell_type": "markdown",
   "metadata": {},
   "source": [
    "<br>\n",
    "\n",
    "**Activate the virtual environment**\n",
    "\n",
    "```bash\n",
    "    $ source ./venv/bin/activate      # sh, bash, or zsh\n",
    "\n",
    "    $ . ./venv/bin/activate.fish       # fish\n",
    "\n",
    "    $ source ./venv/bin/activate.csh  # csh or tcsh\n",
    "```"
   ]
  },
  {
   "cell_type": "markdown",
   "metadata": {},
   "source": [
    "<br>\n",
    "\n",
    "**Install packages within virtual environment**\n",
    "\n",
    "When the virtual environment is active, your shell prompt is prefixed by ```(venv)```\n",
    "\n",
    "> Step 1: reapeat 1.1.1 above, within ```(venv)```<br>\n",
    "\n",
    "```bash\n",
    "    # TensorFlow requires pip version >= 19.0\n",
    "    $ pip install --upgrade pip \n",
    "```    "
   ]
  },
  {
   "cell_type": "markdown",
   "metadata": {},
   "source": [
    "> Step 2: Install TensorFlow2\n",
    "\n",
    "```bash\n",
    "    (venv) $ pip install --upgrade tensorflow\n",
    "```\n"
   ]
  },
  {
   "cell_type": "markdown",
   "metadata": {},
   "source": [
    "> Step 3: Verify install\n",
    "\n",
    "```bash\n",
    "    (venv) $ python -c \"import tensorflow as tf;print(tf.reduce_sum(tf.random.normal([1000, 1000])))\"\n",
    "```"
   ]
  },
  {
   "cell_type": "markdown",
   "metadata": {},
   "source": [
    "> Step 4: To exit virtual enviroment later\n",
    "\n",
    "```bash\n",
    "    (venv) $ pip deactivate\n",
    "```"
   ]
  },
  {
   "cell_type": "markdown",
   "metadata": {},
   "source": [
    "<br>\n",
    "\n",
    "#### **1.0.3 Install TensorFlow on Local Machine (Optional Setup)**\n",
    "\n",
    "___\n",
    "\n",
    "\n",
    "**TensorFlow 2**\n",
    "\n",
    "https://www.tensorflow.org/install/pip\n",
    "\n",
    "```bash\n",
    "    # Install using pip\n",
    "    $ pip install --upgrade tensorflow \n",
    "```"
   ]
  },
  {
   "cell_type": "markdown",
   "metadata": {},
   "source": [
    "<br>\n",
    "\n",
    "**Verify Installation**\n",
    "\n",
    "```bash\n",
    "    $ python -c \"import tensorflow as tf;print(tf.reduce_sum(tf.random.normal([1000, 1000])))\"\n",
    "```"
   ]
  },
  {
   "cell_type": "markdown",
   "metadata": {},
   "source": [
    "<br>\n",
    "\n",
    "#### **1.0.4 Run TensorFlow in a Container (Optional Setup)**\n",
    "\n",
    "___\n",
    "\n",
    "[**Tensorflow Docker images**](https://www.tensorflow.org/install/docker) come pre-configured to run TensorFlow, and provide a virtual environment that is generally the easiest way to set up [**GPU processing**](https://www.tensorflow.org/install/gpu). To learn more about how to use [**Docker**](https://www.tensorflow.org/install/docker/) to separate your applications from your infrastructure, click [here](https://docs.docker.com/get-docker/).\n",
    "\n",
    "<br>"
   ]
  },
  {
   "cell_type": "markdown",
   "metadata": {},
   "source": [
    "<a id='Part_1_1'></a>\n",
    "\n",
    "<hr style=\"border: 1px solid#003262;\" />\n",
    "\n",
    "#### PART 1.1: TENSORFLOW SETUP\n",
    "\n",
    "<br>\n",
    "\n",
    "<div align=\"center\" style=\"font-size:12px; font-family:FreeMono; font-weight: 100; font-stretch:ultra-condensed; line-height: 1.0; color:#2A2C2B\">\n",
    "    <img src=\"/assets/content/images/tf_logo_social.png\" align=\"center\" width=\"30%\" padding=\"0px\"><br>\n",
    "    <br>\n",
    "</div>\n",
    "\n",
    "<br>\n",
    "\n",
    "<br>\n",
    "\n",
    "[**TensorFlow V.2**](https://www.tensorflow.org/tutorials/quickstart/beginner) removes redundant APIs, and integrates more smoothly with Python via Eager execution. To learn what has changed between versions 1 and 2 of TensorFlow, see [here](https://www.tensorflow.org/guide/effective_tf2). \n",
    "<br>"
   ]
  },
  {
   "cell_type": "markdown",
   "metadata": {},
   "source": [
    "<br> \n",
    "\n",
    "#### **1.1.1 General Notebook Setup**\n",
    "___"
   ]
  },
  {
   "cell_type": "code",
   "execution_count": 1,
   "metadata": {},
   "outputs": [],
   "source": [
    "# Pyton 2 and 3 support\n",
    "from __future__ import division, print_function, unicode_literals\n",
    "\n",
    "import pandas as pd\n",
    "import numpy as np\n",
    "import matplotlib.pyplot as plt\n",
    "\n",
    "%matplotlib inline\n",
    "\n",
    "# Hide warnings\n",
    "import warnings\n",
    "warnings.filterwarnings('ignore')"
   ]
  },
  {
   "cell_type": "markdown",
   "metadata": {},
   "source": [
    "<br>\n",
    "\n",
    "**Install TensorFlow:** the following will install TensorFlow using bash. It serves our purposes. However, for detailed installation instructions see [Part 1.1](#Part_1_1)"
   ]
  },
  {
   "cell_type": "code",
   "execution_count": 2,
   "metadata": {},
   "outputs": [],
   "source": [
    "## Create Virtual Environment ##\n",
    "! python3 -m venv ./assets/venv"
   ]
  },
  {
   "cell_type": "code",
   "execution_count": 3,
   "metadata": {},
   "outputs": [],
   "source": [
    "## Activate Virtual Environment ##\n",
    "! . ./assets/venv/bin/activate"
   ]
  },
  {
   "cell_type": "code",
   "execution_count": 4,
   "metadata": {},
   "outputs": [
    {
     "name": "stdout",
     "output_type": "stream",
     "text": [
      "Requirement already up-to-date: pip in /home/ehch/anaconda3/lib/python3.6/site-packages (20.1.1)\n"
     ]
    }
   ],
   "source": [
    "## Ensure pip version >= 19.0 ##\n",
    "! pip install --upgrade pip "
   ]
  },
  {
   "cell_type": "code",
   "execution_count": 5,
   "metadata": {},
   "outputs": [],
   "source": [
    "## Ensure TF version >= 2.0 ##\n",
    "! pip install --upgrade tensorflow"
   ]
  },
  {
   "cell_type": "markdown",
   "metadata": {},
   "source": [
    "<br>\n",
    "\n",
    "**Import TensorFlow**"
   ]
  },
  {
   "cell_type": "code",
   "execution_count": 6,
   "metadata": {},
   "outputs": [],
   "source": [
    "# Canonical way of importing TensorFlow\n",
    "import tensorflow as tf"
   ]
  },
  {
   "cell_type": "markdown",
   "metadata": {},
   "source": [
    "___\n",
    "\n",
    "**Note:** If ```import tensorflow as tf``` doesn't work, TensorFlow is not installed correctly. To resolve the issue see [**build and install error messages**](https://www.tensorflow.org/install/errors)\n",
    "    \n",
    "___"
   ]
  },
  {
   "cell_type": "code",
   "execution_count": 7,
   "metadata": {},
   "outputs": [
    {
     "data": {
      "text/plain": [
       "'2.2.0'"
      ]
     },
     "execution_count": 7,
     "metadata": {},
     "output_type": "execute_result"
    }
   ],
   "source": [
    "# Check tf version, oftentimes tensorflow is not backwards compatible\n",
    "tf.__version__"
   ]
  },
  {
   "cell_type": "code",
   "execution_count": 56,
   "metadata": {},
   "outputs": [
    {
     "data": {
      "text/plain": [
       "True"
      ]
     },
     "execution_count": 56,
     "metadata": {},
     "output_type": "execute_result"
    }
   ],
   "source": [
    "# Check thatEager Execution is active\n",
    "tf.executing_eagerly()"
   ]
  },
  {
   "cell_type": "markdown",
   "metadata": {},
   "source": [
    "___\n",
    "\n",
    "**Note:** TensorFlow V.2 comes with eager execution enabled by default. Eager mode has many benefits, but for our purposes eager mode allows tensor outputs to be viewed without the need of a session -- which may not be necessary depending on your needs. To learn more check out the section on [**eager execution**](#Part_1_5).\n",
    "___"
   ]
  },
  {
   "cell_type": "markdown",
   "metadata": {},
   "source": [
    "<a id='Part_1_2'></a>\n",
    "\n",
    "<hr style=\"border: 1px solid#003262;\" />\n",
    "\n",
    "#### PART 1.2: TENSORBOARD SETUP\n",
    "\n",
    "<br>\n",
    "\n",
    "<div align=\"center\" style=\"font-size:12px; font-family:FreeMono; font-weight: 100; font-stretch:ultra-condensed; line-height: 1.0; color:#2A2C2B\">\n",
    "    <img src=\"/assets/content/images/tensorboard_logo_social.png\" align=\"center\" width=\"30%\" padding=\"0px\"><br>\n",
    "    <br>\n",
    "</div>\n",
    "\n",
    "<br>\n",
    "\n",
    "[**TensorBoard**](https://www.tensorflow.org/tensorboard/get_started) is a tool for measuring and visualizing machine learning workflows. It enables the tracking of important metrics such as [**acuracy**](https://www.tensorflow.org/api_docs/python/tf/keras/metrics/Accuracy), it can display summary operations, tensor ouputs, project embeddings to lower dimensional space, and much more. This broad functionality makes TensorBoard an important tool in evaluating, optimizing, and debugging machine learning models. For a five-minute summary of TensorBoard, click [here](https://youtu.be/3bownM3L5zM)."
   ]
  },
  {
   "cell_type": "markdown",
   "metadata": {},
   "source": [
    "<br>\n",
    "\n",
    "#### **1.2.1 Load TensorBoard and Associated Libraries**\n",
    "\n",
    "___"
   ]
  },
  {
   "cell_type": "markdown",
   "metadata": {},
   "source": [
    "**Load TensorBoard**"
   ]
  },
  {
   "cell_type": "code",
   "execution_count": 8,
   "metadata": {},
   "outputs": [],
   "source": [
    "## Load TensorBoard notebook extension ##\n",
    "%load_ext tensorboard"
   ]
  },
  {
   "cell_type": "code",
   "execution_count": 9,
   "metadata": {},
   "outputs": [],
   "source": [
    "## Load additional libraries needed ##\n",
    "from datetime import datetime\n",
    "from IPython.display import clear_output, Image, display, HTML\n",
    "import os\n",
    "import pathlib\n",
    "\n",
    "t = datetime.utcnow().strftime(\"%Y%m%d%H%M%S\") \n",
    "log_dir = \"tf_logs\"\n",
    "logd = \"/tmp/{}/r{}/\".format(log_dir, t)"
   ]
  },
  {
   "cell_type": "markdown",
   "metadata": {},
   "source": [
    "**Clear TensorBoard Logs**"
   ]
  },
  {
   "cell_type": "code",
   "execution_count": 10,
   "metadata": {},
   "outputs": [],
   "source": [
    "## Clear any logs from previous runs ##\n",
    "!rm -rf ./logs/"
   ]
  },
  {
   "cell_type": "markdown",
   "metadata": {},
   "source": [
    "<br>\n",
    "\n",
    "#### **1.2.2 Confirm TensorBoard is running**\n",
    "\n",
    "**Note:** The purpose of this section is only to highlight some of the commands for using TensorBoard. The [**MNIST**](https://en.wikipedia.org/wiki/MNIST_database) data set used here, is only for the purposes of highlighting functionality which on this case depends on the [**Keras**](https://keras.io/) library.\n",
    "\n",
    "___"
   ]
  },
  {
   "cell_type": "code",
   "execution_count": 11,
   "metadata": {},
   "outputs": [],
   "source": [
    "# from Keras datasets import mnist\n",
    "mnist = tf.keras.datasets.mnist\n",
    "\n",
    "# load data into training and testing splits\n",
    "(x_train, y_train),(x_test, y_test) = mnist.load_data()\n",
    "x_train, x_test = x_train / 255.0, x_test / 255.0\n",
    "\n",
    "# create a sequential model\n",
    "def create_model():\n",
    "  return tf.keras.models.Sequential([\n",
    "    tf.keras.layers.Flatten(input_shape=(28, 28)),\n",
    "    tf.keras.layers.Dense(512, activation='relu'),\n",
    "    tf.keras.layers.Dropout(0.2),\n",
    "    tf.keras.layers.Dense(10, activation='softmax')\n",
    "  ])"
   ]
  },
  {
   "cell_type": "markdown",
   "metadata": {},
   "source": [
    "___\n",
    "\n",
    "**Note:** Click on the following to learn more about the command:\n",
    ">[```keras.model.sequential( )```](https://keras.io/api/models/sequential/)<br>\n",
    ">[```keras.layers.Flatten( )```](https://www.tensorflow.org/api_docs/python/tf/keras/layers/Flatten)<br>\n",
    ">[```keras.layers.Dense( ) ```](https://www.tensorflow.org/api_docs/python/tf/keras/layers/Dense)<br>\n",
    ">[```keras.layers.Dropout( )```](https://www.tensorflow.org/api_docs/python/tf/keras/layers/Dropout)\n",
    "    \n",
    "___"
   ]
  },
  {
   "cell_type": "markdown",
   "metadata": {},
   "source": [
    "**Add Tensorboard callbacks**"
   ]
  },
  {
   "cell_type": "code",
   "execution_count": 12,
   "metadata": {},
   "outputs": [
    {
     "name": "stdout",
     "output_type": "stream",
     "text": [
      "Epoch 1/3\n",
      "1875/1875 [==============================] - 7s 4ms/step - loss: 0.2187 - accuracy: 0.9347 - val_loss: 0.1027 - val_accuracy: 0.9696\n",
      "Epoch 2/3\n",
      "1875/1875 [==============================] - 7s 4ms/step - loss: 0.0968 - accuracy: 0.9707 - val_loss: 0.0803 - val_accuracy: 0.9749\n",
      "Epoch 3/3\n",
      "1875/1875 [==============================] - 7s 4ms/step - loss: 0.0689 - accuracy: 0.9790 - val_loss: 0.0678 - val_accuracy: 0.9801\n"
     ]
    },
    {
     "data": {
      "text/plain": [
       "<tensorflow.python.keras.callbacks.History at 0x7ffb53061780>"
      ]
     },
     "execution_count": 12,
     "metadata": {},
     "output_type": "execute_result"
    }
   ],
   "source": [
    "# instantiate model class\n",
    "model = create_model()\n",
    "\n",
    "# compile model \n",
    "model.compile(optimizer='adam',\n",
    "              loss='sparse_categorical_crossentropy',\n",
    "              metrics=['accuracy'])\n",
    "\n",
    "# place logs in a timestamped subdirectory and enable histogram computation with every epoch\n",
    "log_dir = \"logs/fit/\" + datetime.now().strftime(\"%Y%m%d-%H%M%S\")\n",
    "tensorboard_callback = tf.keras.callbacks.TensorBoard(log_dir=log_dir, histogram_freq=1)\n",
    "\n",
    "\n",
    "# Fit model\n",
    "model.fit(x=x_train, \n",
    "          y=y_train, \n",
    "          epochs=3, \n",
    "          validation_data=(x_test, y_test), \n",
    "          # Adding 'callbacks=[tensorboard_callback]' to model.fit( ) ensures that logs are created and stored\n",
    "          callbacks=[tensorboard_callback])"
   ]
  },
  {
   "cell_type": "markdown",
   "metadata": {},
   "source": [
    "___\n",
    "\n",
    "**Note:** Click on the following to learn more about the command:\n",
    ">[```model.compile( )```](https://keras.io/api/models/model/)<br>\n",
    ">[```callbacks.TensorBoard( )```](https://keras.io/api/callbacks/)<br>\n",
    ">[```model.fit( ) ```](https://keras.io/api/models/model_training_apis/)\n",
    "    \n",
    "___"
   ]
  },
  {
   "cell_type": "markdown",
   "metadata": {},
   "source": [
    "**Display Tensorboard Logs**"
   ]
  },
  {
   "cell_type": "code",
   "execution_count": 13,
   "metadata": {},
   "outputs": [
    {
     "data": {
      "text/plain": [
       "Reusing TensorBoard on port 6006 (pid 4823), started 9:42:13 ago. (Use '!kill 4823' to kill it.)"
      ]
     },
     "metadata": {},
     "output_type": "display_data"
    },
    {
     "data": {
      "text/html": [
       "\n",
       "      <iframe id=\"tensorboard-frame-5d5a376a925aec8\" width=\"100%\" height=\"800\" frameborder=\"0\">\n",
       "      </iframe>\n",
       "      <script>\n",
       "        (function() {\n",
       "          const frame = document.getElementById(\"tensorboard-frame-5d5a376a925aec8\");\n",
       "          const url = new URL(\"/\", window.location);\n",
       "          url.port = 6006;\n",
       "          frame.src = url;\n",
       "        })();\n",
       "      </script>\n",
       "  "
      ],
      "text/plain": [
       "<IPython.core.display.HTML object>"
      ]
     },
     "metadata": {},
     "output_type": "display_data"
    }
   ],
   "source": [
    "## %tensorboard line magic. In command line run same command without \"%\" ##\n",
    "%tensorboard --logdir logs/fit"
   ]
  },
  {
   "cell_type": "markdown",
   "metadata": {},
   "source": [
    "___\n",
    "**Note:** if TensorBoard does not load after following the above command, try reloading TensordBoard ```%load_ext tensorboard``` \n",
    "___"
   ]
  },
  {
   "cell_type": "markdown",
   "metadata": {},
   "source": [
    "<a id='Part_1_3'></a>\n",
    "\n",
    "<hr style=\"border: 1px solid#003262;\" />\n",
    "\n",
    "#### PART 1.3: TENSORFLOW TENSORS\n",
    "\n",
    "<br>\n",
    "\n",
    "<div align=\"center\" style=\"font-size:12px; font-family:FreeMono; font-weight: 100; font-stretch:ultra-condensed; line-height: 1.0; color:#2A2C2B\">\n",
    "    <img src=\"/assets/content/images/DELETE-01_scalar_to_tensor.png\" align=\"center\" width=\"50%\" padding=\"10px\"><br>\n",
    "    <br>\n",
    "</div>\n",
    "\n",
    "[**Tensors**](https://www.tensorflow.org/api_docs/python/tf/Tensor) are immutable multidimensional arrays for working with data with more than 2-Dimensions. Tensors essentially multilinear maps from vector spaces to real numbers. Hence a tensor can be used to represent scalars, vectors, and matrices. Moreover, tensors are [**highly efficient**](https://realpython.com/numpy-tensorflow-performance/), can be ran on several architectures (CPUs, GPUs, Mobile, and Distributed), and make the calculation of gradients easier -- this is particulary useful as the analytical solution of gradients are extremely tedious to derive. To view the complete list of TensorFlow data types, see [here](https://www.tensorflow.org/api_docs/python/tf/dtypes/DType)."
   ]
  },
  {
   "cell_type": "markdown",
   "metadata": {},
   "source": [
    "<br>\n",
    "\n",
    "#### **1.3.1 tf.constant**\n",
    "\n",
    "___"
   ]
  },
  {
   "cell_type": "markdown",
   "metadata": {},
   "source": [
    "<br>\n",
    "\n",
    "[**Constants**](https://www.tensorflow.org/api_docs/python/tf/constant) are tensors, are initialized directly, and are immutable once created. In order to evaluate them, we have to run them in a [**session**](https://www.tensorflow.org/api_docs/java/reference/org/tensorflow/Session), shown below, or can be displayed using [**eager execution**](https://www.tensorflow.org/guide/eager) without a session."
   ]
  },
  {
   "cell_type": "markdown",
   "metadata": {},
   "source": [
    "<div align=\"center\" style=\"font-size:12px; font-family:FreeMono; font-weight: 100; font-stretch:ultra-condensed; line-height: 1.0; color:#2A2C2B\">\n",
    "    <img src=\"/assets/content/images/DELETE_01a_scalar.png\" align=\"center\" width=\"10%\" padding=\"10px\"><br>\n",
    "    <br>\n",
    "    Scalar (Rank-0) Tensor\n",
    "</div>"
   ]
  },
  {
   "cell_type": "code",
   "execution_count": 14,
   "metadata": {},
   "outputs": [],
   "source": [
    "# int32 tensors by default\n",
    "rank_0_tensor = tf.constant(4)\n",
    "b = tf.constant(5)"
   ]
  },
  {
   "cell_type": "code",
   "execution_count": 18,
   "metadata": {},
   "outputs": [
    {
     "data": {
      "text/plain": [
       "4"
      ]
     },
     "execution_count": 18,
     "metadata": {},
     "output_type": "execute_result"
    }
   ],
   "source": [
    "rank_0_tensor.numpy()"
   ]
  },
  {
   "cell_type": "code",
   "execution_count": 19,
   "metadata": {},
   "outputs": [
    {
     "data": {
      "text/plain": [
       "7.2"
      ]
     },
     "execution_count": 19,
     "metadata": {},
     "output_type": "execute_result"
    }
   ],
   "source": [
    "# tensors can also have names (in the computation graph)\n",
    "named_tensor = tf.constant(7.2, name='my_named_tuple')\n",
    "named_tensor.numpy()"
   ]
  },
  {
   "cell_type": "markdown",
   "metadata": {},
   "source": [
    "<div align=\"center\" style=\"font-size:12px; font-family:FreeMono; font-weight: 100; font-stretch:ultra-condensed; line-height: 1.0; color:#2A2C2B\">\n",
    "    <img src=\"/assets/content/images/DELETE_01b_vector.png\" align=\"center\" width=\"10%\" padding=\"10px\"><br>\n",
    "    <br>\n",
    "    Vector (Rank-1) Tensor\n",
    "</div>"
   ]
  },
  {
   "cell_type": "code",
   "execution_count": 20,
   "metadata": {},
   "outputs": [
    {
     "name": "stdout",
     "output_type": "stream",
     "text": [
      "tf.Tensor([2. 3. 4.], shape=(3,), dtype=float32)\n"
     ]
    }
   ],
   "source": [
    "# float vector tensor\n",
    "rank_1_tensor = tf.constant([2.0, 3.0, 4.0])\n",
    "print(rank_1_tensor)"
   ]
  },
  {
   "cell_type": "code",
   "execution_count": 21,
   "metadata": {},
   "outputs": [
    {
     "name": "stdout",
     "output_type": "stream",
     "text": [
      "Cannot assign contstants\n"
     ]
    }
   ],
   "source": [
    "# Contant Tensors are immutable\n",
    "try:\n",
    "    rank_1_tensor.assign(8)\n",
    "except:\n",
    "    print('Cannot assign contstants')"
   ]
  },
  {
   "cell_type": "markdown",
   "metadata": {},
   "source": [
    "<br>\n",
    "\n",
    "#### **1.3.2 tf.Variable**\n",
    "\n",
    "___"
   ]
  },
  {
   "cell_type": "markdown",
   "metadata": {},
   "source": [
    "A [**variable**](https://www.tensorflow.org/guide/variable) is the recommended way to represent data manipulated by your program. Variables are usually weights and biases of a model that are optimized during training, they also indicate the degrees of freedom of the model (what model parameters that can change, thus making the model flexible). The following covers how to create, update, and manage instances of [```tf.variable```](https://www.tensorflow.org/api_docs/python/tf/Variable)."
   ]
  },
  {
   "cell_type": "code",
   "execution_count": 22,
   "metadata": {},
   "outputs": [
    {
     "data": {
      "text/plain": [
       "<tf.Variable 'Variable:0' shape=() dtype=float32, numpy=3.0>"
      ]
     },
     "execution_count": 22,
     "metadata": {},
     "output_type": "execute_result"
    }
   ],
   "source": [
    "# Create variable tensor\n",
    "var = tf.Variable(3.)\n",
    "var"
   ]
  },
  {
   "cell_type": "code",
   "execution_count": 23,
   "metadata": {},
   "outputs": [
    {
     "data": {
      "text/plain": [
       "<tf.Variable 'Variable:0' shape=() dtype=float32, numpy=4.0>"
      ]
     },
     "execution_count": 23,
     "metadata": {},
     "output_type": "execute_result"
    }
   ],
   "source": [
    "# Reassign the value of a Variable\n",
    "var.assign(4)\n",
    "var"
   ]
  },
  {
   "cell_type": "markdown",
   "metadata": {},
   "source": [
    "<br>\n",
    "\n",
    "**Multidimensional Tensors**"
   ]
  },
  {
   "cell_type": "markdown",
   "metadata": {},
   "source": [
    "<div align=\"center\" style=\"font-size:12px; font-family:FreeMono; font-weight: 100; font-stretch:ultra-condensed; line-height: 1.0; color:#2A2C2B\">\n",
    "    <img src=\"/assets/content/images/DELETE_01c_matrix.png\" align=\"center\" width=\"10%\" padding=\"10px\"><br>\n",
    "    <br>\n",
    "    Matrix (Rank-2) Tensor\n",
    "</div>"
   ]
  },
  {
   "cell_type": "code",
   "execution_count": 25,
   "metadata": {},
   "outputs": [
    {
     "name": "stdout",
     "output_type": "stream",
     "text": [
      "tf.Tensor(\n",
      "[[1. 2.]\n",
      " [3. 4.]\n",
      " [5. 6.]], shape=(3, 2), dtype=float16)\n"
     ]
    }
   ],
   "source": [
    "# tensors can be n-arrays, and we can specity data type\n",
    "rank_2_tensor = tf.constant([[1, 2],\n",
    "                             [3, 4],\n",
    "                             [5, 6]], dtype=tf.float16)\n",
    "print(rank_2_tensor)"
   ]
  },
  {
   "cell_type": "code",
   "execution_count": 26,
   "metadata": {},
   "outputs": [
    {
     "data": {
      "text/plain": [
       "<tf.Variable 'Variable:0' shape=(3, 1) dtype=float64, numpy=\n",
       "array([[-0.83351955],\n",
       "       [-1.46177409],\n",
       "       [ 0.79506919]])>"
      ]
     },
     "execution_count": 26,
     "metadata": {},
     "output_type": "execute_result"
    }
   ],
   "source": [
    "# we can also create multi dim Variables directly\n",
    "c = tf.Variable(np.random.randn(3).reshape(3,1)) #reshape\n",
    "# automatically assings data type\n",
    "c #"
   ]
  },
  {
   "cell_type": "code",
   "execution_count": 27,
   "metadata": {},
   "outputs": [
    {
     "data": {
      "text/plain": [
       "<tf.Variable 'Variable:0' shape=(2, 2) dtype=float32, numpy=\n",
       "array([[1., 2.],\n",
       "       [3., 4.]], dtype=float32)>"
      ]
     },
     "execution_count": 27,
     "metadata": {},
     "output_type": "execute_result"
    }
   ],
   "source": [
    "# Altenatively, we can pass Python Lists or NumPy arrays\n",
    "my_tensor = tf.constant([[1.0, 2.0], [3.0, 4.0]])\n",
    "my_var = tf.Variable(my_tensor)\n",
    "my_var"
   ]
  },
  {
   "cell_type": "code",
   "execution_count": 28,
   "metadata": {},
   "outputs": [
    {
     "name": "stdout",
     "output_type": "stream",
     "text": [
      "\n",
      "name  :  Variable:0\n",
      "\n",
      "type  :  <dtype: 'float32'>\n",
      "\n",
      "shape :  (2, 2)\n",
      "\n",
      "device:  /job:localhost/replica:0/task:0/device:CPU:0\n",
      "\n",
      "As NumPy:  <bound method BaseResourceVariable.numpy of <tf.Variable 'Variable:0' shape=(2, 2) dtype=float32, numpy=\n",
      "array([[1., 2.],\n",
      "       [3., 4.]], dtype=float32)>>\n"
     ]
    }
   ],
   "source": [
    "# view properties of tensor\n",
    "print('\\nname  : ', my_var.name)\n",
    "print('\\ntype  : ', my_var.dtype)\n",
    "print('\\nshape : ', my_var.shape)\n",
    "print('\\ndevice: ', my_var.device)\n",
    "print(\"\\nAs NumPy: \", my_var.numpy)"
   ]
  },
  {
   "cell_type": "code",
   "execution_count": 29,
   "metadata": {},
   "outputs": [
    {
     "name": "stdout",
     "output_type": "stream",
     "text": [
      "\n",
      "Viewed as a tensor: tf.Tensor(\n",
      "[[1. 2.]\n",
      " [3. 4.]], shape=(2, 2), dtype=float32)\n",
      "\n",
      "Index of highest value: tf.Tensor([1 1], shape=(2,), dtype=int64)\n"
     ]
    }
   ],
   "source": [
    "# Tensor operations\n",
    "print(\"\\nViewed as a tensor:\", tf.convert_to_tensor(my_var))\n",
    "print(\"\\nIndex of highest value:\", tf.argmax(my_var))"
   ]
  },
  {
   "cell_type": "markdown",
   "metadata": {},
   "source": [
    "<br>\n",
    "\n",
    "<div align=\"center\" style=\"font-size:12px; font-family:FreeMono; font-weight: 100; font-stretch:ultra-condensed; line-height: 1.0; color:#2A2C2B\">\n",
    "    <img src=\"/assets/content/images/DELETE_01d_3D_tensor.png\" align=\"center\" width=\"50%\" padding=\"10px\"><br>\n",
    "    <br>\n",
    "    3D (Rank-3) Tensor\n",
    "</div>"
   ]
  },
  {
   "cell_type": "code",
   "execution_count": 30,
   "metadata": {},
   "outputs": [
    {
     "name": "stdout",
     "output_type": "stream",
     "text": [
      "tf.Tensor(\n",
      "[[[ 0  1  2  3  4]\n",
      "  [ 5  6  7  8  9]]\n",
      "\n",
      " [[10 11 12 13 14]\n",
      "  [15 16 17 18 19]]\n",
      "\n",
      " [[20 21 22 23 24]\n",
      "  [25 26 27 28 29]]], shape=(3, 2, 5), dtype=int32)\n"
     ]
    }
   ],
   "source": [
    "# Tensors with 3 or more axes (dimensions)\n",
    "rank_3_tensor = tf.constant([\n",
    "  [[0, 1, 2, 3, 4],\n",
    "   [5, 6, 7, 8, 9]],\n",
    "  [[10, 11, 12, 13, 14],\n",
    "   [15, 16, 17, 18, 19]],\n",
    "  [[20, 21, 22, 23, 24],\n",
    "   [25, 26, 27, 28, 29]],])\n",
    "                    \n",
    "print(rank_3_tensor)"
   ]
  },
  {
   "cell_type": "markdown",
   "metadata": {},
   "source": [
    "<br>\n",
    "\n",
    "**Tensor Variable Assignments**"
   ]
  },
  {
   "cell_type": "code",
   "execution_count": 31,
   "metadata": {},
   "outputs": [
    {
     "name": "stdout",
     "output_type": "stream",
     "text": [
      "\n",
      "Copying and reshaping (this creates a new tensor):  tf.Tensor([[1. 2. 3. 4.]], shape=(1, 4), dtype=float32)\n"
     ]
    }
   ],
   "source": [
    "# This creates a new tensor; it does not reshape my_var.\n",
    "print(\"\\nCopying and reshaping (this creates a new tensor): \", tf.reshape(my_var, ([1,4])))"
   ]
  },
  {
   "cell_type": "code",
   "execution_count": 32,
   "metadata": {},
   "outputs": [
    {
     "name": "stdout",
     "output_type": "stream",
     "text": [
      "ValueError: Shapes (2,) and (3,) are incompatible\n"
     ]
    }
   ],
   "source": [
    "## Sanity Check ##\n",
    "\n",
    "d = tf.Variable([4.0, 5.5])\n",
    "# This will keep the same dtype, float32\n",
    "d.assign([10, 20]) \n",
    "\n",
    "# Fails, as it resizes the variable \n",
    "try:\n",
    "  d.assign([1.0, 2.0, 3.0])\n",
    "except Exception as exc:\n",
    "  print(f\"{type(exc).__name__}: {exc}\")"
   ]
  },
  {
   "cell_type": "markdown",
   "metadata": {},
   "source": [
    "___\n",
    "\n",
    "**Note:** Calling ```assign( )``` does not, usually, allocate a new tensor -- instead the tensor's memory is reused.\n",
    "\n",
    "___"
   ]
  },
  {
   "cell_type": "code",
   "execution_count": 33,
   "metadata": {},
   "outputs": [
    {
     "name": "stdout",
     "output_type": "stream",
     "text": [
      "[10. 20.]\n",
      "[10. 20.]\n"
     ]
    }
   ],
   "source": [
    "## Sanity Check ##\n",
    "\n",
    "# Create a new variable based on valued of d\n",
    "e = tf.Variable(d)\n",
    "# make assignment\n",
    "d.assign([10, 20]) \n",
    "\n",
    "# a and b are different\n",
    "print(e.numpy())\n",
    "print(d.numpy())"
   ]
  },
  {
   "cell_type": "code",
   "execution_count": 34,
   "metadata": {},
   "outputs": [
    {
     "name": "stdout",
     "output_type": "stream",
     "text": [
      "\n",
      "original value:  3.0\n",
      "\n",
      "assigned value:  10.0\n",
      "\n",
      "add 1: 11.0\n",
      "\n",
      "subtract 5: 6.0\n",
      "\n",
      "Increase/Decrease values in arrays\n",
      "original value:  [10. 20.]\n",
      "\n",
      "add [1,4]:  [11. 24.]\n",
      "\n",
      "subtract [3,5] [ 8. 19.]\n"
     ]
    }
   ],
   "source": [
    "# Inplace increase/decrease variable values\n",
    "\n",
    "f = tf.Variable(3.)\n",
    "print('\\noriginal value: ', f.numpy())\n",
    "f.assign(10)\n",
    "print('\\nassigned value: ', f.numpy())\n",
    "print('\\nadd 1:', f.assign_add(1.).numpy())\n",
    "print('\\nsubtract 5:', f.assign_sub(5.).numpy())\n",
    "\n",
    "# same but for arrays\n",
    "print(\"\\nIncrease/Decrease values in arrays\")\n",
    "print('original value: ',e.numpy())      \n",
    "print('\\nadd [1,4]: ', e.assign_add([1,4]).numpy())  \n",
    "print('\\nsubtract [3,5]', e.assign_sub([3,5]).numpy())  \n"
   ]
  },
  {
   "cell_type": "markdown",
   "metadata": {},
   "source": [
    "<!--Navigate back to table of contents-->\n",
    "<div align=\"left\" style=\"text-align: left; background-color:#003262;\">\n",
    "    <span>\n",
    "        <hr style=\"border: 8px solid#003262;\" />\n",
    "        <a style=\"color:#FFFFFF; background-color:#003262; border:1px solid #FFFFFF; border-color:#FFFFFF;border-radius:0px;border-width:0px;display:inline-block;font-family:arial,helvetica,sans-serif;font-size:24px;letter-spacing:0px;line-height:20px;padding:24px 40px;text-align:left;text-decoration:none; align:left\"> \n",
    "            <strong>CONCEPT</strong> CHECK \n",
    "        </a>        \n",
    "    </span>\n",
    "\n",
    "</div>\n",
    "<!-------------------------------------->\n",
    "\n",
    "<br>\n",
    "\n",
    "<div align=\"center\" style=\"font-size:12px; font-family:FreeMono; font-weight: 100; font-stretch:ultra-condensed; line-height: 1.0; color:#2A2C2B\">\n",
    "    <img src=\"/assets/content/images/DELETE_01e_4D_tensor.png\" align=\"center\" width=\"40%\" padding=\"10px\"><br>\n",
    "    <br>\n",
    "    4D (Rank-4) Tensor\n",
    "</div>\n",
    "\n",
    "\n",
    "> **To test your understanding of Tensors, create the above Tensor. For simplicity, make all entries equal to zero and name your tensor as** ```rank_4_tensor``` **.** \n",
    "\n",
    "\n",
    "<hr style=\"border: 2px solid#003262;\" />"
   ]
  },
  {
   "cell_type": "code",
   "execution_count": 35,
   "metadata": {},
   "outputs": [],
   "source": [
    "# your code here\n",
    "\n",
    "\n"
   ]
  },
  {
   "cell_type": "code",
   "execution_count": 36,
   "metadata": {},
   "outputs": [],
   "source": [
    "## Sanity Check ##\n",
    "#print(\"\\nType of elements:\", rank_4_tensor.dtype)\n",
    "#print(\"\\nNumber of dimensions:\", rank_4_tensor.ndim)\n",
    "#print(\"\\nShape of tensor:\", rank_4_tensor.shape)\n",
    "#print(\"\\nElements along axis 0 of tensor:\", rank_4_tensor.shape[0])\n",
    "#print(\"\\nElements along the last axis of tensor:\", rank_4_tensor.shape[-1])\n",
    "#print(\"\\nTotal number of elements (3*2*4*5): \", tf.size(rank_4_tensor).numpy())"
   ]
  },
  {
   "cell_type": "markdown",
   "metadata": {},
   "source": [
    "<!--Navigate back to table of contents-->\n",
    "<br>\n",
    "<div alig=\"right\" style=\"text-align: right\">\n",
    "    <span>\n",
    "        <a style=\"color:#FFFFFF; background-color:#003262; border:1px solid #FFFFFF; border-color:#FFFFFF;border-radius:5px;border-width:0px;display:inline-block;font-family:arial,helvetica,sans-serif;font-size:10px;letter-spacing:0px;line-height:10px;padding:10px 20px;text-align:center;text-decoration:none; align:center\" href=\"#Part_table_contents\" name=\"Table of Contents\"  id=\"Part_table_contents\"> \n",
    "            Table of Contents \n",
    "        </a>\n",
    "    </span>\n",
    "</div>\n",
    "<!-------------------------------------->"
   ]
  },
  {
   "cell_type": "markdown",
   "metadata": {},
   "source": [
    "<br>\n",
    "\n",
    "#### **1.3.3 (Optional) Lifecycles, naming, and watching**\n",
    "\n",
    "___"
   ]
  },
  {
   "cell_type": "markdown",
   "metadata": {},
   "source": [
    "Similar to Python Objects, a ```tf.Variable``` instance has an [**object lifecyle**](https://en.wikipedia.org/wiki/Object_lifetime). For example, when there are no references to a variable it is automatically ignored and deallocated. Variable names are preserved when loading and saving models -- however, there is no need to assign them as variables in in models are uniquely named automatically."
   ]
  },
  {
   "cell_type": "code",
   "execution_count": 37,
   "metadata": {},
   "outputs": [],
   "source": [
    "# Altenatively, we can pass Python Lists or NumPy arrays\n",
    "my_tensor = tf.constant([[1.0, 2.0], [3.0, 4.0]])"
   ]
  },
  {
   "cell_type": "code",
   "execution_count": 38,
   "metadata": {},
   "outputs": [
    {
     "name": "stdout",
     "output_type": "stream",
     "text": [
      "tf.Tensor(\n",
      "[[False False]\n",
      " [False False]], shape=(2, 2), dtype=bool)\n"
     ]
    }
   ],
   "source": [
    "# Create a and b; they have the same value but are backed by different tensors.\n",
    "g = tf.Variable(my_tensor, name=\"Mark\")\n",
    "\n",
    "# A new variable with the same name, but different value\n",
    "h = tf.Variable(my_tensor + 1, name=\"Mark\")      # Note that the scalar add is broadcast (see intro_NUMPY for details)\n",
    "\n",
    "# These are elementwise-unequal, despite having the same name\n",
    "print(g == h)"
   ]
  },
  {
   "cell_type": "markdown",
   "metadata": {},
   "source": [
    "<br>\n",
    "\n",
    "#### **1.3.4 (Optional) Placing variables and tensors**\n",
    "\n",
    "___"
   ]
  },
  {
   "cell_type": "markdown",
   "metadata": {},
   "source": [
    "TensorFlow will always attempt to place tensors and variables on the fastest device compatible with the ```dtype```. However, this too is a process that can be overriden if desired. The following shows an example of such an instance. In particular, a float tensor and variable are placed on a CPU even if a GPU is available -- most variables are placed on a GPU if one is available. For more details on placing variables and tensors, see [here](https://www.tensorflow.org/guide/variable)."
   ]
  },
  {
   "cell_type": "code",
   "execution_count": 39,
   "metadata": {},
   "outputs": [
    {
     "name": "stdout",
     "output_type": "stream",
     "text": [
      "tf.Tensor(\n",
      "[[22. 28.]\n",
      " [49. 64.]], shape=(2, 2), dtype=float32)\n"
     ]
    }
   ],
   "source": [
    "with tf.device('CPU:0'):\n",
    "\n",
    "  # Create some tensors\n",
    "  i = tf.Variable([[1.0, 2.0, 3.0], [4.0, 5.0, 6.0]])\n",
    "  j = tf.constant([[1.0, 2.0], [3.0, 4.0], [5.0, 6.0]])\n",
    "  k = tf.matmul(i, j)\n",
    "\n",
    "print(k)"
   ]
  },
  {
   "cell_type": "markdown",
   "metadata": {},
   "source": [
    "___\n",
    "\n",
    "**Note:** Placing variables is an important aspect of TF. This is because it is possible to set the location of a variable or tensor on one device, yet do the computation on another device. This may introduce delay when devices communicate with one-another, but should you want to have multiple GPU workers yet only one copy of the variables this approach is worth considering. See [**automatic distribution**](https://www.tensorflow.org/guide/autodiff) for details.\n",
    "\n",
    "\n",
    "___"
   ]
  },
  {
   "cell_type": "code",
   "execution_count": 40,
   "metadata": {},
   "outputs": [
    {
     "name": "stdout",
     "output_type": "stream",
     "text": [
      "tf.Tensor(\n",
      "[[ 1.  4.  9.]\n",
      " [ 4. 10. 18.]], shape=(2, 3), dtype=float32)\n"
     ]
    }
   ],
   "source": [
    "with tf.device('CPU:0'):\n",
    "  l = tf.Variable([[1.0, 2.0, 3.0], [4.0, 5.0, 6.0]])\n",
    "  m = tf.Variable([[1.0, 2.0, 3.0]])\n",
    "    \n",
    "with tf.device('GPU:0'):\n",
    "  # Element-wise multiply\n",
    "  n = l * m\n",
    "\n",
    "print(n)"
   ]
  },
  {
   "cell_type": "markdown",
   "metadata": {},
   "source": [
    "___\n",
    "\n",
    "**Note:** [tf.config.set_soft_device_placement](https://www.tensorflow.org/api_docs/python/tf/config/set_soft_device_placement) is on by default. If you run the code above on a device witout a GPU, the multiplication will be ran on the CPU.\n",
    "    \n",
    "___"
   ]
  },
  {
   "cell_type": "markdown",
   "metadata": {},
   "source": [
    "<a id='Part_1_4'></a>\n",
    "\n",
    "<hr style=\"border: 1px solid#003262;\" />\n",
    "\n",
    "#### PART 1.4: TENSORFLOW OPERATIONS\n",
    "<br>\n",
    "\n",
    "<div align=\"center\" style=\"font-size:12px; font-family:FreeMono; font-weight: 100; font-stretch:ultra-condensed; line-height: 1.0; color:#2A2C2B\">\n",
    "    <img src=\"/assets/content/images/DELETE-02_tensorflow_operation.png\" align=\"center\" width=\"40%\" padding=\"0px\"><br>\n",
    "    <br>\n",
    "</div>"
   ]
  },
  {
   "cell_type": "markdown",
   "metadata": {},
   "source": [
    "<br>\n",
    "\n",
    "#### **1.4.1 Basic Arithmetic on Tensors**\n",
    "\n",
    "___"
   ]
  },
  {
   "cell_type": "code",
   "execution_count": 41,
   "metadata": {},
   "outputs": [],
   "source": [
    "a = tf.constant([[1, 2],\n",
    "                 [3, 4]])\n",
    "b = tf.constant([[10, 20],\n",
    "                 [30, 40]]) "
   ]
  },
  {
   "cell_type": "code",
   "execution_count": 42,
   "metadata": {},
   "outputs": [
    {
     "name": "stdout",
     "output_type": "stream",
     "text": [
      "tf.Tensor(\n",
      "[[11 22]\n",
      " [33 44]], shape=(2, 2), dtype=int32)\n"
     ]
    }
   ],
   "source": [
    "# Addition\n",
    "print(tf.add(a, b))"
   ]
  },
  {
   "cell_type": "code",
   "execution_count": 43,
   "metadata": {},
   "outputs": [
    {
     "name": "stdout",
     "output_type": "stream",
     "text": [
      "tf.Tensor(\n",
      "[[11 22]\n",
      " [33 44]], shape=(2, 2), dtype=int32)\n"
     ]
    }
   ],
   "source": [
    "# Alternatively, element-wise addition\n",
    "print(a + b)"
   ]
  },
  {
   "cell_type": "code",
   "execution_count": 44,
   "metadata": {},
   "outputs": [
    {
     "name": "stdout",
     "output_type": "stream",
     "text": [
      "tf.Tensor(\n",
      "[[ 10  40]\n",
      " [ 90 160]], shape=(2, 2), dtype=int32)\n"
     ]
    }
   ],
   "source": [
    "# Element-wise multiplication\n",
    "print(tf.multiply(a, b))"
   ]
  },
  {
   "cell_type": "code",
   "execution_count": 45,
   "metadata": {},
   "outputs": [
    {
     "name": "stdout",
     "output_type": "stream",
     "text": [
      "tf.Tensor(\n",
      "[[ 10  40]\n",
      " [ 90 160]], shape=(2, 2), dtype=int32)\n"
     ]
    }
   ],
   "source": [
    "# Alternatively, element-wise multiplication\n",
    "print(a * b)"
   ]
  },
  {
   "cell_type": "code",
   "execution_count": 46,
   "metadata": {},
   "outputs": [
    {
     "name": "stdout",
     "output_type": "stream",
     "text": [
      "tf.Tensor(\n",
      "[[ 70 100]\n",
      " [150 220]], shape=(2, 2), dtype=int32)\n"
     ]
    }
   ],
   "source": [
    "# Matrix multiplication\n",
    "print(tf.matmul(a, b))"
   ]
  },
  {
   "cell_type": "code",
   "execution_count": 47,
   "metadata": {},
   "outputs": [
    {
     "name": "stdout",
     "output_type": "stream",
     "text": [
      "tf.Tensor(\n",
      "[[ 70 100]\n",
      " [150 220]], shape=(2, 2), dtype=int32) \n",
      "\n"
     ]
    }
   ],
   "source": [
    "# Alternatively, Matrix multiplication\n",
    "print(a @ b, \"\\n\")"
   ]
  },
  {
   "cell_type": "markdown",
   "metadata": {},
   "source": [
    "<br>\n",
    "\n",
    "#### **1.4.2 Operations on Tensors**\n",
    "\n",
    "___"
   ]
  },
  {
   "cell_type": "code",
   "execution_count": 49,
   "metadata": {},
   "outputs": [],
   "source": [
    "c = tf.constant([[3.0, 7.0], [10.0, 2.0]])"
   ]
  },
  {
   "cell_type": "code",
   "execution_count": 50,
   "metadata": {},
   "outputs": [
    {
     "name": "stdout",
     "output_type": "stream",
     "text": [
      "tf.Tensor(10.0, shape=(), dtype=float32)\n"
     ]
    }
   ],
   "source": [
    "# Find the largest value\n",
    "print(tf.reduce_max(c))"
   ]
  },
  {
   "cell_type": "code",
   "execution_count": 51,
   "metadata": {},
   "outputs": [
    {
     "name": "stdout",
     "output_type": "stream",
     "text": [
      "tf.Tensor([1 0], shape=(2,), dtype=int64)\n"
     ]
    }
   ],
   "source": [
    "# Find the index of the largest value\n",
    "print(tf.argmax(c))"
   ]
  },
  {
   "cell_type": "code",
   "execution_count": 52,
   "metadata": {},
   "outputs": [
    {
     "name": "stdout",
     "output_type": "stream",
     "text": [
      "tf.Tensor(\n",
      "[[1.7986210e-02 9.8201376e-01]\n",
      " [9.9966466e-01 3.3535014e-04]], shape=(2, 2), dtype=float32)\n"
     ]
    }
   ],
   "source": [
    "# Compute the softmax\n",
    "print(tf.nn.softmax(c))"
   ]
  },
  {
   "cell_type": "markdown",
   "metadata": {},
   "source": [
    "<br>\n",
    "\n",
    "#### **1.3.2 Data Selection: Indexing and Slicing a DataFrame**\n",
    "\n",
    ">[Indexing DataFrames](https://pandas.pydata.org/pandas-docs/stable/user_guide/indexing.html#different-choices-for-indexing)<br>\n",
    ">[Range Slicing DataFrames](https://pandas.pydata.org/pandas-docs/stable/user_guide/indexing.html#slicing-ranges)\n",
    "\n",
    "___"
   ]
  },
  {
   "cell_type": "markdown",
   "metadata": {},
   "source": [
    "**Attribute Access**"
   ]
  },
  {
   "cell_type": "code",
   "execution_count": 233,
   "metadata": {},
   "outputs": [
    {
     "data": {
      "text/plain": [
       "1    1.764052\n",
       "2    0.400157\n",
       "3    0.978738\n",
       "Name: a1, dtype: float64"
      ]
     },
     "execution_count": 233,
     "metadata": {},
     "output_type": "execute_result"
    }
   ],
   "source": []
  },
  {
   "cell_type": "code",
   "execution_count": null,
   "metadata": {},
   "outputs": [],
   "source": []
  },
  {
   "cell_type": "code",
   "execution_count": null,
   "metadata": {},
   "outputs": [],
   "source": []
  },
  {
   "cell_type": "code",
   "execution_count": null,
   "metadata": {},
   "outputs": [],
   "source": []
  },
  {
   "cell_type": "markdown",
   "metadata": {},
   "source": [
    "<a id='Part_1_5'></a>\n",
    "\n",
    "<hr style=\"border: 1px solid#003262;\" />\n",
    "\n",
    "#### PART 1.5 (OPTIONAL): EAGER EXECUTION\n",
    "\n",
    "<br>\n",
    "\n",
    "[**Eager Execution**](https://www.tensorflow.org/guide/eager) is an imperative programming environment for TensorFlow that evaluates operations immediately, without building graphs. Operations return concrete values instead of constructing a computational graph to run later. This makes it easy to get started with TensorFlow and debug models, and it reduces boilerplate as well. To get an overview of eager mode, check out [this](https://youtu.be/qTYQEXsBb_E) video from Google Cloud Platform. "
   ]
  },
  {
   "cell_type": "code",
   "execution_count": null,
   "metadata": {},
   "outputs": [],
   "source": [
    "# Enable Eager Execution\n",
    "# tf.enable_eager_execution"
   ]
  },
  {
   "cell_type": "code",
   "execution_count": null,
   "metadata": {},
   "outputs": [],
   "source": [
    "# Sanity Check\n",
    "# tf.executin_eagerly()"
   ]
  },
  {
   "cell_type": "markdown",
   "metadata": {},
   "source": [
    "<a id='Part_2'></a>\n",
    "\n",
    "<hr style=\"border: 2px solid#003262;\" />\n",
    "\n",
    "#### PART 2\n",
    "\n",
    "## **TENSORFLOW** GRAPHS, **AND** EXECUTIONS\n",
    "\n",
    "<br>\n",
    "\n",
    "<div align=\"center\" style=\"font-size:12px; font-family:FreeMono; font-weight: 100; font-stretch:ultra-condensed; line-height: 1.0; color:#2A2C2B\">\n",
    "    <img src=\"/assets/content/images/pandas_logo.png\" align=\"center\" width=\"15%\" padding=\"10\"><br>\n",
    "    <br>\n",
    "</div>\n",
    "\n",
    "<br>\n",
    "\n",
    "[**TODO**](https://pandas.pydata.org/pandas-docs/stable/index.html) TODO\n",
    "\n",
    "#### CONTENTS:\n",
    "\n",
    "> [PART 2.1: TENSORFLOW COMPUTATION GRAPHS](#Part_2_1)<br>\n",
    "> [PART 2.1: TENSORFLOW OPERATIONS](#Part_2_2)<br>\n",
    "> [PART 2.2: TO DO](#Part_2_3)<br>\n"
   ]
  },
  {
   "cell_type": "markdown",
   "metadata": {},
   "source": [
    "<a id='Part_2_1'></a>\n",
    "\n",
    "<hr style=\"border: 1px solid#003262;\" />\n",
    "\n",
    "#### PART 2.1: TENSORFLOW COMPUTATION GRAPHS\n",
    "<br>\n",
    "\n",
    "<div align=\"center\" style=\"font-size:12px; font-family:FreeMono; font-weight: 100; font-stretch:ultra-condensed; line-height: 1.0; color:#2A2C2B\">\n",
    "    <img src=\"/assets/content/images/DELETE-03_tensorflow_computation_graph.png\" align=\"center\" width=\"40%\" padding=\"0px\"><br>\n",
    "    <br>\n",
    "</div>"
   ]
  },
  {
   "cell_type": "markdown",
   "metadata": {},
   "source": [
    "<a id='Part_2_1'></a>\n",
    "\n",
    "<hr style=\"border: 1px solid#003262;\" />\n",
    "\n",
    "#### PART 2.1:TENSORFLOW OPERATIONS\n",
    "\n",
    "<br>\n",
    "\n",
    "<div align=\"center\" style=\"font-size:12px; font-family:FreeMono; font-weight: 100; font-stretch:ultra-condensed; line-height: 1.0; color:#2A2C2B\">\n",
    "    <img src=\"/assets/content/images/pandas-16.png\" align=\"center\" width=\"40%\" padding=\"0px\"><br>\n",
    "    <br>\n",
    "</div>\n",
    "\n",
    "<br>"
   ]
  },
  {
   "cell_type": "markdown",
   "metadata": {},
   "source": [
    "#### **2.1.0 Load Packages/Libraries**\n",
    "\n",
    "___"
   ]
  },
  {
   "cell_type": "code",
   "execution_count": 2,
   "metadata": {},
   "outputs": [],
   "source": []
  },
  {
   "cell_type": "markdown",
   "metadata": {},
   "source": [
    "<br>\n",
    "\n",
    "#### **2.2.1 Read Data Into DataFrame From CSV File**\n",
    "\n",
    "\n",
    "___"
   ]
  },
  {
   "cell_type": "code",
   "execution_count": 3,
   "metadata": {},
   "outputs": [],
   "source": []
  },
  {
   "cell_type": "markdown",
   "metadata": {},
   "source": [
    "<br>\n",
    "\n",
    "#### **2.2.2 Explore the Data**\n",
    "\n",
    "___"
   ]
  },
  {
   "cell_type": "code",
   "execution_count": 4,
   "metadata": {},
   "outputs": [
    {
     "name": "stdout",
     "output_type": "stream",
     "text": [
      "<class 'pandas.core.frame.DataFrame'>\n",
      "RangeIndex: 24 entries, 0 to 23\n",
      "Data columns (total 4 columns):\n",
      " #   Column  Non-Null Count  Dtype \n",
      "---  ------  --------------  ----- \n",
      " 0   Admit   24 non-null     object\n",
      " 1   Gender  24 non-null     object\n",
      " 2   Dept    24 non-null     object\n",
      " 3   Freq    24 non-null     int64 \n",
      "dtypes: int64(1), object(3)\n",
      "memory usage: 896.0+ bytes\n"
     ]
    }
   ],
   "source": []
  },
  {
   "cell_type": "markdown",
   "metadata": {},
   "source": [
    "<a id='Part_2_2'></a>\n",
    "\n",
    "<hr style=\"border: 1px solid#003262;\" />\n",
    "\n",
    "#### PART 2.2: TO DO\n",
    "\n",
    "<br>"
   ]
  },
  {
   "cell_type": "code",
   "execution_count": 30,
   "metadata": {},
   "outputs": [],
   "source": []
  },
  {
   "cell_type": "markdown",
   "metadata": {},
   "source": [
    "<!--Navigate back to table of contents-->\n",
    "<div alig=\"right\" style=\"text-align: right\">\n",
    "    <span>\n",
    "        <a style=\"color:#FFFFFF; background-color:#003262; border:1px solid #FFFFFF; border-color:#FFFFFF;border-radius:5px;border-width:0px;display:inline-block;font-family:arial,helvetica,sans-serif;font-size:10px;letter-spacing:0px;line-height:10px;padding:10px 20px;text-align:center;text-decoration:none; align:center\" href=\"#Part_table_contents\" name=\"Table of Contents\"  id=\"Part_table_contents\"> \n",
    "            Table of Contents \n",
    "        </a>\n",
    "    </span>\n",
    "</div>\n",
    "<!-------------------------------------->"
   ]
  },
  {
   "cell_type": "markdown",
   "metadata": {},
   "source": [
    "<a id='Part_3'></a>\n",
    "\n",
    "<hr style=\"border: 2px solid#003262;\" />\n",
    "\n",
    "#### PART 3 (OPTIONAL)\n",
    "\n",
    "## **TENSORFLOW** LINEAR **REGRESSION**\n",
    "\n",
    "<br>\n",
    "\n",
    "<div align=\"center\" style=\"font-size:12px; font-family:FreeMono; font-weight: 100; font-stretch:ultra-condensed; line-height: 1.0; color:#2A2C2B\">\n",
    "    <img src=\"/assets/content/images/pandas_logo.png\" align=\"center\" width=\"15%\" padding=\"10\"><br>\n",
    "    <br>\n",
    "</div>\n",
    "\n",
    "<br>\n",
    "\n",
    "[**TODO**](https://pandas.pydata.org/pandas-docs/stable/index.html) TODO\n",
    "\n",
    "#### CONTENTS:\n",
    "\n",
    "> [PART 3.1: CONSTRUCTION PHASE](#Part_3_1)<br>\n",
    "> [PART 3.2: EVALUATION PHASE](#Part_3_2)<br>\n",
    "> [PART 3.3: ACCURACY COMPARISON](#Part_3_3)"
   ]
  },
  {
   "cell_type": "markdown",
   "metadata": {},
   "source": [
    "<a id='Part_3_1'></a>\n",
    "\n",
    "<hr style=\"border: 1px solid#003262;\" />\n",
    "\n",
    "#### PART 3.1: CONSTRUCTION PHASE\n",
    "\n",
    "<br>\n",
    "\n",
    "<div align=\"center\" style=\"font-size:12px; font-family:FreeMono; font-weight: 100; font-stretch:ultra-condensed; line-height: 1.0; color:#2A2C2B\">\n",
    "    <img src=\"/assets/content/images/pandas-16.png\" align=\"center\" width=\"40%\" padding=\"0px\"><br>\n",
    "    <br>\n",
    "</div>\n",
    "\n",
    "<br>"
   ]
  },
  {
   "cell_type": "code",
   "execution_count": null,
   "metadata": {},
   "outputs": [],
   "source": []
  },
  {
   "cell_type": "code",
   "execution_count": null,
   "metadata": {},
   "outputs": [],
   "source": []
  },
  {
   "cell_type": "code",
   "execution_count": null,
   "metadata": {},
   "outputs": [],
   "source": []
  },
  {
   "cell_type": "markdown",
   "metadata": {},
   "source": [
    "<a id='Part_3_2'></a>\n",
    "\n",
    "<hr style=\"border: 1px solid#003262;\" />\n",
    "\n",
    "#### PART 3.2: EVALUATION PHASE\n",
    "\n",
    "<br>\n",
    "\n",
    "<div align=\"center\" style=\"font-size:12px; font-family:FreeMono; font-weight: 100; font-stretch:ultra-condensed; line-height: 1.0; color:#2A2C2B\">\n",
    "    <img src=\"/assets/content/images/pandas-16.png\" align=\"center\" width=\"40%\" padding=\"0px\"><br>\n",
    "    <br>\n",
    "</div>\n",
    "\n",
    "<br>"
   ]
  },
  {
   "cell_type": "code",
   "execution_count": null,
   "metadata": {},
   "outputs": [],
   "source": []
  },
  {
   "cell_type": "code",
   "execution_count": null,
   "metadata": {},
   "outputs": [],
   "source": []
  },
  {
   "cell_type": "code",
   "execution_count": null,
   "metadata": {},
   "outputs": [],
   "source": []
  },
  {
   "cell_type": "markdown",
   "metadata": {},
   "source": [
    "<a id='Part_3_3'></a>\n",
    "\n",
    "<hr style=\"border: 1px solid#003262;\" />\n",
    "\n",
    "#### PART 3.3: ACCURACY COMPARISON\n",
    "\n",
    "<br>\n",
    "\n",
    "<div align=\"center\" style=\"font-size:12px; font-family:FreeMono; font-weight: 100; font-stretch:ultra-condensed; line-height: 1.0; color:#2A2C2B\">\n",
    "    <img src=\"/assets/content/images/pandas-16.png\" align=\"center\" width=\"40%\" padding=\"0px\"><br>\n",
    "    <br>\n",
    "</div>\n",
    "\n",
    "<br>"
   ]
  },
  {
   "cell_type": "code",
   "execution_count": null,
   "metadata": {},
   "outputs": [],
   "source": []
  },
  {
   "cell_type": "code",
   "execution_count": null,
   "metadata": {},
   "outputs": [],
   "source": []
  },
  {
   "cell_type": "code",
   "execution_count": null,
   "metadata": {},
   "outputs": [],
   "source": []
  },
  {
   "cell_type": "markdown",
   "metadata": {},
   "source": [
    "<!--Navigate back to table of contents-->\n",
    "<div alig=\"right\" style=\"text-align: right\">\n",
    "    <span>\n",
    "        <a style=\"color:#FFFFFF; background-color:#003262; border:1px solid #FFFFFF; border-color:#FFFFFF;border-radius:5px;border-width:0px;display:inline-block;font-family:arial,helvetica,sans-serif;font-size:10px;letter-spacing:0px;line-height:10px;padding:10px 20px;text-align:center;text-decoration:none; align:center\" href=\"#Part_table_contents\" name=\"Table of Contents\"  id=\"Part_table_contents\"> \n",
    "            Table of Contents \n",
    "        </a>\n",
    "    </span>\n",
    "</div>\n",
    "<!-------------------------------------->"
   ]
  },
  {
   "cell_type": "markdown",
   "metadata": {},
   "source": [
    "<a id='Part_4'></a>\n",
    "\n",
    "<hr style=\"border: 2px solid#003262;\" />\n",
    "\n",
    "#### PART 4\n",
    "\n",
    "## **WRAP-UP** AND **NEXT** STEPS\n",
    "\n",
    "\n",
    "<div align=\"center\">\n",
    "    <img src= \"/assets/content/datax_logos/DataX_icon_wide_logo.png\" align=\"center\" width=\"80%\" padding=\"20\">\n",
    "</div>\n",
    "\n",
    "<br>\n",
    "\n",
    "As you may have started to notice, that there is much more than can be done using Flask. Wanting to learn other uses of Flask?  Visit the [**Data-X website**](https://datax.berkeley.edu/) to learn more, or use the following links to topics of interest:\n",
    "\n",
    "> [TODO (m---): url needed]() TODO TODO TODO <br>\n",
    "> [TODO (m---): url needed]() TODO TODO TODO <br>\n",
    "> [TODO (m---): url needed]() TODO TODO TODO\n",
    "\n",
    "\n",
    "\n",
    "<br>\n",
    "\n",
    "<br>\n"
   ]
  },
  {
   "cell_type": "markdown",
   "metadata": {},
   "source": [
    "<a id='Appendix_1'></a>\n",
    "\n",
    "<hr style=\"border: 6px solid#003262;\" />\n",
    "\n",
    "\n",
    "#### APPENDIX I\n",
    "\n",
    "\n",
    "## PREREQUISITE **KNOWLEDGE** AND **REQUIREMENTS**\n",
    "\n",
    "\n",
    "[**TODO**](https://pandas.pydata.org/about/) TODO TODO TODO\n",
    "\n",
    "##### **PYTHON**\n",
    "This notebook and the executable files are built using [**Python**](https://www.python.org/) and relies on common Python packages (e.g. [**NumPy**](https://numpy.org/)) for operation. If you have a lot of programming experience in a different language (e.g. C/C++/Matlab/Java/Javascript), you will likely be fine, otherwise:\n",
    "\n",
    "> [**Python (EDX free)**](https://www.edx.org/course?search_query=python)<br>\n",
    "> [**Python (Coursera free)**](https://www.coursera.org/search?query=python)\n",
    "\n",
    "\n",
    "##### **NUMPY**\n",
    "This notebook and the executable files are built using [**Python**](https://www.python.org/) and relies on common Python packages (e.g. [**NumPy**](https://numpy.org/)) for operation. If you have a lot of programming experience in a different language (e.g. C/C++/Matlab/Java/Javascript), you will likely be fine, otherwise:\n",
    "\n",
    "> [**Python (EDX free)**](https://www.edx.org/course?search_query=python)<br>\n",
    "> [**Python (Coursera free)**](https://www.coursera.org/search?query=python)\n",
    "\n",
    "\n",
    "##### **PANDAS**\n",
    "This notebook and the executable files are built using [**Python**](https://www.python.org/) and relies on common Python packages (e.g. [**NumPy**](https://numpy.org/)) for operation. If you have a lot of programming experience in a different language (e.g. C/C++/Matlab/Java/Javascript), you will likely be fine, otherwise:\n",
    "\n",
    "> [**Python (EDX free)**](https://www.edx.org/course?search_query=python)<br>\n",
    "> [**Python (Coursera free)**](https://www.coursera.org/search?query=python)\n",
    "\n",
    "\n",
    "##### **MACHINE LEARNING PROBLEM FRAMING**\n",
    "This notebook and the executable files are built using [**Python**](https://www.python.org/) and relies on common Python packages (e.g. [**NumPy**](https://numpy.org/)) for operation. If you have a lot of programming experience in a different language (e.g. C/C++/Matlab/Java/Javascript), you will likely be fine, otherwise:\n",
    "\n",
    "> [**Python (EDX free)**](https://www.edx.org/course?search_query=python)<br>\n",
    "> [**Python (Coursera free)**](https://www.coursera.org/search?query=python)\n",
    "\n",
    "\n",
    "##### **BASH**\n",
    "This notebook and the executable files are built using [**Python**](https://www.python.org/) and relies on common Python packages (e.g. [**NumPy**](https://numpy.org/)) for operation. If you have a lot of programming experience in a different language (e.g. C/C++/Matlab/Java/Javascript), you will likely be fine, otherwise:\n",
    "\n",
    "> [**Python (EDX free)**](https://www.edx.org/course?search_query=python)<br>\n",
    "> [**Python (Coursera free)**](https://www.coursera.org/search?query=python)"
   ]
  },
  {
   "cell_type": "markdown",
   "metadata": {},
   "source": [
    "<a id='Appendix_2'></a>\n",
    "\n",
    "<hr style=\"border: 2px solid#003262;\" />\n",
    "\n",
    "#### APPENDIX II\n",
    "\n",
    "\n",
    "## **REFERENCES** AND ADDITIONAL **RESOURCES**\n",
    "\n",
    "<br>\n",
    "\n",
    "\n",
    "> * [**TensorFlow Tutorials**](https://pandas.pydata.org/pandas-docs/stable/user_guide/index.html)\n",
    "\n",
    "> * [**TensorFlow Guide**](https://youtu.be/dcqPhpY7tWk) \n",
    "\n",
    "> * [**Introduction to TensorFlow by Andrew Ng and Kian Katanforoosh**](https://cs230.stanford.edu/blog/tensorflow/)\n",
    "\n",
    "> * [**Deep Learning Illustrated by Jon Krohn, Grant Beyleveld, and Aglae Bassens**](https://www.deeplearningillustrated.com/)\n",
    "\n",
    "> * [**Hands-On Introduction to TensorFlow 2.0 by Josh Gordon and Amit Patankar**](https://youtu.be/Yyv-ng0_OTU)\n",
    "\n",
    "> * [**Getting Started with TensorFlow and Deep Learning by Josh Gordon**](https://youtu.be/tYYVSEHq-io)"
   ]
  },
  {
   "cell_type": "markdown",
   "metadata": {},
   "source": [
    "<!--Navigate back to table of contents-->\n",
    "<div alig=\"right\" style=\"text-align: right\">\n",
    "    <span>\n",
    "        <a style=\"color:#FFFFFF; background-color:#003262; border:1px solid #FFFFFF; border-color:#FFFFFF;border-radius:5px;border-width:0px;display:inline-block;font-family:arial,helvetica,sans-serif;font-size:10px;letter-spacing:0px;line-height:10px;padding:10px 20px;text-align:center;text-decoration:none; align:center\" href=\"#Part_table_contents\" name=\"Table of Contents\"  id=\"Part_table_contents\"> \n",
    "            Table of Contents \n",
    "        </a>\n",
    "    </span>\n",
    "</div>\n",
    "<!-------------------------------------->"
   ]
  },
  {
   "cell_type": "markdown",
   "metadata": {},
   "source": [
    "<hr style=\"border: 6px solid#003262;\" />\n"
   ]
  }
 ],
 "metadata": {
  "anaconda-cloud": {},
  "celltoolbar": "Slideshow",
  "kernelspec": {
   "display_name": "Python 3",
   "language": "python",
   "name": "python3"
  },
  "language_info": {
   "codemirror_mode": {
    "name": "ipython",
    "version": 3
   },
   "file_extension": ".py",
   "mimetype": "text/x-python",
   "name": "python",
   "nbconvert_exporter": "python",
   "pygments_lexer": "ipython3",
   "version": "3.6.10"
  },
  "livereveal": {
   "scroll": true
  },
  "rise": {
   "enable_chalkboard": true,
   "height": "90%",
   "width": "100%"
  }
 },
 "nbformat": 4,
 "nbformat_minor": 2
}
