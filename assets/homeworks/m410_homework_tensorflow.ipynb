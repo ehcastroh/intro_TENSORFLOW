{
 "cells": [
  {
   "cell_type": "markdown",
   "metadata": {},
   "source": [
    "<div align=\"center\">\n",
    "    <img src= \"/assets/content/datax_logos/DataX_blue_wide_logo.png\" align=\"center\" width=\"100%\">\n",
    "</div>\n",
    "\n",
    "### **HOMEWORK**- TENSORS, GRADIENTS, AND (OPTIONAL) IMAGE CLASSIFICATION\n",
    "\n",
    "<br>\n",
    "\n",
    "<div align=\"center\" style=\"font-size:12px; font-family:FreeMono; font-weight: 100; font-stretch:ultra-condensed; line-height: 1.0; color:#2A2C2B\">\n",
    "    <img src=\"/assets/content/images/tensorflow_thumbnail-01.png\" align=\"center\" width=\"40%\" padding=\"10\"><br>\n",
    "    <br>\n",
    "</div>\n",
    "\n",
    "<br>\n",
    "\n",
    "<br>\n",
    "\n",
    "In **m410_shallow_neural_networks_introduction_to_tensorflow_v2**  coverd tensor creation, access, and manipulation.  We also covered the concept of functions over sessions. In this notebook, we expand on the optional Keras section in m410 to consider the topic of image classification.  For additional materials related to TensorFlow, Keras, and deep learning in general, make sure to visit the [**Data-X**](https://datax.berkeley.edu/) website.\n",
    "\n",
    "<br>\n",
    "\n",
    "**Author list:** [Rajarathnam Balakrishnan](https://www.linkedin.com/in/rajarathnam-balakrishnan-7b447b135/) and [Elias Casto Hernandez](https://www.linkedin.com/in/ehcastroh/)\n",
    "\n",
    "**References and Additional Resources**\n",
    "<br>\n",
    "\n",
    "\n",
    "> [TensorFlow Guides: Keras Sequential Model](https://www.tensorflow.org/guide/keras/sequential_model)<br>\n",
    "> [Keras: The Sequential Model Guide](https://keras.io/guides/sequential_model/)<br>\n",
    "> [TensorBoard in Notebooks](https://www.tensorflow.org/tensorboard/tensorboard_in_notebooks)"
   ]
  },
  {
   "cell_type": "markdown",
   "metadata": {},
   "source": [
    "___\n",
    "\n",
    "#### NAME:\n",
    "\n",
    "#### STUDENT ID:"
   ]
  },
  {
   "cell_type": "markdown",
   "metadata": {},
   "source": [
    "<hr style=\"border: 2px solid#003262;\" />\n",
    "\n",
    "#### PART 1: UNDERSTANDING TENSORS\n",
    "\n",
    "<div align=\"center\" style=\"font-size:12px; font-family:FreeMono; font-weight: 100; font-stretch:ultra-condensed; line-height: 1.0; color:#2A2C2B\">\n",
    "    <img src=\"/assets/content/images/tf_logo_social.png\" align=\"center\" width=\"30%\" padding=\"0\"><br>\n",
    "    <br>\n",
    "</div>\n",
    "\n",
    "<br>\n",
    "\n",
    "\n",
    "\n",
    "<br>"
   ]
  },
  {
   "cell_type": "code",
   "execution_count": 2,
   "metadata": {},
   "outputs": [
    {
     "data": {
      "text/plain": [
       "'2.2.0'"
      ]
     },
     "execution_count": 2,
     "metadata": {},
     "output_type": "execute_result"
    }
   ],
   "source": [
    "# load the dependencies\n",
    "import numpy as np\n",
    "import tensorflow as tf\n",
    "\n",
    "# check whether tf version is 2.x\n",
    "tf.__version__"
   ]
  },
  {
   "cell_type": "markdown",
   "metadata": {},
   "source": [
    "<br>\n",
    "\n",
    "**1.1 Create the following tensors:**\n",
    "> `a` is a constant tensor with value 1. (float)<br>\n",
    "> `b` is a constant tensor with value 2. (float)<br>\n",
    "> `c` is an np.array with one consant value 3. (float)"
   ]
  },
  {
   "cell_type": "code",
   "execution_count": 8,
   "metadata": {},
   "outputs": [],
   "source": [
    "# tensors\n",
    "a = tf.constant(1.)\n",
    "b = tf.constant(2.)\n",
    "c = tf.constant(np.array(3.))"
   ]
  },
  {
   "cell_type": "code",
   "execution_count": null,
   "metadata": {},
   "outputs": [],
   "source": [
    "# identify and fix the problem with following addition opperation for the defined constants\n",
    "\n",
    "a + b + c"
   ]
  },
  {
   "cell_type": "markdown",
   "metadata": {},
   "source": [
    "<br>\n",
    "\n",
    "**1.2 Use TensorFlow functions to solve `a+b+c`. Display output.**"
   ]
  },
  {
   "cell_type": "code",
   "execution_count": 3,
   "metadata": {},
   "outputs": [],
   "source": [
    "# your code here\n"
   ]
  },
  {
   "cell_type": "markdown",
   "metadata": {},
   "source": [
    "<hr style=\"border: 1px solid#003262;\" />\n",
    "\n",
    "#### PART 2: COMPUTING GRADIENTS THE TENSORFLOW WAY!"
   ]
  },
  {
   "cell_type": "markdown",
   "metadata": {},
   "source": [
    "<br>\n",
    "\n",
    "**2.1 The following is a non-optimized, simple, way to calculate gradients for a given function.**"
   ]
  },
  {
   "cell_type": "code",
   "execution_count": 7,
   "metadata": {},
   "outputs": [],
   "source": [
    "# function definition =>\n",
    "def g(x, y):\n",
    "    \n",
    "    return(5 * x ** 2 + 3 * x * y)\n",
    "\n",
    "# for (x,y) = (1,1) the partial derivative of the function g(x,y) would be 13 and 3. "
   ]
  },
  {
   "cell_type": "markdown",
   "metadata": {},
   "source": [
    "<br>\n",
    "\n",
    "**Remove redundant/duplicate rows/entries**<br>\n",
    "> Complete the following code to compute the gradients using [`tf.GradientTape()`](https://www.tensorflow.org/api_docs/python/tf/GradientTape)"
   ]
  },
  {
   "cell_type": "code",
   "execution_count": null,
   "metadata": {},
   "outputs": [],
   "source": [
    "x = tf.Variable(1.)\n",
    "y = tf.Variable(1.)\n",
    "\n",
    "with tf.GradientTape() as tape:\n",
    "    \n",
    "    z =     # fill the missing code\n",
    "\n",
    "# calculate gradients\n",
    "grads = tape.gradient(   ) # fill the arguments\n",
    "\n",
    "print('Gradients:')\n",
    "grads"
   ]
  },
  {
   "cell_type": "code",
   "execution_count": 10,
   "metadata": {},
   "outputs": [],
   "source": [
    "# your code here\n"
   ]
  },
  {
   "cell_type": "markdown",
   "metadata": {},
   "source": [
    "<hr style=\"border: 1px solid#003262;\" />\n",
    "\n",
    "#### PART 3 (OPTIONAL): GAINING FAMILIARITY - CLASSIFYING IMAGES USING KERAS \n",
    "\n",
    "<br>\n",
    "\n",
    "<div align=\"center\" style=\"font-size:12px; font-family:FreeMono; font-weight: 100; font-stretch:ultra-condensed; line-height: 1.0; color:#2A2C2B\">\n",
    "    <img src=\"/assets/content/images/keras_logo.png\" align=\"center\" width=\"20%\" padding=\"0\"><br>\n",
    "    <br>\n",
    "</div>\n",
    "\n",
    "<br>\n",
    "\n",
    "\n",
    "\n",
    "The following asks you to train a [2-layer neural network model](https://www.tensorflow.org/guide/keras/sequential_model) to classify images. You may not yet understand the details of what is going on in background; this exercise is meant to familiarize you with [Keras](https://keras.io/) and provide you an overview of how to complete a TensorFlow program. For reference, use the optional-regression excercise in **m410_shallow_neural_networks_introduction_to_tensorflow_v2**"
   ]
  },
  {
   "cell_type": "markdown",
   "metadata": {},
   "source": [
    "<br>\n",
    "\n",
    "**3.1 Prepare Environment**"
   ]
  },
  {
   "cell_type": "code",
   "execution_count": 11,
   "metadata": {},
   "outputs": [
    {
     "name": "stdout",
     "output_type": "stream",
     "text": [
      "2.2.0\n"
     ]
    }
   ],
   "source": [
    "# Deep Learning Libraries\n",
    "import tensorflow as tf\n",
    "from tensorflow import keras\n",
    "\n",
    "# Helper libraries\n",
    "import numpy as np\n",
    "import matplotlib.pyplot as plt\n",
    "\n",
    "# sanity check\n",
    "print(tf.__version__)"
   ]
  },
  {
   "cell_type": "markdown",
   "metadata": {},
   "source": [
    "<br>\n",
    "\n",
    "**3.2 Import [Fashion-MNIST dataset](https://keras.io/api/datasets/fashion_mnist/)**"
   ]
  },
  {
   "cell_type": "code",
   "execution_count": 28,
   "metadata": {},
   "outputs": [],
   "source": [
    "# create object for data module\n",
    "fashion_mnist = keras.datasets.fashion_mnist\n",
    "\n",
    "# Extract data into NumPy arrays -- training and testing \n",
    "(train_images, train_labels), (test_images, test_labels) = fashion_mnist.load_data()"
   ]
  },
  {
   "cell_type": "markdown",
   "metadata": {},
   "source": [
    "___\n",
    "**Note:** Each image in the dataset is mapped to a single label (numeric). Form the dataset documentation we know the following"
   ]
  },
  {
   "cell_type": "code",
   "execution_count": 54,
   "metadata": {},
   "outputs": [],
   "source": [
    "# {label : class}\n",
    "class_names = {0 : 'T-shirt/top',\n",
    "               1 : 'Trouser', \n",
    "               2 : 'Pullover', \n",
    "               3 : 'Dress', \n",
    "               4 : 'Coat',\n",
    "               5 : 'Sandal', \n",
    "               6 : 'Shirt', \n",
    "               7 : 'Sneaker', \n",
    "               8 : 'Bag', \n",
    "               9 : 'Ankle boot'}"
   ]
  },
  {
   "cell_type": "markdown",
   "metadata": {},
   "source": [
    "___"
   ]
  },
  {
   "cell_type": "markdown",
   "metadata": {},
   "source": [
    "<br>\n",
    "\n",
    "**3.3 Explore the data:**\n",
    "> 0. View first 10 indices from 'train_images`<br>\n",
    "> 1. Display the **shape** of `train_images`<br>\n",
    "> 2. Type of every element in train_images`<br>\n",
    "> 3. Display what each label in `train_labels` is<br>\n",
    "> 4. Display the length of `test_images`<br>\n",
    "> 5. Display the **dimension** of `test_labels`<br>\n",
    "> 6. Total number of elements in `test_labels`"
   ]
  },
  {
   "cell_type": "code",
   "execution_count": 48,
   "metadata": {},
   "outputs": [
    {
     "name": "stdout",
     "output_type": "stream",
     "text": [
      "\n",
      "0. View some indices:\n",
      "\n",
      "\n"
     ]
    },
    {
     "data": {
      "image/png": "[encoded data removed]",
      "text/plain": [
       "<Figure size 720x720 with 10 Axes>"
      ]
     },
     "metadata": {},
     "output_type": "display_data"
    }
   ],
   "source": [
    "print(\"\\n0. View some indices:\\n\\n\")\n",
    "\n",
    "# image size \n",
    "plt.figure(figsize=(10,10))\n",
    "\n",
    "# view first 10 images\n",
    "for i in range(10):\n",
    "    # one image 10 axes\n",
    "    plt.subplot(5,5,i+1)\n",
    "\n",
    "    # hide ticks\n",
    "    plt.xticks([])\n",
    "    plt.yticks([])\n",
    "    # show image without grid\n",
    "    plt.grid(False)\n",
    "    \n",
    "    # create subplots iteratively\n",
    "    plt.imshow(train_images[i], cmap=plt.cm.binary)\n",
    "    \n",
    "    # add class names by using label as key to dictionary\n",
    "    plt.xlabel(class_names.get(train_labels[train_labels[i]]))\n",
    "plt.show()"
   ]
  },
  {
   "cell_type": "code",
   "execution_count": 35,
   "metadata": {},
   "outputs": [
    {
     "name": "stdout",
     "output_type": "stream",
     "text": [
      "\n",
      "1. Shape of `train_images`:  (60000, 28, 28)\n",
      "\n",
      "2. Type of every element in `train_images`:  uint8\n",
      "\n",
      "3. Display what `train_labels` is:  [9 0 0 ... 3 0 5]\n",
      "\n",
      "4. Display the size of `test_images`:  10000\n",
      "\n",
      "5. Display the dimension of `teset_labels`:  1\n",
      "\n",
      "6. Total number of element in `test_labels`:  10000\n"
     ]
    }
   ],
   "source": [
    "print(\"\\n1. Shape of `train_images`: \", train_images.shape)\n",
    "print(\"\\n2. Type of every element in `train_images`: \", train_images.dtype)\n",
    "print(\"\\n3. Display what `train_labels` is: \", train_labels)\n",
    "print(\"\\n4. Display the size of `test_images`: \", len(test_images))\n",
    "print(\"\\n5. Display the dimension of `teset_labels`: \", test_labels.ndim)\n",
    "print(\"\\n6. Total number of element in `test_labels`: \", tf.size(test_labels).numpy())"
   ]
  },
  {
   "cell_type": "markdown",
   "metadata": {},
   "source": [
    "<br>\n",
    "\n",
    "> 7. Display an image from the training set"
   ]
  },
  {
   "cell_type": "code",
   "execution_count": 26,
   "metadata": {},
   "outputs": [
    {
     "data": {
      "image/png": "[encoded data removed]",
      "text/plain": [
       "<Figure size 432x288 with 2 Axes>"
      ]
     },
     "metadata": {
      "needs_background": "light"
     },
     "output_type": "display_data"
    }
   ],
   "source": [
    "# complete the variable assignment to display row 37 \n",
    "\n",
    "my_image = train_images[37]\n",
    "\n",
    "# display\n",
    "plt.figure()\n",
    "plt.imshow(my_image)\n",
    "plt.colorbar()\n",
    "plt.grid(False)\n",
    "plt.show()"
   ]
  },
  {
   "cell_type": "markdown",
   "metadata": {},
   "source": [
    "<br>\n",
    "\n",
    "**3.4 Preprocess the data**\n",
    "\n",
    "From the colorbar for the image above, you will notice that the pixel range is from 0 to 255. We want to normalize our values prior to training -- [this](https://stats.stackexchange.com/questions/185853/why-do-we-need-to-normalize-the-images-before-we-put-them-into-cnn) step is done, for one, to improve learning. "
   ]
  },
  {
   "cell_type": "code",
   "execution_count": 36,
   "metadata": {},
   "outputs": [],
   "source": [
    "# normalize data\n",
    "train_images = train_images / 255.0\n",
    "test_images = test_images / 255.0"
   ]
  },
  {
   "cell_type": "markdown",
   "metadata": {},
   "source": [
    "<br>\n",
    "\n",
    "**3.5 Confirm Normalization**\n",
    "\n",
    "Use the sample code from **3.3.0** to view the first 15 images in `test_images` subject to the following changes to the code -- this is done to confirm that the data normalization has happened.<br> \n",
    "> 1. Make sure to show `yticks`<br>\n",
    "> 2. Rewrite class_names as a Python list.\n",
    "> 3. Extract labels using `plt.xlabel(class_names[test_labels[i]])"
   ]
  },
  {
   "cell_type": "code",
   "execution_count": 53,
   "metadata": {},
   "outputs": [
    {
     "data": {
      "image/png": "[encoded data removed]",
      "text/plain": [
       "<Figure size 720x720 with 15 Axes>"
      ]
     },
     "metadata": {
      "needs_background": "light"
     },
     "output_type": "display_data"
    }
   ],
   "source": [
    "class_names = ['T-shirt/top', 'Trouser', 'Pullover', 'Dress', 'Coat',\n",
    "               'Sandal', 'Shirt', 'Sneaker', 'Bag', 'Ankle boot']\n",
    "\n",
    "# plotting as requested\n",
    "plt.figure(figsize=(10,10))\n",
    "for i in range(15):\n",
    "    plt.subplot(5,5,i+1)\n",
    "    plt.xticks([])\n",
    "    #plt.yticks([])\n",
    "    plt.grid(False)\n",
    "    plt.imshow(test_images[i], cmap=plt.cm.binary)\n",
    "    plt.xlabel(class_names[test_labels[i]])\n",
    "plt.show()"
   ]
  },
  {
   "cell_type": "markdown",
   "metadata": {},
   "source": [
    "<br>\n",
    "\n",
    "**3.6 Build Keras model**\n",
    "\n",
    "We will be building a [sequential model](https://youtu.be/CznICCPa63Q) with [two densely connected hidden layer](https://www.oreilly.com/library/view/tensorflow-for-deep/9781491980446/ch04.html) and [one ouput layer](http://deeplearning.stanford.edu/tutorial/supervised/MultiLayerNeuralNetworks/). First layer [flattens](https://keras.io/api/layers/reshaping_layers/flatten/) the tensor without affecting the batch size. The second layer is [dense](https://keras.io/api/layers/reshaping_layers/flatten/) with a [*relu*](https://keras.io/api/layers/activations/) activation function. We will not explore the model in great detail, as subsequent [Data-X](https://datax.berkeley.edu/) JupyterLabs will cover Neural Networks in greater detail."
   ]
  },
  {
   "cell_type": "code",
   "execution_count": 71,
   "metadata": {},
   "outputs": [],
   "source": [
    "# Build 2 layer sequential model\n",
    "model = keras.Sequential([\n",
    "    keras.layers.Flatten(input_shape=(28, 28)),\n",
    "    keras.layers.Dense(128, activation='relu'),\n",
    "    keras.layers.Dense(10)\n",
    "])"
   ]
  },
  {
   "cell_type": "markdown",
   "metadata": {},
   "source": [
    "<br>\n",
    "\n",
    "**Enable TensorBoard Callbacks**"
   ]
  },
  {
   "cell_type": "code",
   "execution_count": 72,
   "metadata": {},
   "outputs": [],
   "source": [
    "# for logs\n",
    "from datetime import datetime\n",
    "\n",
    "# Callbacks\n",
    "log_dir = \"logs/fit/\" + datetime.now().strftime(\"%Y%m%d-%H%M%S\")\n",
    "tensorboard_callback = tf.keras.callbacks.TensorBoard(log_dir=log_dir, histogram_freq=1)"
   ]
  },
  {
   "cell_type": "markdown",
   "metadata": {},
   "source": [
    "<br>\n",
    "\n",
    "**Enable EarlyStopping**"
   ]
  },
  {
   "cell_type": "code",
   "execution_count": 73,
   "metadata": {},
   "outputs": [],
   "source": [
    "# The patience parameter is the amount of epochs to check for improvement\n",
    "early_stop = keras.callbacks.EarlyStopping(monitor='val_loss', patience=10)"
   ]
  },
  {
   "cell_type": "markdown",
   "metadata": {},
   "source": [
    "<br>\n",
    "\n",
    "**3.7 Compile the model**\n",
    "\n",
    "Prior to training the model, we need to specify the following parameters:<br>\n",
    ">[**Loss function**](https://keras.io/api/losses/) -- we want to maximize this function to 'steer' the model toward the best gradient. It is a measure of how accurate the model is during training.<br>\n",
    ">[**Metrics**](https://keras.io/api/metrics/) -- are used to monitor the training and testing steps.<br> \n",
    ">[**Optimizer**](https://keras.io/api/optimizers/) -- sets the way by which the model is updated based on the loss function and the data it is seing.<br>\n"
   ]
  },
  {
   "cell_type": "code",
   "execution_count": 74,
   "metadata": {},
   "outputs": [],
   "source": [
    "# Compile\n",
    "model.compile(optimizer='adam',\n",
    "              metrics=['accuracy'],\n",
    "              loss=tf.keras.losses.SparseCategoricalCrossentropy(from_logits=True),\n",
    "              )"
   ]
  },
  {
   "cell_type": "markdown",
   "metadata": {},
   "source": [
    "<br>\n",
    "\n",
    "**3.8 Train the model**"
   ]
  },
  {
   "cell_type": "code",
   "execution_count": 76,
   "metadata": {},
   "outputs": [
    {
     "name": "stdout",
     "output_type": "stream",
     "text": [
      "Epoch 1/10\n",
      "1853/1875 [============================>.] - ETA: 0s - loss: 0.4913 - accuracy: 0.8278WARNING:tensorflow:Early stopping conditioned on metric `val_loss` which is not available. Available metrics are: loss,accuracy\n",
      "1875/1875 [==============================] - 4s 2ms/step - loss: 0.4904 - accuracy: 0.8281\n",
      "Epoch 2/10\n",
      "1861/1875 [============================>.] - ETA: 0s - loss: 0.3711 - accuracy: 0.8660WARNING:tensorflow:Early stopping conditioned on metric `val_loss` which is not available. Available metrics are: loss,accuracy\n",
      "1875/1875 [==============================] - 4s 2ms/step - loss: 0.3710 - accuracy: 0.8660\n",
      "Epoch 3/10\n",
      "1853/1875 [============================>.] - ETA: 0s - loss: 0.3342 - accuracy: 0.8777WARNING:tensorflow:Early stopping conditioned on metric `val_loss` which is not available. Available metrics are: loss,accuracy\n",
      "1875/1875 [==============================] - 4s 2ms/step - loss: 0.3344 - accuracy: 0.8777\n",
      "Epoch 4/10\n",
      "1821/1875 [============================>.] - ETA: 0s - loss: 0.3109 - accuracy: 0.8857WARNING:tensorflow:Early stopping conditioned on metric `val_loss` which is not available. Available metrics are: loss,accuracy\n",
      "1875/1875 [==============================] - 3s 1ms/step - loss: 0.3107 - accuracy: 0.8857\n",
      "Epoch 5/10\n",
      "1855/1875 [============================>.] - ETA: 0s - loss: 0.2907 - accuracy: 0.8936WARNING:tensorflow:Early stopping conditioned on metric `val_loss` which is not available. Available metrics are: loss,accuracy\n",
      "1875/1875 [==============================] - 2s 1ms/step - loss: 0.2907 - accuracy: 0.8936\n",
      "Epoch 6/10\n",
      "1868/1875 [============================>.] - ETA: 0s - loss: 0.2771 - accuracy: 0.8987WARNING:tensorflow:Early stopping conditioned on metric `val_loss` which is not available. Available metrics are: loss,accuracy\n",
      "1875/1875 [==============================] - 2s 1ms/step - loss: 0.2771 - accuracy: 0.8987\n",
      "Epoch 7/10\n",
      "1825/1875 [============================>.] - ETA: 0s - loss: 0.2637 - accuracy: 0.9023WARNING:tensorflow:Early stopping conditioned on metric `val_loss` which is not available. Available metrics are: loss,accuracy\n",
      "1875/1875 [==============================] - 2s 1ms/step - loss: 0.2635 - accuracy: 0.9024\n",
      "Epoch 8/10\n",
      "1853/1875 [============================>.] - ETA: 0s - loss: 0.2540 - accuracy: 0.9049WARNING:tensorflow:Early stopping conditioned on metric `val_loss` which is not available. Available metrics are: loss,accuracy\n",
      "1875/1875 [==============================] - 2s 1ms/step - loss: 0.2540 - accuracy: 0.9050\n",
      "Epoch 9/10\n",
      "1867/1875 [============================>.] - ETA: 0s - loss: 0.2441 - accuracy: 0.9086WARNING:tensorflow:Early stopping conditioned on metric `val_loss` which is not available. Available metrics are: loss,accuracy\n",
      "1875/1875 [==============================] - 2s 1ms/step - loss: 0.2438 - accuracy: 0.9087\n",
      "Epoch 10/10\n",
      "1868/1875 [============================>.] - ETA: 0s - loss: 0.2355 - accuracy: 0.9125WARNING:tensorflow:Early stopping conditioned on metric `val_loss` which is not available. Available metrics are: loss,accuracy\n",
      "1875/1875 [==============================] - 2s 1ms/step - loss: 0.2355 - accuracy: 0.9125\n"
     ]
    },
    {
     "data": {
      "text/plain": [
       "<tensorflow.python.keras.callbacks.History at 0x7ff062b163c8>"
      ]
     },
     "execution_count": 76,
     "metadata": {},
     "output_type": "execute_result"
    }
   ],
   "source": [
    "# fit model, over 10 epoch unless early_stop is met\n",
    "model.fit(train_images, train_labels, epochs=10, callbacks=[early_stop, tensorboard_callback])"
   ]
  },
  {
   "cell_type": "markdown",
   "metadata": {},
   "source": [
    "<br>\n",
    "\n",
    "**3.9 Evaluate accuracy**"
   ]
  },
  {
   "cell_type": "code",
   "execution_count": 77,
   "metadata": {},
   "outputs": [
    {
     "name": "stdout",
     "output_type": "stream",
     "text": [
      "313/313 - 0s - loss: 0.3408 - accuracy: 0.8837\n",
      "\n",
      "Test accuracy: 0.8837000131607056\n"
     ]
    }
   ],
   "source": [
    "test_loss, test_acc = model.evaluate(test_images,  test_labels, verbose=2)\n",
    "\n",
    "print('\\nTest accuracy:', test_acc)"
   ]
  },
  {
   "cell_type": "markdown",
   "metadata": {},
   "source": [
    "___\n",
    "\n",
    "**Note:** the disparity between the training and testing accuracies indicate **overfitting** -- performing worse on new, unseen data, than on the training data.\n",
    "\n",
    "> How do you know when the model is [overfitting](https://www.tensorflow.org/tutorials/keras/overfit_and_underfit#demonstrate_overfitting)?<br>\n",
    "> What can I do to [prevent overfitting](https://www.tensorflow.org/tutorials/keras/overfit_and_underfit#strategies_to_prevent_overfitting)?\n",
    "\n",
    "___"
   ]
  },
  {
   "cell_type": "markdown",
   "metadata": {},
   "source": [
    "<br>\n",
    "\n",
    "**3.10 View model accuracy in TensorBoard**"
   ]
  },
  {
   "cell_type": "code",
   "execution_count": 79,
   "metadata": {},
   "outputs": [
    {
     "data": {
      "text/plain": [
       "Reusing TensorBoard on port 6010 (pid 22139), started 0:00:05 ago. (Use '!kill 22139' to kill it.)"
      ]
     },
     "metadata": {},
     "output_type": "display_data"
    },
    {
     "data": {
      "text/html": [
       "\n",
       "      <iframe id=\"tensorboard-frame-ad45a245f54b9873\" width=\"100%\" height=\"800\" frameborder=\"0\">\n",
       "      </iframe>\n",
       "      <script>\n",
       "        (function() {\n",
       "          const frame = document.getElementById(\"tensorboard-frame-ad45a245f54b9873\");\n",
       "          const url = new URL(\"/\", window.location);\n",
       "          url.port = 6010;\n",
       "          frame.src = url;\n",
       "        })();\n",
       "      </script>\n",
       "  "
      ],
      "text/plain": [
       "<IPython.core.display.HTML object>"
      ]
     },
     "metadata": {},
     "output_type": "display_data"
    }
   ],
   "source": [
    "## %tensorboard line magic. In command line run same command without \"%\" ##\n",
    "%tensorboard --logdir logs/fit"
   ]
  },
  {
   "cell_type": "markdown",
   "metadata": {},
   "source": [
    "<hr style=\"border: 1px solid#003262;\" />\n",
    "\n",
    "#### PART 4: EXPLORATORY DATA ANALYSIS (EDA) - STATISTICAL ANALYSIS  "
   ]
  },
  {
   "cell_type": "markdown",
   "metadata": {},
   "source": [
    "<br>\n",
    "\n",
    "**4.1  Create a DataFrame** ```dftemp``` **to store rows where area is** ```Iceland```, **then display the DataFrame.**"
   ]
  },
  {
   "cell_type": "code",
   "execution_count": 13,
   "metadata": {},
   "outputs": [],
   "source": [
    "# TensorFlow and tf.keras\n",
    "import tensorflow as tf\n",
    "from tensorflow import keras\n",
    "\n",
    "# Helper libraries\n",
    "import numpy as np\n",
    "import matplotlib.pyplot as plt\n",
    "\n",
    "print(tf.__version__)\n"
   ]
  },
  {
   "cell_type": "markdown",
   "metadata": {},
   "source": [
    "<br>\n",
    "\n",
    "**4.2 Filter data within a range**\n",
    "\n",
    "**To Do:** Using the previously created DataFrame, ```dftemp```, print the years (with the same format as 2.5) when the National Rainfall Index (NRI) was greater than 900 and less than 950 in Iceland. \n",
    "\n"
   ]
  },
  {
   "cell_type": "code",
   "execution_count": 14,
   "metadata": {},
   "outputs": [],
   "source": [
    "# your code here\n"
   ]
  },
  {
   "cell_type": "markdown",
   "metadata": {},
   "source": [
    "<br>\n",
    "\n",
    "**4.3 Create subset of data**\n",
    "\n",
    "\n",
    "**To Do:** Create a new DataFrame called ```df_usa``` that only contains values where *'Area'* is equal to *'United States of America'*. Set the indices to be the *'Year'* column   (Use ```.set_index( )```, with the inplace paratmeter set to ```inplace=True```). Display the dataframe head."
   ]
  },
  {
   "cell_type": "code",
   "execution_count": 15,
   "metadata": {},
   "outputs": [],
   "source": [
    "# your code here\n"
   ]
  },
  {
   "cell_type": "markdown",
   "metadata": {},
   "source": [
    "<br>\n",
    "\n",
    "**4.4 [Stack](https://pandas.pydata.org/pandas-docs/stable/reference/api/pandas.DataFrame.stack.html?highlight=stack%20unstack) and [Unstack](https://pandas.pydata.org/pandas-docs/stable/reference/api/pandas.DataFrame.unstack.html?highlight=stack%20unstack) DataFrame**\n",
    "\n",
    "**To Do:** Pivot the DataFrame so that the unique values in the column *'Variable Name'* becomes the columns. The DataFrame values should be the ones in the the *'Value'* column. Save it in ```df_usa```. Display the dataframe head."
   ]
  },
  {
   "cell_type": "code",
   "execution_count": 16,
   "metadata": {},
   "outputs": [],
   "source": [
    "# your code here\n"
   ]
  },
  {
   "cell_type": "markdown",
   "metadata": {},
   "source": [
    "<br>\n",
    "\n",
    "**4.5 Rename Features**\n",
    "\n",
    "**To Do:** Rename the new columns as ```['GDP','NRI','PD','Area','Population']``` and display the head."
   ]
  },
  {
   "cell_type": "code",
   "execution_count": 17,
   "metadata": {},
   "outputs": [],
   "source": [
    "# your code here\n"
   ]
  },
  {
   "cell_type": "markdown",
   "metadata": {},
   "source": [
    "**4.6 Replace Missing Data**\n",
    "\n",
    "**To Do:** Replace all *'Nan'* values in** ```df_usa``` with ```0```. Display the head of the dataframe."
   ]
  },
  {
   "cell_type": "code",
   "execution_count": 18,
   "metadata": {},
   "outputs": [],
   "source": [
    "# your code here\n"
   ]
  },
  {
   "cell_type": "markdown",
   "metadata": {},
   "source": [
    "<br>\n",
    "\n",
    "**4.7 Scale Data**\n",
    "\n",
    "**To Do:** Multiply the *'Area'* column for all rows by ```10``` (so instead of 1000 ha, the unit becomes 100 ha = 1km^2). Display the dataframe head."
   ]
  },
  {
   "cell_type": "code",
   "execution_count": 18,
   "metadata": {},
   "outputs": [],
   "source": [
    "# your code here\n"
   ]
  },
  {
   "cell_type": "markdown",
   "metadata": {},
   "source": [
    "<br>\n",
    "\n",
    "**4.8  Feature Engineering**\n",
    "\n",
    "**To Do:** Create a new column in ```df_usa``` called *'GDP/capita'* and populate it with the calculated GDP per capita. Round the results to two decimal points. Display the dataframe head.\n",
    "\n",
    "<br>\n",
    "\n",
    "$$GDP~per~capita = \\frac{GDP}{Population} * 1000$$\n",
    "\n",
    "<br>"
   ]
  },
  {
   "cell_type": "code",
   "execution_count": 19,
   "metadata": {},
   "outputs": [],
   "source": [
    "# your code here\n"
   ]
  },
  {
   "cell_type": "markdown",
   "metadata": {},
   "source": [
    "<br>\n",
    "\n",
    "**4.9 Data Extraction**\n",
    "\n",
    "**To Do:** Find the maximum value of the *'NRI'* column in the US (using pandas methods). What year does the max value occur? Display the values."
   ]
  },
  {
   "cell_type": "code",
   "execution_count": 20,
   "metadata": {},
   "outputs": [],
   "source": [
    "# your code here\n"
   ]
  },
  {
   "cell_type": "markdown",
   "metadata": {},
   "source": [
    "### Congratulations on completing hw 1.2! Don't forget to click Kernel -> Restart & Run All, save your file, download or print as pdf, and submit pdf to Gradescope.\n",
    "\n",
    "<br>\n",
    "\n",
    "<hr style=\"border: 2px solid#003262;\" />\n",
    "\n",
    "### **DELIVERABLES**\n",
    "\n",
    "Please submit the following via [**Gradescope**](https://www.gradescope.com/login): \n",
    "\n",
    ">(1) A copy of your work, either a downloaded notebook or a pdf, by the assignment deadline\n",
    "\n",
    "<br>\n",
    "\n",
    "**Note:** Don't gorget to restart your kernel prior to extracting your data.\n",
    "\n",
    ">```Kernel --> Restart Kernel and Run all Cells```<br>\n",
    ">```File --> Export Notebooks As --> PDF``` (or as instructed)\n",
    "\n",
    "\n",
    "<hr style=\"border: 2px solid#003262;\" />"
   ]
  }
 ],
 "metadata": {
  "anaconda-cloud": {},
  "kernelspec": {
   "display_name": "Python 3",
   "language": "python",
   "name": "python3"
  },
  "language_info": {
   "codemirror_mode": {
    "name": "ipython",
    "version": 3
   },
   "file_extension": ".py",
   "mimetype": "text/x-python",
   "name": "python",
   "nbconvert_exporter": "python",
   "pygments_lexer": "ipython3",
   "version": "3.6.10"
  }
 },
 "nbformat": 4,
 "nbformat_minor": 2
}
