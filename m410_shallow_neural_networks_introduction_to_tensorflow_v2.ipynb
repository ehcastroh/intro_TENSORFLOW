{
 "cells": [
  {
   "cell_type": "markdown",
   "metadata": {
    "slideshow": {
     "slide_type": "slide"
    }
   },
   "source": [
    "<hr style=\"border: 6px solid#003262;\" />\n",
    "\n",
    "<div align=\"center\">\n",
    "    <img src= \"/assets/content/datax_logos/DataX_blue_wide_logo.png\" align=\"center\" width=\"100%\">\n",
    "</div>\n",
    "\n",
    "\n",
    "<br>\n",
    "\n",
    "# **DATA-X:** <br>  m410 - SHALLOW NEURAL NETWORKS; AN INTRODUCTION TO TENSORFLOW V.2\n",
    "\n",
    "<br>\n",
    "\n",
    "\n",
    "**Author List (in no particular order):** [Elias Castro Hernandez](https://www.linkedin.com/in/ehcastroh/), [Rajarathnam Balakrishnan](https://www.linkedin.com/in/rajarathnam-balakrishnan-7b447b135/), [Ikhlaq Sidhu](https://ikhlaq-sidhu.com/), [Debbie Yuen](http://www.debbiecyuen.me/), and [Alexander Fred-Ojala](https://www.linkedin.com/in/alexanderfo/) \n",
    "\n",
    "**About (TL/DR):** Tensorflow (TF) is an open-source library used for dataflow, differentiable programming, symbolic math ,and machine learning applications such as deep learning neural networks. TF's flexible architecture allows for easy deployment across varied processing platforms. \n",
    "\n",
    "**Learning Goal(s):** This notebook covers advanced topics in machine learning. However, it does not require any prior knowledge in machine learning. The goal of this notebook is to teach a user how to deploy a TF model, as well as to provide the user guidance on how to tackle the more nuanced topics. \n",
    "\n",
    "**Associated Materials:** To ease the learning curve, we encourage the user of this notebook to view the resources section on the main JupyterLab, and/or review the [Data-X Fundamentals](https://github.com/scetx/datax/tree/master/01-data-x-fundamentals) repo.\n",
    "\n",
    "**Keywords (Tags):** tensorflow, tensor-flow, tensorflow-tutorial, deep-learning, deep-learning-with-python, neural-networks, data-x, uc-berkeley-engineering \n",
    "\n",
    "**Prerequisite Knowledge:** (1) Python, (2) NumPy, (3) Pandas, (4) Linear Algebra\n",
    "\n",
    "**Target User:** Data scientists, applied machine learning engineers, and developers\n",
    "\n",
    "**Copyright:** Content curation has been used to expedite the creation of the following learning materials. Credit and copyright belong to the content creators used in facilitating this content. Please support the creators of the resources used by frequenting their sites, and social media.\n"
   ]
  },
  {
   "cell_type": "markdown",
   "metadata": {},
   "source": [
    "<hr style=\"border: 4px solid#003262;\" />\n",
    "\n",
    "<a name='Part_table_contents' id=\"Part_table_contents\"></a>"
   ]
  },
  {
   "cell_type": "markdown",
   "metadata": {
    "slideshow": {
     "slide_type": "subslide"
    }
   },
   "source": [
    "\n",
    "\n",
    "#### CONTENTS\n",
    "\n",
    "> #### [PART 0: ABOUT AND MOTIVATION](#Part_0)\n",
    "> #### [PART 1: TENSORS AND OPERATIONS](#Part_1)\n",
    "> #### [PART 2: TENSORFLOW GRAPHS, AND EXECUTIONS](#Part_2)\n",
    "> #### [PART 4: WRAP UP AND NEXT STEPS](#Part_3)"
   ]
  },
  {
   "cell_type": "markdown",
   "metadata": {},
   "source": [
    "#### APPENDIX\n",
    "\n",
    "> #### [TENSORFLOW INSTALLATION](#Appendix_1)\n",
    "> #### [REFERENCES AND ADDITIONAL RESOURCES](#Appendix_2)\n",
    "\n",
    "<br>\n"
   ]
  },
  {
   "cell_type": "markdown",
   "metadata": {},
   "source": [
    "<a id='Part_0'></a>\n",
    "\n",
    "<hr style=\"border: 2px solid#003262;\" />\n",
    "\n",
    "#### PART 0\n",
    "\n",
    "## **ABOUT** AND **MOTIVATION** NEED VIDEO FROM DEBBIE"
   ]
  },
  {
   "cell_type": "markdown",
   "metadata": {},
   "source": [
    "<div align=\"center\" style=\"font-size:12px; font-family:FreeMono; font-weight: 100; font-stretch:ultra-condensed; line-height: 1.0; color:#2A2C2B\">\n",
    "  <a href=\"\">\n",
    "    <img src=\"assets/content/images/tensorflow_thumbnail_play-01.png\" align=\"center\" width=\"50%\" padding=\"10px\"/>\n",
    "  </a><br>\n",
    "</div>"
   ]
  },
  {
   "cell_type": "markdown",
   "metadata": {},
   "source": [
    "<a id='Part_1'></a>\n",
    "\n",
    "<hr style=\"border: 2px solid#003262;\" />\n",
    "\n",
    "#### PART 1\n",
    "\n",
    "## **TENSORS** AND **OPERATIONS**\n",
    "\n",
    "\n",
    "<div align=\"center\" style=\"font-size:12px; font-family:FreeMono; font-weight: 100; font-stretch:ultra-condensed; line-height: 1.0; color:#2A2C2B\">\n",
    "    <img src=\"/assets/content/images/tensorflow_thumbnail-01.png\" align=\"center\" width=\"40%\" padding=\"10\"><br>\n",
    "    <br>\n",
    "    \n",
    "</div>\n",
    "\n",
    "<br>\n",
    "\n",
    "<br>\n",
    "\n",
    "[**TensorFlow**](https://www.tensorflow.org/) is a cross-platform, end-to-end, open source, platform for efficiently training and deploying machine learning models. TensorFlow offers multiple levels of abstractions, which means you can use high-level API's such as [**Keras**](https://keras.io/) or [**Ludwig**](https://ludwig-ai.github.io/ludwig-docs/index.html) to make things a bit simpler, or even to set up a [**Distribution Strategy**](https://www.tensorflow.org/guide/distributed_training) API on different hardware configurions without having to change the model defintion.\n",
    "\n",
    "<br>\n",
    "\n",
    "<strong style=\"color:red\">KEY CONSIDERATION:</strong> Some of the following content may be written for machines running on Linux or Mac operating systems. If you are working on a Windows machine, you will need to enable the Linux Bash Shell, or adjust Shell commands to PowerShell syntax. A tutorial on how to enable the Linux Bash Shell on Windows 10 can be found [here](https://youtu.be/xzgwDbe7foQ).\n",
    "\n",
    "\n",
    "#### CONTENTS:\n",
    "\n",
    "> [PART 1.1: TENSORFLOW SETUP](#Part_1_1)<br>\n",
    "> [PART 1.2: TENSORBOARD SETUP](#Part_1_2)<br>\n",
    "> [PART 1.3: TENSORFLOW TENSORS](#Part_1_3)<br>\n",
    "> [PART 1.4: TENSORFLOW OPERATIONS](#Part_1_4)<br>"
   ]
  },
  {
   "cell_type": "markdown",
   "metadata": {},
   "source": [
    "<a id='Part_1_1'></a>\n",
    "\n",
    "<hr style=\"border: 1px solid#003262;\" />\n",
    "\n",
    "#### PART 1.1: TENSORFLOW SETUP\n",
    "\n",
    "<br>\n",
    "\n",
    "<div align=\"center\" style=\"font-size:12px; font-family:FreeMono; font-weight: 100; font-stretch:ultra-condensed; line-height: 1.0; color:#2A2C2B\">\n",
    "    <img src=\"/assets/content/images/tf_logo_social.png\" align=\"center\" width=\"30%\" padding=\"0px\"><br>\n",
    "    <br>\n",
    "</div>\n",
    "\n",
    "<br>\n",
    "\n",
    "<br>\n",
    "\n",
    "[**TensorFlow V.2**](https://www.tensorflow.org/tutorials/quickstart/beginner) removes redundant APIs, and integrates more smoothly with Python via Eager execution. To learn what has changed between versions 1 and 2 of TensorFlow, see [here](https://www.tensorflow.org/guide/effective_tf2). \n",
    "<br>"
   ]
  },
  {
   "cell_type": "markdown",
   "metadata": {},
   "source": [
    "<br> \n",
    "\n",
    "#### **1.1.1 General Notebook Setup**\n",
    "___"
   ]
  },
  {
   "cell_type": "code",
   "execution_count": 2,
   "metadata": {},
   "outputs": [],
   "source": [
    "# Pyton 2 and 3 support\n",
    "from __future__ import division, print_function, unicode_literals\n",
    "\n",
    "import pandas as pd\n",
    "import numpy as np\n",
    "import matplotlib.pyplot as plt\n",
    "\n",
    "%matplotlib inline\n",
    "\n",
    "# Hide warnings\n",
    "import warnings\n",
    "warnings.filterwarnings('ignore')"
   ]
  },
  {
   "cell_type": "markdown",
   "metadata": {},
   "source": [
    "<br>\n",
    "\n",
    "**Install TensorFlow:** the following will install TensorFlow using bash. It serves our purposes. However, for detailed installation instructions see [Appendix I](#Appendix_1)"
   ]
  },
  {
   "cell_type": "code",
   "execution_count": 3,
   "metadata": {},
   "outputs": [],
   "source": [
    "## Create Virtual Environment ##\n",
    "! python3 -m venv ./assets/venv"
   ]
  },
  {
   "cell_type": "code",
   "execution_count": 4,
   "metadata": {},
   "outputs": [],
   "source": [
    "## Activate Virtual Environment ##\n",
    "! . ./assets/venv/bin/activate"
   ]
  },
  {
   "cell_type": "code",
   "execution_count": 5,
   "metadata": {},
   "outputs": [
    {
     "name": "stdout",
     "output_type": "stream",
     "text": [
      "Requirement already up-to-date: pip in /home/ehch/anaconda3/lib/python3.6/site-packages (20.1.1)\n"
     ]
    }
   ],
   "source": [
    "## Ensure pip version >= 19.0 ##\n",
    "! pip install --upgrade pip "
   ]
  },
  {
   "cell_type": "code",
   "execution_count": 10,
   "metadata": {},
   "outputs": [],
   "source": [
    "## Ensure TF version >= 2.0 ##\n",
    "! pip install --upgrade tensorflow"
   ]
  },
  {
   "cell_type": "markdown",
   "metadata": {},
   "source": [
    "<br>\n",
    "\n",
    "**Import TensorFlow**"
   ]
  },
  {
   "cell_type": "code",
   "execution_count": 11,
   "metadata": {},
   "outputs": [],
   "source": [
    "# Canonical way of importing TensorFlow\n",
    "import tensorflow as tf"
   ]
  },
  {
   "cell_type": "markdown",
   "metadata": {},
   "source": [
    "___\n",
    "\n",
    "**Note:** If ```import tensorflow as tf``` doesn't work, TensorFlow is not installed correctly. To resolve the issue see [**build and install error messages**](https://www.tensorflow.org/install/errors)\n",
    "    \n",
    "___"
   ]
  },
  {
   "cell_type": "code",
   "execution_count": 12,
   "metadata": {},
   "outputs": [
    {
     "data": {
      "text/plain": [
       "'2.2.0'"
      ]
     },
     "execution_count": 12,
     "metadata": {},
     "output_type": "execute_result"
    }
   ],
   "source": [
    "# Check tf version, oftentimes tensorflow is not backwards compatible\n",
    "tf.__version__"
   ]
  },
  {
   "cell_type": "code",
   "execution_count": 13,
   "metadata": {},
   "outputs": [
    {
     "data": {
      "text/plain": [
       "True"
      ]
     },
     "execution_count": 13,
     "metadata": {},
     "output_type": "execute_result"
    }
   ],
   "source": [
    "# Check thatEager Execution is active\n",
    "tf.executing_eagerly()"
   ]
  },
  {
   "cell_type": "markdown",
   "metadata": {},
   "source": [
    "___\n",
    "\n",
    "**Note:** TensorFlow V.2 comes with eager execution enabled by default. Eager mode has many benefits, but for our purposes eager mode allows tensor outputs to be viewed without the need of a session -- which may not be necessary depending on your needs. To learn more check out the section on [**eager execution**](#Part_1_5).\n",
    "___"
   ]
  },
  {
   "cell_type": "markdown",
   "metadata": {},
   "source": [
    "<a id='Part_1_2'></a>\n",
    "\n",
    "<hr style=\"border: 1px solid#003262;\" />\n",
    "\n",
    "#### PART 1.2: TENSORBOARD SETUP\n",
    "\n",
    "<br>\n",
    "\n",
    "<div align=\"center\" style=\"font-size:12px; font-family:FreeMono; font-weight: 100; font-stretch:ultra-condensed; line-height: 1.0; color:#2A2C2B\">\n",
    "    <img src=\"/assets/content/images/tensorboard_logo_social.png\" align=\"center\" width=\"30%\" padding=\"0px\"><br>\n",
    "    <br>\n",
    "</div>\n",
    "\n",
    "<br>\n",
    "\n",
    "[**TensorBoard**](https://www.tensorflow.org/tensorboard/get_started) is a tool for measuring and visualizing machine learning workflows. It enables the tracking of important metrics such as [**acuracy**](https://www.tensorflow.org/api_docs/python/tf/keras/metrics/Accuracy), it can display summary operations, tensor ouputs, project embeddings to lower dimensional space, and much more. This broad functionality makes TensorBoard an important tool in evaluating, optimizing, and debugging machine learning models. For a five-minute summary of TensorBoard, click [here](https://youtu.be/3bownM3L5zM)."
   ]
  },
  {
   "cell_type": "markdown",
   "metadata": {},
   "source": [
    "<br>\n",
    "\n",
    "#### **1.2.1 Load TensorBoard and Associated Libraries**\n",
    "\n",
    "___"
   ]
  },
  {
   "cell_type": "markdown",
   "metadata": {},
   "source": [
    "**Load TensorBoard**"
   ]
  },
  {
   "cell_type": "code",
   "execution_count": 14,
   "metadata": {},
   "outputs": [],
   "source": [
    "## Load TensorBoard notebook extension ##\n",
    "%load_ext tensorboard"
   ]
  },
  {
   "cell_type": "code",
   "execution_count": 15,
   "metadata": {},
   "outputs": [],
   "source": [
    "## Load additional libraries needed ##\n",
    "from datetime import datetime\n",
    "from IPython.display import clear_output, Image, display, HTML\n",
    "import os\n",
    "import pathlib\n",
    "\n",
    "t = datetime.utcnow().strftime(\"%Y%m%d%H%M%S\") \n",
    "log_dir = \"tf_logs\"\n",
    "logd = \"/tmp/{}/r{}/\".format(log_dir, t)"
   ]
  },
  {
   "cell_type": "markdown",
   "metadata": {},
   "source": [
    "**Clear TensorBoard Logs**"
   ]
  },
  {
   "cell_type": "code",
   "execution_count": 16,
   "metadata": {},
   "outputs": [],
   "source": [
    "## Clear any logs from previous runs ##\n",
    "!rm -rf ./logs/"
   ]
  },
  {
   "cell_type": "markdown",
   "metadata": {},
   "source": [
    "<br>\n",
    "\n",
    "#### **1.2.2 Confirm TensorBoard is running**\n",
    "\n",
    "**Note:** The purpose of this section is only to highlight some of the commands for using TensorBoard. The [**MNIST**](https://en.wikipedia.org/wiki/MNIST_database) data set used here, is only for the purposes of highlighting functionality which on this case depends on the [**Keras**](https://keras.io/) library.\n",
    "\n",
    "___"
   ]
  },
  {
   "cell_type": "code",
   "execution_count": 17,
   "metadata": {},
   "outputs": [],
   "source": [
    "# from Keras datasets import mnist\n",
    "mnist = tf.keras.datasets.mnist\n",
    "\n",
    "# load data into training and testing splits\n",
    "(x_train, y_train),(x_test, y_test) = mnist.load_data()\n",
    "x_train, x_test = x_train / 255.0, x_test / 255.0\n",
    "\n",
    "# create a sequential model\n",
    "def create_model():\n",
    "  return tf.keras.models.Sequential([\n",
    "    tf.keras.layers.Flatten(input_shape=(28, 28)),\n",
    "    tf.keras.layers.Dense(512, activation='relu'),\n",
    "    tf.keras.layers.Dropout(0.2),\n",
    "    tf.keras.layers.Dense(10, activation='softmax')\n",
    "  ])"
   ]
  },
  {
   "cell_type": "markdown",
   "metadata": {},
   "source": [
    "___\n",
    "\n",
    "**Note:** Click on the following to learn more about the command:\n",
    ">[```keras.model.sequential( )```](https://keras.io/api/models/sequential/)<br>\n",
    ">[```keras.layers.Flatten( )```](https://www.tensorflow.org/api_docs/python/tf/keras/layers/Flatten)<br>\n",
    ">[```keras.layers.Dense( ) ```](https://www.tensorflow.org/api_docs/python/tf/keras/layers/Dense)<br>\n",
    ">[```keras.layers.Dropout( )```](https://www.tensorflow.org/api_docs/python/tf/keras/layers/Dropout)\n",
    "    \n",
    "___"
   ]
  },
  {
   "cell_type": "markdown",
   "metadata": {},
   "source": [
    "**Add Tensorboard callbacks**"
   ]
  },
  {
   "cell_type": "code",
   "execution_count": 18,
   "metadata": {},
   "outputs": [
    {
     "name": "stdout",
     "output_type": "stream",
     "text": [
      "Epoch 1/3\n",
      "1875/1875 [==============================] - 17s 9ms/step - loss: 0.2208 - accuracy: 0.9346 - val_loss: 0.1028 - val_accuracy: 0.9671\n",
      "Epoch 2/3\n",
      "1875/1875 [==============================] - 16s 9ms/step - loss: 0.0946 - accuracy: 0.9710 - val_loss: 0.0795 - val_accuracy: 0.9754\n",
      "Epoch 3/3\n",
      "1875/1875 [==============================] - 11s 6ms/step - loss: 0.0683 - accuracy: 0.9786 - val_loss: 0.0731 - val_accuracy: 0.9757\n"
     ]
    },
    {
     "data": {
      "text/plain": [
       "<tensorflow.python.keras.callbacks.History at 0x7f63da8d91d0>"
      ]
     },
     "execution_count": 18,
     "metadata": {},
     "output_type": "execute_result"
    }
   ],
   "source": [
    "# instantiate model class\n",
    "model = create_model()\n",
    "\n",
    "# compile model \n",
    "model.compile(optimizer='adam',\n",
    "              loss='sparse_categorical_crossentropy',\n",
    "              metrics=['accuracy'])\n",
    "\n",
    "# place logs in a timestamped subdirectory and enable histogram computation with every epoch\n",
    "log_dir = \"logs/fit/\" + datetime.now().strftime(\"%Y%m%d-%H%M%S\")\n",
    "tensorboard_callback = tf.keras.callbacks.TensorBoard(log_dir=log_dir, histogram_freq=1)\n",
    "\n",
    "\n",
    "# Fit model\n",
    "model.fit(x=x_train, \n",
    "          y=y_train, \n",
    "          epochs=3, \n",
    "          validation_data=(x_test, y_test), \n",
    "          # Adding 'callbacks=[tensorboard_callback]' to model.fit( ) ensures that logs are created and stored\n",
    "          callbacks=[tensorboard_callback])"
   ]
  },
  {
   "cell_type": "markdown",
   "metadata": {},
   "source": [
    "___\n",
    "\n",
    "**Note:** Click on the following to learn more about the command:\n",
    ">[```model.compile( )```](https://keras.io/api/models/model/)<br>\n",
    ">[```callbacks.TensorBoard( )```](https://keras.io/api/callbacks/)<br>\n",
    ">[```model.fit( ) ```](https://keras.io/api/models/model_training_apis/)\n",
    "    \n",
    "___"
   ]
  },
  {
   "cell_type": "markdown",
   "metadata": {},
   "source": [
    "**Display Tensorboard Logs**"
   ]
  },
  {
   "cell_type": "code",
   "execution_count": 20,
   "metadata": {},
   "outputs": [
    {
     "data": {
      "text/plain": [
       "Reusing TensorBoard on port 6006 (pid 30470), started 0:00:10 ago. (Use '!kill 30470' to kill it.)"
      ]
     },
     "metadata": {},
     "output_type": "display_data"
    },
    {
     "data": {
      "text/html": [
       "\n",
       "      <iframe id=\"tensorboard-frame-73db462f96e6dc80\" width=\"100%\" height=\"800\" frameborder=\"0\">\n",
       "      </iframe>\n",
       "      <script>\n",
       "        (function() {\n",
       "          const frame = document.getElementById(\"tensorboard-frame-73db462f96e6dc80\");\n",
       "          const url = new URL(\"/\", window.location);\n",
       "          url.port = 6006;\n",
       "          frame.src = url;\n",
       "        })();\n",
       "      </script>\n",
       "  "
      ],
      "text/plain": [
       "<IPython.core.display.HTML object>"
      ]
     },
     "metadata": {},
     "output_type": "display_data"
    }
   ],
   "source": [
    "## %tensorboard line magic. In command line run same command without \"%\" ##\n",
    "%tensorboard --logdir logs/fit"
   ]
  },
  {
   "cell_type": "markdown",
   "metadata": {},
   "source": [
    "___\n",
    "**Note:** if TensorBoard does not load after following the above command, try reloading TensordBoard ```%reload_ext tensorboard``` \n",
    "___"
   ]
  },
  {
   "cell_type": "markdown",
   "metadata": {},
   "source": [
    "<a id='Part_1_3'></a>\n",
    "\n",
    "<hr style=\"border: 1px solid#003262;\" />\n",
    "\n",
    "#### PART 1.3: TENSORFLOW TENSORS\n",
    "\n",
    "<br>\n",
    "\n",
    "<div align=\"center\" style=\"font-size:12px; font-family:FreeMono; font-weight: 100; font-stretch:ultra-condensed; line-height: 1.0; color:#2A2C2B\">\n",
    "    <img src=\"assets/content/images/tF_update-03.png\" align=\"center\" width=\"50%\" padding=\"0px\"><br>\n",
    "</div>\n",
    "\n",
    "[**Tensors**](https://www.tensorflow.org/api_docs/python/tf/Tensor) are immutable multidimensional arrays for working with data with more than 2-Dimensions. Tensors essentially multilinear maps from vector spaces to real numbers. Hence a tensor can be used to represent scalars, vectors, and matrices. Moreover, tensors are [**highly efficient**](https://realpython.com/numpy-tensorflow-performance/), can be ran on several architectures (CPUs, GPUs, Mobile, and Distributed), and make the calculation of gradients easier -- this is particulary useful as the analytical solution of gradients are extremely tedious to derive. To view the complete list of TensorFlow data types, see [here](https://www.tensorflow.org/api_docs/python/tf/dtypes/DType)."
   ]
  },
  {
   "cell_type": "markdown",
   "metadata": {},
   "source": [
    "<br>\n",
    "\n",
    "#### **1.3.1 tf.constant**\n",
    "\n",
    "___"
   ]
  },
  {
   "cell_type": "markdown",
   "metadata": {},
   "source": [
    "<br>\n",
    "\n",
    "[**Constants**](https://www.tensorflow.org/api_docs/python/tf/constant) are tensors, are initialized directly, and are immutable once created. In order to evaluate them, we have to run them in a [**session**](https://www.tensorflow.org/api_docs/java/reference/org/tensorflow/Session), shown below, or can be displayed using [**eager execution**](https://www.tensorflow.org/guide/eager) without a session."
   ]
  },
  {
   "cell_type": "markdown",
   "metadata": {},
   "source": [
    "<div align=\"center\" style=\"font-size:12px; font-family:FreeMono; font-weight: 100; font-stretch:ultra-condensed; line-height: 1.0; color:#2A2C2B\">\n",
    "    <img src=\"assets/content/images/tF_update-12.png\" align=\"center\" width=\"40%\" padding=\"0px\"><br>\n",
    "    <br>\n",
    "    Scalar (Rank-0) Tensor\n",
    "</div>"
   ]
  },
  {
   "cell_type": "code",
   "execution_count": 22,
   "metadata": {},
   "outputs": [],
   "source": [
    "# int32 tensors by default\n",
    "rank_0_tensor = tf.constant(4)\n",
    "b = tf.constant(5)"
   ]
  },
  {
   "cell_type": "code",
   "execution_count": 23,
   "metadata": {},
   "outputs": [
    {
     "data": {
      "text/plain": [
       "4"
      ]
     },
     "execution_count": 23,
     "metadata": {},
     "output_type": "execute_result"
    }
   ],
   "source": [
    "rank_0_tensor.numpy()"
   ]
  },
  {
   "cell_type": "code",
   "execution_count": 24,
   "metadata": {},
   "outputs": [
    {
     "data": {
      "text/plain": [
       "7.2"
      ]
     },
     "execution_count": 24,
     "metadata": {},
     "output_type": "execute_result"
    }
   ],
   "source": [
    "# tensors can also have names (in the computation graph)\n",
    "named_tensor = tf.constant(7.2, name='my_named_tuple')\n",
    "named_tensor.numpy()"
   ]
  },
  {
   "cell_type": "markdown",
   "metadata": {},
   "source": [
    "<div align=\"center\" style=\"font-size:12px; font-family:FreeMono; font-weight: 100; font-stretch:ultra-condensed; line-height: 1.0; color:#2A2C2B\">\n",
    "    <img src=\"/assets/content/images/tF_update-11.png\" align=\"center\" width=\"40%\" padding=\"0px\"><br>\n",
    "    <br>\n",
    "    Vector (Rank-1) Tensor\n",
    "</div>"
   ]
  },
  {
   "cell_type": "code",
   "execution_count": 25,
   "metadata": {},
   "outputs": [
    {
     "name": "stdout",
     "output_type": "stream",
     "text": [
      "tf.Tensor([2. 3. 4.], shape=(3,), dtype=float32)\n"
     ]
    }
   ],
   "source": [
    "# float vector tensor\n",
    "rank_1_tensor = tf.constant([2.0, 3.0, 4.0])\n",
    "print(rank_1_tensor)"
   ]
  },
  {
   "cell_type": "code",
   "execution_count": 26,
   "metadata": {},
   "outputs": [
    {
     "name": "stdout",
     "output_type": "stream",
     "text": [
      "Cannot assign contstants\n"
     ]
    }
   ],
   "source": [
    "# Contant Tensors are immutable\n",
    "try:\n",
    "    rank_1_tensor.assign(8)\n",
    "except:\n",
    "    print('Cannot assign contstants')"
   ]
  },
  {
   "cell_type": "markdown",
   "metadata": {},
   "source": [
    "<br>\n",
    "\n",
    "#### **1.3.2 tf.Variable**\n",
    "\n",
    "___"
   ]
  },
  {
   "cell_type": "markdown",
   "metadata": {},
   "source": [
    "A [**variable**](https://www.tensorflow.org/guide/variable) is the recommended way to represent data manipulated by your program. Variables are usually weights and biases of a model that are optimized during training, they also indicate the degrees of freedom of the model (what model parameters that can change, thus making the model flexible). The following covers how to create, update, and manage instances of [```tf.variable```](https://www.tensorflow.org/api_docs/python/tf/Variable)."
   ]
  },
  {
   "cell_type": "code",
   "execution_count": 27,
   "metadata": {},
   "outputs": [
    {
     "data": {
      "text/plain": [
       "<tf.Variable 'Variable:0' shape=() dtype=float32, numpy=3.0>"
      ]
     },
     "execution_count": 27,
     "metadata": {},
     "output_type": "execute_result"
    }
   ],
   "source": [
    "# Create variable tensor\n",
    "var = tf.Variable(3.)\n",
    "var"
   ]
  },
  {
   "cell_type": "code",
   "execution_count": 28,
   "metadata": {},
   "outputs": [
    {
     "data": {
      "text/plain": [
       "<tf.Variable 'Variable:0' shape=() dtype=float32, numpy=4.0>"
      ]
     },
     "execution_count": 28,
     "metadata": {},
     "output_type": "execute_result"
    }
   ],
   "source": [
    "# Reassign the value of a Variable\n",
    "var.assign(4)\n",
    "var"
   ]
  },
  {
   "cell_type": "markdown",
   "metadata": {},
   "source": [
    "___\n",
    "\n",
    "**Remark:** why ```tf.constant()``` yet ```tf.Variable()```?  The lowercase ```c``` in ```tf.constant()``` is intended to indicate that tf.constant is an operation, while the captital ```V``` in ```tf.Variable```, is to indicate that it is a class with many operations.\n",
    "___"
   ]
  },
  {
   "cell_type": "markdown",
   "metadata": {},
   "source": [
    "<br>\n",
    "\n",
    "**Multidimensional Tensors**"
   ]
  },
  {
   "cell_type": "markdown",
   "metadata": {},
   "source": [
    "<div align=\"center\" style=\"font-size:12px; font-family:FreeMono; font-weight: 100; font-stretch:ultra-condensed; line-height: 1.0; color:#2A2C2B\">\n",
    "    <img src=\"assets/content/images/tF_update-10.png\" align=\"center\" width=\"40%\" padding=\"0px\"><br>\n",
    "    Matrix (Rank-2) Tensor\n",
    "</div>"
   ]
  },
  {
   "cell_type": "code",
   "execution_count": 29,
   "metadata": {},
   "outputs": [
    {
     "name": "stdout",
     "output_type": "stream",
     "text": [
      "tf.Tensor(\n",
      "[[1. 2.]\n",
      " [3. 4.]\n",
      " [5. 6.]], shape=(3, 2), dtype=float16)\n"
     ]
    }
   ],
   "source": [
    "# tensors can be n-arrays, and we can specity data type\n",
    "rank_2_tensor = tf.constant([[1, 2],\n",
    "                             [3, 4],\n",
    "                             [5, 6]], dtype=tf.float16)\n",
    "print(rank_2_tensor)"
   ]
  },
  {
   "cell_type": "markdown",
   "metadata": {},
   "source": [
    "<br>\n",
    "\n",
    "**Build tensors using distributions**"
   ]
  },
  {
   "cell_type": "code",
   "execution_count": 30,
   "metadata": {},
   "outputs": [
    {
     "data": {
      "text/plain": [
       "<tf.Variable 'Variable:0' shape=(3, 1) dtype=float64, numpy=\n",
       "array([[-0.48614582],\n",
       "       [ 1.10613846],\n",
       "       [ 0.1679901 ]])>"
      ]
     },
     "execution_count": 30,
     "metadata": {},
     "output_type": "execute_result"
    }
   ],
   "source": [
    "# we can also create multi dim Variables directly\n",
    "c = tf.Variable(np.random.randn(3).reshape(3,1)) #reshape\n",
    "# automatically assings data type\n",
    "c #"
   ]
  },
  {
   "cell_type": "code",
   "execution_count": 31,
   "metadata": {},
   "outputs": [
    {
     "data": {
      "text/plain": [
       "<tf.Variable 'Variable:0' shape=(2, 2) dtype=float32, numpy=\n",
       "array([[1., 2.],\n",
       "       [3., 4.]], dtype=float32)>"
      ]
     },
     "execution_count": 31,
     "metadata": {},
     "output_type": "execute_result"
    }
   ],
   "source": [
    "# Altenatively, we can pass Python Lists or NumPy arrays\n",
    "my_tensor = tf.constant([[1.0, 2.0], [3.0, 4.0]])\n",
    "my_var = tf.Variable(my_tensor)\n",
    "my_var"
   ]
  },
  {
   "cell_type": "code",
   "execution_count": 32,
   "metadata": {},
   "outputs": [
    {
     "name": "stdout",
     "output_type": "stream",
     "text": [
      "\n",
      "name  :  Variable:0\n",
      "\n",
      "type  :  <dtype: 'float32'>\n",
      "\n",
      "shape :  (2, 2)\n",
      "\n",
      "device:  /job:localhost/replica:0/task:0/device:CPU:0\n",
      "\n",
      "As NumPy:  <bound method BaseResourceVariable.numpy of <tf.Variable 'Variable:0' shape=(2, 2) dtype=float32, numpy=\n",
      "array([[1., 2.],\n",
      "       [3., 4.]], dtype=float32)>>\n"
     ]
    }
   ],
   "source": [
    "# view properties of tensor\n",
    "print('\\nname  : ', my_var.name)\n",
    "print('\\ntype  : ', my_var.dtype)\n",
    "print('\\nshape : ', my_var.shape)\n",
    "print('\\ndevice: ', my_var.device)\n",
    "print(\"\\nAs NumPy: \", my_var.numpy)"
   ]
  },
  {
   "cell_type": "code",
   "execution_count": 33,
   "metadata": {},
   "outputs": [
    {
     "name": "stdout",
     "output_type": "stream",
     "text": [
      "\n",
      "Viewed as a tensor: tf.Tensor(\n",
      "[[1. 2.]\n",
      " [3. 4.]], shape=(2, 2), dtype=float32)\n",
      "\n",
      "Index of highest value: tf.Tensor([1 1], shape=(2,), dtype=int64)\n"
     ]
    }
   ],
   "source": [
    "# Tensor operations\n",
    "print(\"\\nViewed as a tensor:\", tf.convert_to_tensor(my_var))\n",
    "print(\"\\nIndex of highest value:\", tf.argmax(my_var))"
   ]
  },
  {
   "cell_type": "markdown",
   "metadata": {},
   "source": [
    "<br>\n",
    "\n",
    "<div align=\"center\" style=\"font-size:12px; font-family:FreeMono; font-weight: 100; font-stretch:ultra-condensed; line-height: 1.0; color:#2A2C2B\">\n",
    "    <img src=\"/assets/content/images/tF_update-09.png\" align=\"center\" width=\"50%\" padding=\"0px\"><br>\n",
    "    3D (Rank-3) Tensor\n",
    "</div>"
   ]
  },
  {
   "cell_type": "code",
   "execution_count": 34,
   "metadata": {},
   "outputs": [
    {
     "name": "stdout",
     "output_type": "stream",
     "text": [
      "tf.Tensor(\n",
      "[[[ 0  1  2  3  4]\n",
      "  [ 5  6  7  8  9]]\n",
      "\n",
      " [[10 11 12 13 14]\n",
      "  [15 16 17 18 19]]\n",
      "\n",
      " [[20 21 22 23 24]\n",
      "  [25 26 27 28 29]]], shape=(3, 2, 5), dtype=int32)\n"
     ]
    }
   ],
   "source": [
    "# Tensors with 3 or more axes (dimensions)\n",
    "rank_3_tensor = tf.constant([\n",
    "  [[0, 1, 2, 3, 4],\n",
    "   [5, 6, 7, 8, 9]],\n",
    "  [[10, 11, 12, 13, 14],\n",
    "   [15, 16, 17, 18, 19]],\n",
    "  [[20, 21, 22, 23, 24],\n",
    "   [25, 26, 27, 28, 29]],])\n",
    "                    \n",
    "print(rank_3_tensor)"
   ]
  },
  {
   "cell_type": "markdown",
   "metadata": {},
   "source": [
    "<br>\n",
    "\n",
    "**Tensor Variable Assignments**"
   ]
  },
  {
   "cell_type": "code",
   "execution_count": 35,
   "metadata": {},
   "outputs": [
    {
     "name": "stdout",
     "output_type": "stream",
     "text": [
      "\n",
      "Copying and reshaping (this creates a new tensor):  tf.Tensor([[1. 2. 3. 4.]], shape=(1, 4), dtype=float32)\n"
     ]
    }
   ],
   "source": [
    "# This creates a new tensor; it does not reshape my_var.\n",
    "print(\"\\nCopying and reshaping (this creates a new tensor): \", tf.reshape(my_var, ([1,4])))"
   ]
  },
  {
   "cell_type": "code",
   "execution_count": 36,
   "metadata": {},
   "outputs": [
    {
     "name": "stdout",
     "output_type": "stream",
     "text": [
      "ValueError: Shapes (2,) and (3,) are incompatible\n"
     ]
    }
   ],
   "source": [
    "## Sanity Check ##\n",
    "\n",
    "d = tf.Variable([4.0, 5.5])\n",
    "# This will keep the same dtype, float32\n",
    "d.assign([10, 20]) \n",
    "\n",
    "# Fails, as it resizes the variable \n",
    "try:\n",
    "  d.assign([1.0, 2.0, 3.0])\n",
    "except Exception as exc:\n",
    "  print(f\"{type(exc).__name__}: {exc}\")"
   ]
  },
  {
   "cell_type": "markdown",
   "metadata": {},
   "source": [
    "___\n",
    "\n",
    "**Note:** Calling ```assign( )``` does not, usually, allocate a new tensor -- instead the tensor's memory is reused.\n",
    "\n",
    "___"
   ]
  },
  {
   "cell_type": "code",
   "execution_count": 37,
   "metadata": {},
   "outputs": [
    {
     "name": "stdout",
     "output_type": "stream",
     "text": [
      "[10. 20.]\n",
      "[10. 20.]\n"
     ]
    }
   ],
   "source": [
    "## Sanity Check ##\n",
    "\n",
    "# Create a new variable based on valued of d\n",
    "e = tf.Variable(d)\n",
    "# make assignment\n",
    "d.assign([10, 20]) \n",
    "\n",
    "# a and b are different\n",
    "print(e.numpy())\n",
    "print(d.numpy())"
   ]
  },
  {
   "cell_type": "code",
   "execution_count": 38,
   "metadata": {},
   "outputs": [
    {
     "name": "stdout",
     "output_type": "stream",
     "text": [
      "\n",
      "original value:  3.0\n",
      "\n",
      "assigned value:  10.0\n",
      "\n",
      "add 1: 11.0\n",
      "\n",
      "subtract 5: 6.0\n",
      "\n",
      "Increase/Decrease values in arrays\n",
      "original value:  [10. 20.]\n",
      "\n",
      "add [1,4]:  [11. 24.]\n",
      "\n",
      "subtract [3,5] [ 8. 19.]\n"
     ]
    }
   ],
   "source": [
    "# Inplace increase/decrease variable values\n",
    "\n",
    "f = tf.Variable(3.)\n",
    "print('\\noriginal value: ', f.numpy())\n",
    "f.assign(10)\n",
    "print('\\nassigned value: ', f.numpy())\n",
    "print('\\nadd 1:', f.assign_add(1.).numpy())\n",
    "print('\\nsubtract 5:', f.assign_sub(5.).numpy())\n",
    "\n",
    "# same but for arrays\n",
    "print(\"\\nIncrease/Decrease values in arrays\")\n",
    "print('original value: ',e.numpy())      \n",
    "print('\\nadd [1,4]: ', e.assign_add([1,4]).numpy())  \n",
    "print('\\nsubtract [3,5]', e.assign_sub([3,5]).numpy())  \n"
   ]
  },
  {
   "cell_type": "markdown",
   "metadata": {},
   "source": [
    "<!--Navigate back to table of contents-->\n",
    "<div align=\"left\" style=\"text-align: left; background-color:#003262;\">\n",
    "    <span>\n",
    "        <hr style=\"border: 8px solid#003262;\" />\n",
    "        <a style=\"color:#FFFFFF; background-color:#003262; border:1px solid #FFFFFF; border-color:#FFFFFF;border-radius:0px;border-width:0px;display:inline-block;font-family:arial,helvetica,sans-serif;font-size:24px;letter-spacing:0px;line-height:20px;padding:24px 40px;text-align:left;text-decoration:none; align:left\"> \n",
    "            <strong>CONCEPT</strong> CHECK \n",
    "        </a>        \n",
    "    </span>\n",
    "\n",
    "</div>\n",
    "<!-------------------------------------->\n",
    "\n",
    "<br>\n",
    "\n",
    "<div align=\"center\" style=\"font-size:12px; font-family:FreeMono; font-weight: 100; font-stretch:ultra-condensed; line-height: 1.0; color:#2A2C2B\">\n",
    "    <img src=\"assets/content/images/tF_update-08.png\" align=\"center\" width=\"50%\" padding=\"0px\"><br>\n",
    "    4D (Rank-4) Tensor\n",
    "</div>\n",
    "\n",
    "\n",
    "> **To test your understanding of Tensors, create the above Tensor. For simplicity, make all entries equal to zero and name your tensor as** ```rank_4_tensor``` **.** \n",
    "\n",
    "\n",
    "<hr style=\"border: 2px solid#003262;\" />"
   ]
  },
  {
   "cell_type": "code",
   "execution_count": 39,
   "metadata": {},
   "outputs": [],
   "source": [
    "# your code here\n",
    "\n",
    "\n"
   ]
  },
  {
   "cell_type": "code",
   "execution_count": 40,
   "metadata": {},
   "outputs": [],
   "source": [
    "## Sanity Check ##\n",
    "#print(\"\\nType of elements:\", rank_4_tensor.dtype)\n",
    "#print(\"\\nNumber of dimensions:\", rank_4_tensor.ndim)\n",
    "#print(\"\\nShape of tensor:\", rank_4_tensor.shape)\n",
    "#print(\"\\nElements along axis 0 of tensor:\", rank_4_tensor.shape[0])\n",
    "#print(\"\\nElements along the last axis of tensor:\", rank_4_tensor.shape[-1])\n",
    "#print(\"\\nTotal number of elements (3*2*4*5): \", tf.size(rank_4_tensor).numpy())"
   ]
  },
  {
   "cell_type": "markdown",
   "metadata": {},
   "source": [
    "<!--Navigate back to table of contents-->\n",
    "<br>\n",
    "<div alig=\"right\" style=\"text-align: right\">\n",
    "    <span>\n",
    "        <a style=\"color:#FFFFFF; background-color:#003262; border:1px solid #FFFFFF; border-color:#FFFFFF;border-radius:5px;border-width:0px;display:inline-block;font-family:arial,helvetica,sans-serif;font-size:10px;letter-spacing:0px;line-height:10px;padding:10px 20px;text-align:center;text-decoration:none; align:center\" href=\"#Part_table_contents\" name=\"Table of Contents\"  id=\"Part_table_contents\"> \n",
    "            Table of Contents \n",
    "        </a>\n",
    "    </span>\n",
    "</div>\n",
    "<!-------------------------------------->"
   ]
  },
  {
   "cell_type": "markdown",
   "metadata": {},
   "source": [
    "<br>\n",
    "\n",
    "#### **1.3.3 (Optional) Lifecycles, naming, and watching**\n",
    "\n",
    "___"
   ]
  },
  {
   "cell_type": "markdown",
   "metadata": {},
   "source": [
    "Similar to Python Objects, a ```tf.Variable``` instance has an [**object lifecyle**](https://en.wikipedia.org/wiki/Object_lifetime). For example, when there are no references to a variable it is automatically ignored and deallocated. Variable names are preserved when loading and saving models -- however, there is no need to assign them as variables in in models are uniquely named automatically."
   ]
  },
  {
   "cell_type": "code",
   "execution_count": 41,
   "metadata": {},
   "outputs": [],
   "source": [
    "# Altenatively, we can pass Python Lists or NumPy arrays\n",
    "my_tensor = tf.constant([[1.0, 2.0], [3.0, 4.0]])"
   ]
  },
  {
   "cell_type": "code",
   "execution_count": 42,
   "metadata": {},
   "outputs": [
    {
     "name": "stdout",
     "output_type": "stream",
     "text": [
      "tf.Tensor(\n",
      "[[False False]\n",
      " [False False]], shape=(2, 2), dtype=bool)\n"
     ]
    }
   ],
   "source": [
    "# Create a and b; they have the same value but are backed by different tensors.\n",
    "g = tf.Variable(my_tensor, name=\"Mark\")\n",
    "\n",
    "# A new variable with the same name, but different value\n",
    "h = tf.Variable(my_tensor + 1, name=\"Mark\")      # Note that the scalar add is broadcast (see intro_NUMPY for details)\n",
    "\n",
    "# These are elementwise-unequal, despite having the same name\n",
    "print(g == h)"
   ]
  },
  {
   "cell_type": "markdown",
   "metadata": {},
   "source": [
    "<br>\n",
    "\n",
    "#### **1.3.4 (Optional) Placing variables and tensors**\n",
    "\n",
    "___"
   ]
  },
  {
   "cell_type": "markdown",
   "metadata": {},
   "source": [
    "TensorFlow will always attempt to place tensors and variables on the fastest device compatible with the ```dtype```. However, this too is a process that can be overriden if desired. The following shows an example of such an instance. In particular, a float tensor and variable are placed on a CPU even if a GPU is available -- most variables are placed on a GPU if one is available. For more details on placing variables and tensors, see [here](https://www.tensorflow.org/guide/variable)."
   ]
  },
  {
   "cell_type": "code",
   "execution_count": 43,
   "metadata": {},
   "outputs": [
    {
     "name": "stdout",
     "output_type": "stream",
     "text": [
      "tf.Tensor(\n",
      "[[22. 28.]\n",
      " [49. 64.]], shape=(2, 2), dtype=float32)\n"
     ]
    }
   ],
   "source": [
    "with tf.device('CPU:0'):\n",
    "\n",
    "  # Create some tensors\n",
    "  i = tf.Variable([[1.0, 2.0, 3.0], [4.0, 5.0, 6.0]])\n",
    "  j = tf.constant([[1.0, 2.0], [3.0, 4.0], [5.0, 6.0]])\n",
    "  k = tf.matmul(i, j)\n",
    "\n",
    "print(k)"
   ]
  },
  {
   "cell_type": "markdown",
   "metadata": {},
   "source": [
    "___\n",
    "\n",
    "**Note:** Placing variables is an important aspect of TF. This is because it is possible to set the location of a variable or tensor on one device, yet do the computation on another device. This may introduce delay when devices communicate with one-another, but should you want to have multiple GPU workers yet only one copy of the variables this approach is worth considering. See [**automatic distribution**](https://www.tensorflow.org/guide/autodiff) for details.\n",
    "\n",
    "\n",
    "___"
   ]
  },
  {
   "cell_type": "code",
   "execution_count": 44,
   "metadata": {},
   "outputs": [
    {
     "name": "stdout",
     "output_type": "stream",
     "text": [
      "tf.Tensor(\n",
      "[[ 1.  4.  9.]\n",
      " [ 4. 10. 18.]], shape=(2, 3), dtype=float32)\n"
     ]
    }
   ],
   "source": [
    "with tf.device('CPU:0'):\n",
    "  l = tf.Variable([[1.0, 2.0, 3.0], [4.0, 5.0, 6.0]])\n",
    "  m = tf.Variable([[1.0, 2.0, 3.0]])\n",
    "    \n",
    "with tf.device('GPU:0'):\n",
    "  # Element-wise multiply\n",
    "  n = l * m\n",
    "\n",
    "print(n)"
   ]
  },
  {
   "cell_type": "markdown",
   "metadata": {},
   "source": [
    "___\n",
    "\n",
    "**Note:** [**tf.config.set_soft_device_placement**](https://www.tensorflow.org/api_docs/python/tf/config/set_soft_device_placement) is on by default. If you run the code above on a device witout a GPU, the multiplication will be ran on the CPU.\n",
    "    \n",
    "___"
   ]
  },
  {
   "cell_type": "markdown",
   "metadata": {},
   "source": [
    "<a id='Part_1_4'></a>\n",
    "\n",
    "<hr style=\"border: 1px solid#003262;\" />\n",
    "\n",
    "#### PART 1.4: TENSORFLOW OPERATIONS\n",
    "<br>\n",
    "\n",
    "<div align=\"center\" style=\"font-size:12px; font-family:FreeMono; font-weight: 100; font-stretch:ultra-condensed; line-height: 1.0; color:#2A2C2B\">\n",
    "    <img src=\"assets/content/images/tF_update-04.png\" align=\"center\" width=\"50%\" padding=\"0px\"><br>\n",
    "</div>"
   ]
  },
  {
   "cell_type": "markdown",
   "metadata": {},
   "source": [
    "<br>\n",
    "\n",
    "#### **1.4.1 Basic Arithmetic on Tensors**\n",
    "\n",
    "___"
   ]
  },
  {
   "cell_type": "code",
   "execution_count": 45,
   "metadata": {},
   "outputs": [],
   "source": [
    "a = tf.constant([[1, 2],\n",
    "                 [3, 4]])\n",
    "b = tf.constant([[10, 20],\n",
    "                 [30, 40]]) "
   ]
  },
  {
   "cell_type": "code",
   "execution_count": 46,
   "metadata": {},
   "outputs": [
    {
     "name": "stdout",
     "output_type": "stream",
     "text": [
      "tf.Tensor(\n",
      "[[11 22]\n",
      " [33 44]], shape=(2, 2), dtype=int32)\n"
     ]
    }
   ],
   "source": [
    "# Addition\n",
    "print(tf.add(a, b))"
   ]
  },
  {
   "cell_type": "code",
   "execution_count": 47,
   "metadata": {},
   "outputs": [
    {
     "name": "stdout",
     "output_type": "stream",
     "text": [
      "tf.Tensor(\n",
      "[[11 22]\n",
      " [33 44]], shape=(2, 2), dtype=int32)\n"
     ]
    }
   ],
   "source": [
    "# Alternatively, element-wise addition using operator overloading\n",
    "print(a + b)"
   ]
  },
  {
   "cell_type": "code",
   "execution_count": 48,
   "metadata": {},
   "outputs": [
    {
     "name": "stdout",
     "output_type": "stream",
     "text": [
      "tf.Tensor(\n",
      "[[ 10  40]\n",
      " [ 90 160]], shape=(2, 2), dtype=int32)\n"
     ]
    }
   ],
   "source": [
    "# Element-wise multiplication\n",
    "print(tf.multiply(a, b))"
   ]
  },
  {
   "cell_type": "code",
   "execution_count": 49,
   "metadata": {},
   "outputs": [
    {
     "name": "stdout",
     "output_type": "stream",
     "text": [
      "tf.Tensor(\n",
      "[[ 10  40]\n",
      " [ 90 160]], shape=(2, 2), dtype=int32)\n"
     ]
    }
   ],
   "source": [
    "# Alternatively, element-wise multiplication using operator overloading\n",
    "print(a * b)"
   ]
  },
  {
   "cell_type": "code",
   "execution_count": 50,
   "metadata": {},
   "outputs": [
    {
     "name": "stdout",
     "output_type": "stream",
     "text": [
      "[[ 10  40]\n",
      " [ 90 160]]\n"
     ]
    }
   ],
   "source": [
    "# Use NumPy values\n",
    "import numpy as np\n",
    "\n",
    "ab = np.multiply(a, b)\n",
    "print(ab)"
   ]
  },
  {
   "cell_type": "code",
   "execution_count": 51,
   "metadata": {},
   "outputs": [
    {
     "name": "stdout",
     "output_type": "stream",
     "text": [
      "tf.Tensor(\n",
      "[[ 70 100]\n",
      " [150 220]], shape=(2, 2), dtype=int32)\n"
     ]
    }
   ],
   "source": [
    "# Matrix multiplication\n",
    "print(tf.matmul(a, b))"
   ]
  },
  {
   "cell_type": "code",
   "execution_count": 52,
   "metadata": {},
   "outputs": [
    {
     "name": "stdout",
     "output_type": "stream",
     "text": [
      "tf.Tensor(\n",
      "[[ 70 100]\n",
      " [150 220]], shape=(2, 2), dtype=int32)\n"
     ]
    }
   ],
   "source": [
    "# Alternatively, Matrix multiplication\n",
    "print(a @ b)"
   ]
  },
  {
   "cell_type": "markdown",
   "metadata": {},
   "source": [
    "<br>\n",
    "\n",
    "#### **1.4.2 Operations on Tensors**\n",
    "\n",
    "<div align=\"center\" style=\"font-size:12px; font-family:FreeMono; font-weight: 100; font-stretch:ultra-condensed; line-height: 1.0; color:#2A2C2B\">\n",
    "    <img src=\"assets/content/images/tF_update-02.png\" align=\"center\" width=\"40%\" padding=\"0px\"><br>\n",
    "</div>\n",
    "\n",
    "___\n",
    "\n",
    "<br>\n",
    "\n",
    "The following represent a few operations on tensors. For a comprehensive list see [here](https://www.tensorflow.org/api_docs/python/tf/Tensor)."
   ]
  },
  {
   "cell_type": "code",
   "execution_count": 53,
   "metadata": {},
   "outputs": [],
   "source": [
    "c = tf.constant([[3.0, 7.0], [10.0, 2.0]])"
   ]
  },
  {
   "cell_type": "code",
   "execution_count": 54,
   "metadata": {},
   "outputs": [
    {
     "name": "stdout",
     "output_type": "stream",
     "text": [
      "tf.Tensor(10.0, shape=(), dtype=float32)\n"
     ]
    }
   ],
   "source": [
    "# Find the largest value\n",
    "print(tf.reduce_max(c))"
   ]
  },
  {
   "cell_type": "code",
   "execution_count": 55,
   "metadata": {},
   "outputs": [
    {
     "name": "stdout",
     "output_type": "stream",
     "text": [
      "tf.Tensor([1 0], shape=(2,), dtype=int64)\n"
     ]
    }
   ],
   "source": [
    "# Find the index of the largest value\n",
    "print(tf.argmax(c))"
   ]
  },
  {
   "cell_type": "code",
   "execution_count": 56,
   "metadata": {},
   "outputs": [
    {
     "name": "stdout",
     "output_type": "stream",
     "text": [
      "tf.Tensor(\n",
      "[[1.7986210e-02 9.8201376e-01]\n",
      " [9.9966466e-01 3.3535014e-04]], shape=(2, 2), dtype=float32)\n"
     ]
    }
   ],
   "source": [
    "# Compute the softmax\n",
    "print(tf.nn.softmax(c))"
   ]
  },
  {
   "cell_type": "markdown",
   "metadata": {},
   "source": [
    "<br>\n",
    "\n",
    "**Gradients from scrach**\n",
    "\n",
    "> On the following examples, we are using [**tf.GradientTape( )**](https://www.tensorflow.org/api_docs/python/tf/GradientTape) to compute some example gradients. GradientTape is considered an advanced TensorFlow feature, but also an extremely powerful option for [advanced and custom differentiation](https://www.tensorflow.org/guide/advanced_autodiff)."
   ]
  },
  {
   "cell_type": "code",
   "execution_count": 57,
   "metadata": {},
   "outputs": [],
   "source": [
    "import tensorflow as tf\n",
    "\n",
    "import matplotlib as mpl\n",
    "import matplotlib.pyplot as plt\n",
    "\n",
    "mpl.rcParams['figure.figsize'] = (6, 4)"
   ]
  },
  {
   "cell_type": "code",
   "execution_count": 58,
   "metadata": {},
   "outputs": [],
   "source": [
    "# create a noisy dataset that resembles y=mx+b+some_noise\n",
    "def noisy_data(m=0.3, b=.3, n=100):\n",
    "    x = tf.random.uniform(shape=(n,))\n",
    "    some_noise = tf.random.normal(shape=(len(x),), stddev=0.01)\n",
    "    y = m * x + b + some_noise\n",
    "    return(x, y)"
   ]
  },
  {
   "cell_type": "code",
   "execution_count": 59,
   "metadata": {},
   "outputs": [],
   "source": [
    "# get some data\n",
    "x_train, y_train = noisy_data()"
   ]
  },
  {
   "cell_type": "code",
   "execution_count": 60,
   "metadata": {},
   "outputs": [
    {
     "data": {
      "text/plain": [
       "[<matplotlib.lines.Line2D at 0x7f6436ec3080>]"
      ]
     },
     "execution_count": 60,
     "metadata": {},
     "output_type": "execute_result"
    },
    {
     "data": {
      "image/png": "[encoded data removed]",
      "text/plain": [
       "<Figure size 432x288 with 1 Axes>"
      ]
     },
     "metadata": {
      "needs_background": "light"
     },
     "output_type": "display_data"
    }
   ],
   "source": [
    "# visualize the data as scatter\n",
    "plt.plot(x_train, y_train, 'b.')"
   ]
  },
  {
   "cell_type": "code",
   "execution_count": 61,
   "metadata": {},
   "outputs": [],
   "source": [
    "# declare variables\n",
    "m = tf.Variable(0.)\n",
    "b = tf.Variable(0.)"
   ]
  },
  {
   "cell_type": "code",
   "execution_count": 62,
   "metadata": {},
   "outputs": [],
   "source": [
    "# prediction\n",
    "def pred_response(x):\n",
    "    y = m * x + b\n",
    "    return(y)"
   ]
  },
  {
   "cell_type": "code",
   "execution_count": 63,
   "metadata": {},
   "outputs": [],
   "source": [
    "# loss function\n",
    "def squared_error(y_pred, y_act):\n",
    "    squaredError = tf.reduce_mean(tf.square(y_pred - y_act))\n",
    "    return(squaredError)"
   ]
  },
  {
   "cell_type": "code",
   "execution_count": 64,
   "metadata": {},
   "outputs": [
    {
     "name": "stdout",
     "output_type": "stream",
     "text": [
      "Starting loss:  0.21023634\n"
     ]
    }
   ],
   "source": [
    "# compute loss prior to training\n",
    "loss = squared_error(pred_response(x_train), y_train)\n",
    "print(\"Starting loss: \", loss.numpy())"
   ]
  },
  {
   "cell_type": "code",
   "execution_count": 65,
   "metadata": {},
   "outputs": [
    {
     "name": "stdout",
     "output_type": "stream",
     "text": [
      "Step number: 0, has loss 0.210236\n",
      "Step number: 10, has loss 0.014856\n",
      "Step number: 20, has loss 0.001797\n",
      "Step number: 30, has loss 0.000838\n",
      "Step number: 40, has loss 0.000693\n",
      "Step number: 50, has loss 0.000613\n",
      "Step number: 60, has loss 0.000546\n",
      "Step number: 70, has loss 0.000488\n",
      "Step number: 80, has loss 0.000438\n",
      "Step number: 90, has loss 0.000394\n",
      "Step number: 100, has loss 0.000355\n",
      "Step number: 110, has loss 0.000322\n",
      "Step number: 120, has loss 0.000293\n",
      "Step number: 130, has loss 0.000267\n",
      "Step number: 140, has loss 0.000245\n",
      "Step number: 150, has loss 0.000226\n",
      "Step number: 160, has loss 0.000209\n",
      "Step number: 170, has loss 0.000194\n",
      "Step number: 180, has loss 0.000181\n",
      "Step number: 190, has loss 0.000170\n",
      "Gradient after 200 steps:  [<tf.Tensor: shape=(), dtype=float32, numpy=-0.0037681938>, <tf.Tensor: shape=(), dtype=float32, numpy=0.0020241837>]\n"
     ]
    }
   ],
   "source": [
    "# gradient descent from scratch\n",
    "learning_rate = 0.05\n",
    "steps = 200\n",
    "\n",
    "for i in range(steps):\n",
    "    with tf.GradientTape() as tape:\n",
    "        predictions = pred_response(x_train)\n",
    "        loss = squared_error (predictions, y_train)\n",
    "    \n",
    "    # compute loss with respect to m and b\n",
    "    gradients = tape.gradient(loss, [m, b])\n",
    "    \n",
    "    m.assign_sub(gradients[0] * learning_rate)\n",
    "    b.assign_sub(gradients[1] * learning_rate)\n",
    "   \n",
    "    \n",
    "    # track steps\n",
    "    if i % 10 == 0:\n",
    "        print(\"Step number: %d, has loss %f\" % (i, loss.numpy()))\n",
    "\n",
    "\n",
    "print(\"\\nGradient after %d steps: \" % steps, gradients)        "
   ]
  },
  {
   "cell_type": "markdown",
   "metadata": {},
   "source": [
    "<br>\n",
    "\n",
    "#### **1.4.3 Data Selection: Indexing and Slicing a Tensor**\n",
    "___\n",
    "\n",
    "<br>\n",
    "\n",
    "TensorFlow follows standard Python indexing rules. For details see: [**Indexing Tensors**](https://www.tensorflow.org/guide/tensor#indexing)"
   ]
  },
  {
   "cell_type": "markdown",
   "metadata": {},
   "source": [
    "**Single-Axis Indexing**"
   ]
  },
  {
   "cell_type": "code",
   "execution_count": 66,
   "metadata": {},
   "outputs": [
    {
     "data": {
      "text/plain": [
       "<tf.Tensor: shape=(12,), dtype=int32, numpy=array([ 0,  1,  2,  3,  5,  6,  7,  8, 10, 20, 30, 40], dtype=int32)>"
      ]
     },
     "execution_count": 66,
     "metadata": {},
     "output_type": "execute_result"
    }
   ],
   "source": [
    "my_tensor = tf.constant([0, 1, 2, 3, 5, 6, 7, 8, 10, 20, 30, 40])\n",
    "my_tensor"
   ]
  },
  {
   "cell_type": "code",
   "execution_count": 67,
   "metadata": {},
   "outputs": [
    {
     "name": "stdout",
     "output_type": "stream",
     "text": [
      "First: 0\n",
      "Second: 1\n",
      "Last: 40\n"
     ]
    }
   ],
   "source": [
    "# indexing with a sclar removes the dimension\n",
    "print(\"First:\", my_tensor[0].numpy())\n",
    "print(\"Second:\", my_tensor[1].numpy())\n",
    "print(\"Last:\", my_tensor[-1].numpy())"
   ]
  },
  {
   "cell_type": "markdown",
   "metadata": {},
   "source": [
    "<br>\n",
    "\n",
    "**Single-Axis Slicing**"
   ]
  },
  {
   "cell_type": "code",
   "execution_count": 68,
   "metadata": {},
   "outputs": [
    {
     "name": "stdout",
     "output_type": "stream",
     "text": [
      "Everything: [ 0  1  2  3  5  6  7  8 10 20 30 40]\n",
      "Before 4: [2. 3. 4.]\n",
      "From 4 to the end: []\n",
      "From 2, before 8: [4.]\n",
      "Every other item: [2. 4.]\n",
      "Reversed: [4. 3. 2.]\n"
     ]
    }
   ],
   "source": [
    "print(\"Everything:\", my_tensor[:].numpy())\n",
    "print(\"Before 4:\", rank_1_tensor[:4].numpy())\n",
    "print(\"From 4 to the end:\", rank_1_tensor[4:].numpy())\n",
    "print(\"From 2, before 8:\", rank_1_tensor[2:8].numpy())\n",
    "print(\"Every other item:\", rank_1_tensor[::2].numpy())\n",
    "print(\"Reversed:\", rank_1_tensor[::-1].numpy())"
   ]
  },
  {
   "cell_type": "markdown",
   "metadata": {},
   "source": [
    "___\n",
    "\n",
    "**Note:** Integer indexing removes the dimension, while range indexing (i.e. slice) keeps the dimension.\n",
    "    \n",
    "___"
   ]
  },
  {
   "cell_type": "markdown",
   "metadata": {},
   "source": [
    "<br>\n",
    "\n",
    "**Multi-Axis Indexing**"
   ]
  },
  {
   "cell_type": "code",
   "execution_count": 69,
   "metadata": {},
   "outputs": [
    {
     "name": "stdout",
     "output_type": "stream",
     "text": [
      "[[1. 2.]\n",
      " [3. 4.]\n",
      " [5. 6.]]\n"
     ]
    }
   ],
   "source": [
    "# reusing rank-2 tensor from before\n",
    "print(rank_2_tensor.numpy())"
   ]
  },
  {
   "cell_type": "code",
   "execution_count": 70,
   "metadata": {},
   "outputs": [
    {
     "name": "stdout",
     "output_type": "stream",
     "text": [
      "6.0\n"
     ]
    }
   ],
   "source": [
    "# Pull out a single value from a 2-rank tensor\n",
    "print(rank_2_tensor[2, 1].numpy())"
   ]
  },
  {
   "cell_type": "code",
   "execution_count": 71,
   "metadata": {},
   "outputs": [
    {
     "name": "stdout",
     "output_type": "stream",
     "text": [
      "Second row: [3. 4.]\n",
      "Second column: [2. 4. 6.]\n",
      "Last row: [5. 6.]\n",
      "First item in last column: 2.0\n",
      "Skip the first row:\n",
      "[[3. 4.]\n",
      " [5. 6.]] \n",
      "\n"
     ]
    }
   ],
   "source": [
    "# Get row and column tensors using combination of indexing and slices\n",
    "print(\"Second row:\", rank_2_tensor[1, :].numpy())\n",
    "print(\"Second column:\", rank_2_tensor[:, 1].numpy())\n",
    "print(\"Last row:\", rank_2_tensor[-1, :].numpy())\n",
    "print(\"First item in last column:\", rank_2_tensor[0, -1].numpy())\n",
    "print(\"Skip the first row:\")\n",
    "print(rank_2_tensor[1:, :].numpy(), \"\\n\")"
   ]
  },
  {
   "cell_type": "markdown",
   "metadata": {},
   "source": [
    "<br>\n",
    "\n",
    "#### **1.4.4 Manipulating Tensor Shapes**\n",
    "___\n"
   ]
  },
  {
   "cell_type": "markdown",
   "metadata": {},
   "source": [
    "<br>\n",
    "\n",
    "Performing a tensor [**reshape**](https://www.tensorflow.org/guide/tensor#manipulating_shapes) will work so long as the shape of the new tensor has the same number of elements. "
   ]
  },
  {
   "cell_type": "code",
   "execution_count": 72,
   "metadata": {},
   "outputs": [
    {
     "name": "stdout",
     "output_type": "stream",
     "text": [
      "(3, 1)\n"
     ]
    }
   ],
   "source": [
    "# Shape returns a `TensorShape` object that shows the size on each dimension\n",
    "var_x = tf.Variable(tf.constant([[1], [2], [3]]))\n",
    "print(var_x.shape)"
   ]
  },
  {
   "cell_type": "code",
   "execution_count": 73,
   "metadata": {},
   "outputs": [
    {
     "name": "stdout",
     "output_type": "stream",
     "text": [
      "[3, 1]\n"
     ]
    }
   ],
   "source": [
    "# Convert tensor object into a Python list\n",
    "print(var_x.shape.as_list())"
   ]
  },
  {
   "cell_type": "code",
   "execution_count": 74,
   "metadata": {},
   "outputs": [
    {
     "name": "stdout",
     "output_type": "stream",
     "text": [
      "(3, 1)\n",
      "(1, 3)\n"
     ]
    }
   ],
   "source": [
    "# Reshape a tensor to a new shape by passing a list\n",
    "reshaped = tf.reshape(var_x, [1, 3])\n",
    "\n",
    "# sanity check\n",
    "print(var_x.shape)\n",
    "print(reshaped.shape)"
   ]
  },
  {
   "cell_type": "markdown",
   "metadata": {},
   "source": [
    "<br>\n",
    "\n",
    "#### **1.4.5 (Optional) Broadcasting Tensors**\n",
    "\n",
    "___\n",
    "\n",
    "<br>\n",
    "\n",
    "<div align=\"center\" style=\"font-size:12px; font-family:FreeMono; font-weight: 100; font-stretch:ultra-condensed; line-height: 1.0; color:#2A2C2B\">\n",
    "    <img src=\"assets/content/images/tF_update-06.png\" align=\"center\" width=\"40%\" padding=\"0px\"><br>\n",
    "    Broadcasted Tensor\n",
    "</div>"
   ]
  },
  {
   "cell_type": "markdown",
   "metadata": {},
   "source": [
    "<br>\n",
    "\n",
    "[**Broadcasting**](https://www.tensorflow.org/guide/tensor#broadcasting) in TensorFlow is borrowed directly from the notion of [**NumPy Array Broadcasting**](https://numpy.org/doc/stable/user/basics.broadcasting.html). The general idea is that, under certain conditions, a smaller tensor can be 'stretched' to fit larger tensors when running combined operations on both.  Following are some examples of this concept.\n",
    "\n",
    "<br>"
   ]
  },
  {
   "cell_type": "code",
   "execution_count": 76,
   "metadata": {},
   "outputs": [],
   "source": [
    "# variable declarations\n",
    "x = tf.constant([5, 7, 11])\n",
    "y = tf.constant(3)\n",
    "z = tf.constant([3, 3, 3])\n"
   ]
  },
  {
   "cell_type": "code",
   "execution_count": 77,
   "metadata": {},
   "outputs": [
    {
     "name": "stdout",
     "output_type": "stream",
     "text": [
      "tf.Tensor([15 21 33], shape=(3,), dtype=int32)\n",
      "tf.Tensor([15 21 33], shape=(3,), dtype=int32)\n",
      "tf.Tensor([15 21 33], shape=(3,), dtype=int32)\n"
     ]
    }
   ],
   "source": [
    "# Same results\n",
    "print(tf.multiply(x, 3))\n",
    "print(x * y)\n",
    "print(x * z)"
   ]
  },
  {
   "cell_type": "code",
   "execution_count": 78,
   "metadata": {},
   "outputs": [
    {
     "name": "stdout",
     "output_type": "stream",
     "text": [
      "tf.Tensor(\n",
      "[[ 5 10 15 20]\n",
      " [ 7 14 21 28]\n",
      " [11 22 33 44]], shape=(3, 4), dtype=int32)\n"
     ]
    }
   ],
   "source": [
    "## To really grasp the idea: without broadcasting ##\n",
    "x_stretch = tf.constant([[5, 5, 5, 5],\n",
    "                         [7, 7, 7, 7],\n",
    "                         [11, 11, 11, 11]])\n",
    "\n",
    "y_stretch = tf.constant([[1, 2, 3, 4],\n",
    "                         [1, 2, 3, 4],\n",
    "                         [1, 2, 3, 4]])\n",
    "\n",
    "# using operator overloading\n",
    "result = x_stretch * y_stretch\n",
    "\n",
    "print(result)"
   ]
  },
  {
   "cell_type": "code",
   "execution_count": 79,
   "metadata": {},
   "outputs": [
    {
     "name": "stdout",
     "output_type": "stream",
     "text": [
      "tf.Tensor(\n",
      "[[ 5]\n",
      " [ 7]\n",
      " [11]], shape=(3, 1), dtype=int32) \n",
      "\n",
      "tf.Tensor([1 2 3 4], shape=(4,), dtype=int32) \n",
      "\n",
      "tf.Tensor(\n",
      "[[ 5 10 15 20]\n",
      " [ 7 14 21 28]\n",
      " [11 22 33 44]], shape=(3, 4), dtype=int32)\n"
     ]
    }
   ],
   "source": [
    "## To really grasp the idea: with broadcasting ##\n",
    "# These are the same computations\n",
    "x = tf.reshape(x,[3,1])\n",
    "y = tf.range(1, 5)\n",
    "print(x, \"\\n\")\n",
    "print(y, \"\\n\")\n",
    "print(tf.multiply(x, y))"
   ]
  },
  {
   "cell_type": "markdown",
   "metadata": {},
   "source": [
    "<br>\n",
    "\n",
    "#### **1.4.6 (Optional) Ragged, String, and Sparse Tensors**\n",
    "___\n"
   ]
  },
  {
   "cell_type": "markdown",
   "metadata": {},
   "source": [
    "<br>\n",
    "\n",
    "TensorFlow has several ways of dealing with 'abnormal' tensors. In particular:\n",
    "\n",
    ">[**Ragged Tensors**](https://www.tensorflow.org/guide/tensor#ragged_tensors) - variable number of element along some axis.<br>\n",
    ">[**String Tensors**](https://www.tensorflow.org/guide/tensor#string_tensors) - atomic dtype that cannot be indexed similar to Python strings.<br>\n",
    ">[**Sparse Tensors**](https://www.tensorflow.org/guide/tensor#sparse_tensors) - for handling sparse data, like a very wide embedding space."
   ]
  },
  {
   "cell_type": "markdown",
   "metadata": {},
   "source": [
    "<!--Navigate back to table of contents-->\n",
    "<br>\n",
    "<div alig=\"right\" style=\"text-align: right\">\n",
    "    <span>\n",
    "        <a style=\"color:#FFFFFF; background-color:#003262; border:1px solid #FFFFFF; border-color:#FFFFFF;border-radius:5px;border-width:0px;display:inline-block;font-family:arial,helvetica,sans-serif;font-size:10px;letter-spacing:0px;line-height:10px;padding:10px 20px;text-align:center;text-decoration:none; align:center\" href=\"#Part_table_contents\" name=\"Table of Contents\"  id=\"Part_table_contents\"> \n",
    "            Table of Contents \n",
    "        </a>\n",
    "    </span>\n",
    "</div>\n",
    "<!-------------------------------------->"
   ]
  },
  {
   "cell_type": "markdown",
   "metadata": {},
   "source": [
    "<a id='Part_2'></a>\n",
    "\n",
    "<hr style=\"border: 2px solid#003262;\" />\n",
    "\n",
    "#### PART 2\n",
    "\n",
    "## **TENSORFLOW** GRAPHS, **AND** EXECUTIONS\n",
    "\n",
    "<br>\n",
    "\n",
    "<div align=\"center\" style=\"font-size:12px; font-family:FreeMono; font-weight: 100; font-stretch:ultra-condensed; line-height: 1.0; color:#2A2C2B\">\n",
    "    <img src=\"assets/content/images/tF_update-07.png\" align=\"center\" width=\"40%\" padding=\"0px\"><br>\n",
    "</div>\n",
    "\n",
    "<br>\n",
    "\n",
    "\n",
    "#### CONTENTS:\n",
    "\n",
    "> [PART 2.1: TENSORFLOW COMPUTATION FUNCTION](#Part_2_1)<br>\n",
    "\n"
   ]
  },
  {
   "cell_type": "markdown",
   "metadata": {},
   "source": [
    "<a id='Part_2_1'></a>\n",
    "\n",
    "<hr style=\"border: 1px solid#003262;\" />\n",
    "\n",
    "#### PART 2.1: TENSORFLOW COMPUTATION FUNCTION\n",
    "<br>\n",
    "\n",
    "<div align=\"center\" style=\"font-size:12px; font-family:FreeMono; font-weight: 100; font-stretch:ultra-condensed; line-height: 1.0; color:#2A2C2B\">\n",
    "    <img src=\"/assets/content/images/tF_update-01.png\" align=\"center\" width=\"50%\" padding=\"0px\"><br>\n",
    "</div>\n",
    "\n",
    "<br>\n",
    "\n",
    "In TensorFlow (TF) 2.0, you can decorate Python functions using ```tf.function``` to mark them for [**just in time (JIT)**](https://docs.w3cub.com/tensorflow~guide/performance/xla/jit/) compilation. Meaning that TensorFlow runs it as [**single graph**](https://github.com/tensorflow/community/pull/20). This change is done to make TensorFlow more 'Pythonic' -- which enables eager execution by default, encourages the encapsulation of graph computations as Python functions, and aligns the 'state' in the TensorFlow runtime with the state in the Python program.  All that to say, **Functions, not sessions in TF 2.0**:\n",
    "\n",
    "```python\n",
    "    # TensorFlow 1.X\n",
    "    outputs = session.run(f(placeholder), feed_dict={placeholder: input})\n",
    "    # TensorFlow 2.0\n",
    "    outputs = f(input)\n",
    "```\n",
    "\n",
    "Just in case it wasn't clear, [**using graphs directly is deprecated in TF 2.0**](https://www.tensorflow.org/api_docs/python/tf/Graph#using_graphs_directly_deprecated)."
   ]
  },
  {
   "cell_type": "markdown",
   "metadata": {},
   "source": [
    "<br>\n",
    "\n",
    "#### **2.1.1 TensorFlow Function -- \\@tf.function**\n",
    "___\n"
   ]
  },
  {
   "cell_type": "markdown",
   "metadata": {},
   "source": [
    "The [**\\@tf.function**](https://www.tensorflow.org/api_docs/python/tf/function) compiles a function into a callable [**TensorFlow graph**](https://www.tensorflow.org/api_docs/python/tf/Graph).  Use the ```tf.function``` to get performant and portable models, but note that ```tf.function``` is not a one-size-fits-all solution for faster computation.  For more on common issues you may enconter when using ```tf.function``` and how to deal with them, see [here](https://www.tensorflow.org/guide/function#basics). Now let's get to some TF functions."
   ]
  },
  {
   "cell_type": "code",
   "execution_count": 121,
   "metadata": {},
   "outputs": [],
   "source": [
    "# example function\n",
    "@tf.function\n",
    "def f(x,y):\n",
    "    return(x ** 2 + y)"
   ]
  },
  {
   "cell_type": "code",
   "execution_count": 122,
   "metadata": {},
   "outputs": [],
   "source": [
    "x = tf.constant([2, 4])\n",
    "y = tf.constant([4, -2])"
   ]
  },
  {
   "cell_type": "code",
   "execution_count": 123,
   "metadata": {},
   "outputs": [
    {
     "data": {
      "text/plain": [
       "<tf.Tensor: shape=(2,), dtype=int32, numpy=array([ 8, 14], dtype=int32)>"
      ]
     },
     "execution_count": 123,
     "metadata": {},
     "output_type": "execute_result"
    }
   ],
   "source": [
    "f(x,y)"
   ]
  },
  {
   "cell_type": "markdown",
   "metadata": {},
   "source": [
    "<br>\n",
    "\n",
    "**\\@tf.function Control Flow**"
   ]
  },
  {
   "cell_type": "code",
   "execution_count": 124,
   "metadata": {},
   "outputs": [],
   "source": [
    "# tf.function() may use data-dependent control flow \n",
    "@tf.function() \n",
    "def g(x):\n",
    "    if tf.reduce_sum(x) > 0:\n",
    "        return(x * x)\n",
    "    else: \n",
    "        return(-x // 2)"
   ]
  },
  {
   "cell_type": "code",
   "execution_count": 125,
   "metadata": {},
   "outputs": [
    {
     "data": {
      "text/plain": [
       "<tf.Tensor: shape=(), dtype=float32, numpy=22.089998>"
      ]
     },
     "execution_count": 125,
     "metadata": {},
     "output_type": "execute_result"
    }
   ],
   "source": [
    "# function call\n",
    "g(tf.constant(4.7))"
   ]
  },
  {
   "cell_type": "markdown",
   "metadata": {},
   "source": [
    "___\n",
    "\n",
    "**Note:** ```tf.function()``` can handle ```if```, ```for```, ```while```, ```continue```, ```break```, and ```return``` control flow statements.\n",
    "___"
   ]
  },
  {
   "cell_type": "markdown",
   "metadata": {},
   "source": [
    "<br>\n",
    "\n",
    "**\\@tf.function with** [**tf.Tensor**](https://www.tensorflow.org/api_docs/python/tf/Tensor) **and** [**tf.Variable**](https://www.tensorflow.org/api_docs/python/tf/Variable) **Objects**"
   ]
  },
  {
   "cell_type": "code",
   "execution_count": 126,
   "metadata": {},
   "outputs": [],
   "source": [
    "@tf.function\n",
    "def h():\n",
    "  return(x ** 2 - y)"
   ]
  },
  {
   "cell_type": "code",
   "execution_count": 127,
   "metadata": {},
   "outputs": [
    {
     "data": {
      "text/plain": [
       "<tf.Tensor: shape=(2,), dtype=int32, numpy=array([ 8, 18], dtype=int32)>"
      ]
     },
     "execution_count": 127,
     "metadata": {},
     "output_type": "execute_result"
    }
   ],
   "source": [
    "x = tf.constant([-2, -4])\n",
    "y = tf.Variable([-4, -2])\n",
    "h()"
   ]
  },
  {
   "cell_type": "markdown",
   "metadata": {},
   "source": [
    "<br>\n",
    "\n",
    "**\\@tf.function with side effects, such as** [**tf.print**](https://www.tensorflow.org/api_docs/python/tf/print) **and** [**tf.Variable**](https://www.tensorflow.org/api_docs/python/tf/Variable)"
   ]
  },
  {
   "cell_type": "code",
   "execution_count": 136,
   "metadata": {},
   "outputs": [],
   "source": [
    "@tf.function\n",
    "def f_se(x):\n",
    "  for i in tf.range(x):\n",
    "    c.assign_add(i)\n"
   ]
  },
  {
   "cell_type": "code",
   "execution_count": 137,
   "metadata": {},
   "outputs": [
    {
     "data": {
      "text/plain": [
       "<tf.Variable 'Variable:0' shape=() dtype=int32, numpy=4>"
      ]
     },
     "execution_count": 137,
     "metadata": {},
     "output_type": "execute_result"
    }
   ],
   "source": [
    "# before side-effects\n",
    "c = tf.Variable(4)\n",
    "c"
   ]
  },
  {
   "cell_type": "code",
   "execution_count": 138,
   "metadata": {},
   "outputs": [
    {
     "data": {
      "text/plain": [
       "<tf.Variable 'Variable:0' shape=() dtype=int32, numpy=7>"
      ]
     },
     "execution_count": 138,
     "metadata": {},
     "output_type": "execute_result"
    }
   ],
   "source": [
    "# function call\n",
    "f_se(3)\n",
    "# after side-effects\n",
    "c"
   ]
  },
  {
   "cell_type": "markdown",
   "metadata": {},
   "source": [
    "___\n",
    "\n",
    "**Key Point:** Any Python side-effects -- such as printing with ```print()```, appending to a list, etc. -- will only happen once as ```func```, in this case named ```f_se()```, is traced. If side-effects are desired in [**tf.function**](https://www.tensorflow.org/api_docs/python/tf/function), then they need to be written as TF ops. More on this below.\n",
    "___"
   ]
  },
  {
   "cell_type": "code",
   "execution_count": 139,
   "metadata": {},
   "outputs": [],
   "source": [
    "l = []\n",
    "\n",
    "# appends only once when tracing\n",
    "@tf.function\n",
    "def f(x):\n",
    "  for i in x:\n",
    "    l.append(i + 1)    \n"
   ]
  },
  {
   "cell_type": "code",
   "execution_count": 140,
   "metadata": {},
   "outputs": [],
   "source": [
    "# function call\n",
    "f(tf.constant([2, 4, 9]))\n"
   ]
  },
  {
   "cell_type": "code",
   "execution_count": 141,
   "metadata": {},
   "outputs": [
    {
     "data": {
      "text/plain": [
       "[<tf.Tensor 'add:0' shape=() dtype=int32>]"
      ]
     },
     "execution_count": 141,
     "metadata": {},
     "output_type": "execute_result"
    }
   ],
   "source": [
    "# examine side-effects\n",
    "l"
   ]
  },
  {
   "cell_type": "code",
   "execution_count": 142,
   "metadata": {},
   "outputs": [],
   "source": [
    "# appends in tf.function\n",
    "@tf.function\n",
    "def f(x):\n",
    "  temp = tf.TensorArray(dtype=tf.int32, size=0, dynamic_size=True)\n",
    "  for i in range(len(x)):\n",
    "    temp = temp.write(i, x[i] + 1)\n",
    "  return(temp.stack())\n"
   ]
  },
  {
   "cell_type": "code",
   "execution_count": 143,
   "metadata": {},
   "outputs": [
    {
     "data": {
      "text/plain": [
       "<tf.Tensor: shape=(3,), dtype=int32, numpy=array([ 3,  5, 10], dtype=int32)>"
      ]
     },
     "execution_count": 143,
     "metadata": {},
     "output_type": "execute_result"
    }
   ],
   "source": [
    "# function call\n",
    "f(tf.constant([2, 4, 9]))"
   ]
  },
  {
   "cell_type": "markdown",
   "metadata": {},
   "source": [
    "<br>\n",
    "\n",
    "**\\@tf.function is Polymorphic**"
   ]
  },
  {
   "cell_type": "code",
   "execution_count": 144,
   "metadata": {},
   "outputs": [],
   "source": [
    "@tf.function\n",
    "def g(x):\n",
    "  return(x + 1)"
   ]
  },
  {
   "cell_type": "code",
   "execution_count": 145,
   "metadata": {},
   "outputs": [
    {
     "data": {
      "text/plain": [
       "<tf.Tensor: shape=(3,), dtype=int32, numpy=array([ 3,  5, 10], dtype=int32)>"
      ]
     },
     "execution_count": 145,
     "metadata": {},
     "output_type": "execute_result"
    }
   ],
   "source": [
    "# function call with int32\n",
    "g(tf.constant([2, 4, 9]))"
   ]
  },
  {
   "cell_type": "code",
   "execution_count": 146,
   "metadata": {},
   "outputs": [
    {
     "data": {
      "text/plain": [
       "<tf.Tensor: shape=(3,), dtype=float32, numpy=array([ 3.,  5., 10.], dtype=float32)>"
      ]
     },
     "execution_count": 146,
     "metadata": {},
     "output_type": "execute_result"
    }
   ],
   "source": [
    "# function call with floats32\n",
    "g(tf.constant([2.0, 4.0, 9.0]))"
   ]
  },
  {
   "cell_type": "markdown",
   "metadata": {},
   "source": [
    "___\n",
    "\n",
    "**Key Point:** [**tf.function**](https://www.tensorflow.org/api_docs/python/tf/function) can build more than one graph to support different data types or shapes as it encounters them. To obtain an individual graph, use the ```get_concrete_function``` method of the callable created by ```tf.function```. Example follows.\n",
    "___"
   ]
  },
  {
   "cell_type": "code",
   "execution_count": 147,
   "metadata": {},
   "outputs": [],
   "source": [
    "# source function for individual graph\n",
    "@tf.function\n",
    "def h(x):\n",
    "  return(tf.abs(x))"
   ]
  },
  {
   "cell_type": "code",
   "execution_count": 148,
   "metadata": {},
   "outputs": [
    {
     "name": "stdout",
     "output_type": "stream",
     "text": [
      "f1 == f2? False\n",
      "<tensorflow.python.eager.function.ConcreteFunction object at 0x7f63d9c7aa90>\n",
      "<tensorflow.python.eager.function.ConcreteFunction object at 0x7f63d9c7a0b8>\n"
     ]
    }
   ],
   "source": [
    "# Build individual graphs\n",
    "f1 = h.get_concrete_function(1)\n",
    "f2 = h.get_concrete_function(2)  # Slow \n",
    "print(\"f1 == f2?\", f1 is f2)\n",
    "print(f1)\n",
    "print(f2)\n"
   ]
  },
  {
   "cell_type": "code",
   "execution_count": 149,
   "metadata": {},
   "outputs": [
    {
     "name": "stdout",
     "output_type": "stream",
     "text": [
      "f1 == f2? True\n",
      "<tensorflow.python.eager.function.ConcreteFunction object at 0x7f63d9e17630>\n",
      "<tensorflow.python.eager.function.ConcreteFunction object at 0x7f63d9e17630>\n"
     ]
    }
   ],
   "source": [
    "# Reuse graph created when f1 is traced\n",
    "f1 = h.get_concrete_function(tf.constant(1))\n",
    "f2 = h.get_concrete_function(tf.constant(2))  # Fast \n",
    "print(\"f1 == f2?\",f1 is f2)\n",
    "print(f1)\n",
    "print(f2)"
   ]
  },
  {
   "cell_type": "markdown",
   "metadata": {},
   "source": [
    "<br>\n",
    "\n",
    "**\\@tf.function with** [**Input Signatures**](https://www.python.org/dev/peps/pep-0362/)"
   ]
  },
  {
   "cell_type": "code",
   "execution_count": 150,
   "metadata": {},
   "outputs": [],
   "source": [
    "@tf.function\n",
    "def f(x):\n",
    "  return(x + 1)"
   ]
  },
  {
   "cell_type": "code",
   "execution_count": 151,
   "metadata": {},
   "outputs": [],
   "source": [
    "# different shapes\n",
    "vector = tf.constant([1.0, 1.0])\n",
    "matrix = tf.constant([[3.0]])"
   ]
  },
  {
   "cell_type": "code",
   "execution_count": 152,
   "metadata": {},
   "outputs": [
    {
     "name": "stdout",
     "output_type": "stream",
     "text": [
      "f1 == f2? False\n",
      "<tensorflow.python.eager.function.ConcreteFunction object at 0x7f63d9c8a6a0>\n",
      "<tensorflow.python.eager.function.ConcreteFunction object at 0x7f63d9cb9f28>\n"
     ]
    }
   ],
   "source": [
    "f1 = f.get_concrete_function(vector) \n",
    "f2 = f.get_concrete_function(matrix)\n",
    "\n",
    "print(\"f1 == f2?\", f1 is f2)\n",
    "print(f1)\n",
    "print(f2)"
   ]
  },
  {
   "cell_type": "markdown",
   "metadata": {},
   "source": [
    "___\n",
    "\n",
    "**Key Point:** Recall that [**tf.function**](https://www.tensorflow.org/api_docs/python/tf/function) is polymorphic. As such, ```tf.function``` instantiates a separte graph for every unique input -- shape or datatypes. An [**input signature**](https://www.python.org/dev/peps/pep-0362/) can be provided to ```tf.function``` to control the graphs traced. This is useful to avoid creating multiple graphs when tensors have dynamic shapes, or to restrict the shape and datatype of tensors that can be used. Example follows.\n",
    "___"
   ]
  },
  {
   "cell_type": "code",
   "execution_count": 153,
   "metadata": {},
   "outputs": [],
   "source": [
    "# modify previous function to include an input signature\n",
    "@tf.function(\n",
    "    input_signature=[tf.TensorSpec(shape=None, dtype=tf.float32)])\n",
    "def g(x):\n",
    "  return(x + 1)"
   ]
  },
  {
   "cell_type": "code",
   "execution_count": 154,
   "metadata": {},
   "outputs": [],
   "source": [
    "# same shapes as before\n",
    "vector = tf.constant([1.0, 1.0])\n",
    "matrix = tf.constant([[3.0]])\n"
   ]
  },
  {
   "cell_type": "code",
   "execution_count": 155,
   "metadata": {},
   "outputs": [
    {
     "name": "stdout",
     "output_type": "stream",
     "text": [
      "f1 == f2? True\n",
      "<tensorflow.python.eager.function.ConcreteFunction object at 0x7f63a07395f8>\n",
      "<tensorflow.python.eager.function.ConcreteFunction object at 0x7f63a07395f8>\n"
     ]
    }
   ],
   "source": [
    "f1 = g.get_concrete_function(vector) \n",
    "f2 = g.get_concrete_function(matrix)\n",
    "\n",
    "print(\"f1 == f2?\", f1 is f2)\n",
    "print(f1)\n",
    "print(f2)"
   ]
  },
  {
   "cell_type": "markdown",
   "metadata": {},
   "source": [
    "<br>\n",
    "\n",
    "___\n",
    "\n",
    "**Final Comments:** When using TF 2.0, it is recommended that users refactor their code into smaller functions that are called as needed. Moreover, it's not necessary to decorate each of these smaller functions with ```tf.function```; only use ```tf.function``` to decorate high-level computations -- for example, one step of training or the forward pass of your model.\n",
    "\n",
    "Also, when **creating variables** -- such as those created locally and returned -- keep in mind that a variable can only be created once. If you plan on creating local variables that are returned it is recommended to create stateful objecets like [**tf.Variable**](https://www.tensorflow.org/api_docs/python/tf/Variable) outside of [**tf.function**](https://www.tensorflow.org/api_docs/python/tf/function) and passing them as arguments.\n",
    "___"
   ]
  },
  {
   "cell_type": "markdown",
   "metadata": {},
   "source": [
    "<!--Navigate back to table of contents-->\n",
    "<div alig=\"right\" style=\"text-align: right\">\n",
    "    <span>\n",
    "        <a style=\"color:#FFFFFF; background-color:#003262; border:1px solid #FFFFFF; border-color:#FFFFFF;border-radius:5px;border-width:0px;display:inline-block;font-family:arial,helvetica,sans-serif;font-size:10px;letter-spacing:0px;line-height:10px;padding:10px 20px;text-align:center;text-decoration:none; align:center\" href=\"#Part_table_contents\" name=\"Table of Contents\"  id=\"Part_table_contents\"> \n",
    "            Table of Contents \n",
    "        </a>\n",
    "    </span>\n",
    "</div>\n",
    "<!-------------------------------------->"
   ]
  },
  {
   "cell_type": "markdown",
   "metadata": {},
   "source": [
    "<a id='Part_3'></a>\n",
    "\n",
    "<hr style=\"border: 2px solid#003262;\" />\n",
    "\n",
    "#### PART 3\n",
    "\n",
    "## **WRAP-UP** AND **NEXT** STEPS\n",
    "\n",
    "\n",
    "<div align=\"center\">\n",
    "    <img src= \"/assets/content/datax_logos/DataX_icon_wide_logo.png\" align=\"center\" width=\"80%\" padding=\"20\">\n",
    "</div>\n",
    "\n",
    "<br>\n",
    "\n",
    "As you may have started to notice, that there is much more than can be done using Flask. Wanting to learn other uses of Flask?  Visit the [**Data-X website**](https://datax.berkeley.edu/) to learn more, or use the following links to topics of interest:\n",
    "\n",
    "> [TODO (m---): url needed]() TODO TODO TODO <br>\n",
    "> [TODO (m---): url needed]() TODO TODO TODO <br>\n",
    "> [TODO (m---): url needed]() TODO TODO TODO\n",
    "\n",
    "\n",
    "\n",
    "<br>\n",
    "\n",
    "<br>\n"
   ]
  },
  {
   "cell_type": "markdown",
   "metadata": {},
   "source": [
    "<!--Navigate back to table of contents-->\n",
    "<div alig=\"right\" style=\"text-align: right\">\n",
    "    <span>\n",
    "        <a style=\"color:#FFFFFF; background-color:#003262; border:1px solid #FFFFFF; border-color:#FFFFFF;border-radius:5px;border-width:0px;display:inline-block;font-family:arial,helvetica,sans-serif;font-size:10px;letter-spacing:0px;line-height:10px;padding:10px 20px;text-align:center;text-decoration:none; align:center\" href=\"#Part_table_contents\" name=\"Table of Contents\"  id=\"Part_table_contents\"> \n",
    "            Table of Contents \n",
    "        </a>\n",
    "    </span>\n",
    "</div>\n",
    "<!-------------------------------------->"
   ]
  },
  {
   "cell_type": "markdown",
   "metadata": {},
   "source": [
    "<a id='Appendix_1'></a>\n",
    "\n",
    "<hr style=\"border: 6px solid#003262;\" />\n",
    "\n",
    "#### APPENDIX I\n",
    "\n",
    "\n",
    "## **TENSORFLOW** INSTALLATION\n",
    "\n"
   ]
  },
  {
   "cell_type": "markdown",
   "metadata": {},
   "source": [
    "<br>\n",
    "\n",
    "<div align=\"center\" style=\"font-size:12px; font-family:FreeMono; font-weight: 100; font-stretch:ultra-condensed; line-height: 1.0; color:#2A2C2B\">\n",
    "    <img src=\"/assets/content/images/tf_logo_social.png\" align=\"center\" width=\"30%\" padding=\"0px\"><br>\n",
    "    <br>\n",
    "</div>"
   ]
  },
  {
   "cell_type": "markdown",
   "metadata": {},
   "source": [
    "<br>\n",
    "\n",
    "#### **Appendix I.1 Install Python Development Environment**\n",
    "\n",
    "___"
   ]
  },
  {
   "cell_type": "markdown",
   "metadata": {},
   "source": [
    "#### **Install/Update pip3**\n",
    "\n",
    "https://pip.pypa.io/en/stable/installing/\n",
    "\n",
    "```bash\n",
    "    # TensorFlow requires pip version >= 19.0\n",
    "    $ pip install --upgrade pip \n",
    "```"
   ]
  },
  {
   "cell_type": "markdown",
   "metadata": {},
   "source": [
    "<br>\n",
    "\n",
    "#### **Install/Update Python 3**\n",
    "\n",
    "https://www.python.org/downloads/\n",
    "\n",
    "```bash\n",
    "    # TensorFlow requires Python 3.5-3.8 \n",
    "    $ sudo apt-get update && sudo apt-get install python3-dev python3-pip python3-venv python-virtualenv\n",
    "```"
   ]
  },
  {
   "cell_type": "markdown",
   "metadata": {},
   "source": [
    "<br>\n",
    "\n",
    "#### **Appendix I.2 Create Virtual Environgment (Recommended)**\n",
    "\n",
    "\n",
    "___"
   ]
  },
  {
   "cell_type": "markdown",
   "metadata": {},
   "source": [
    "**Create virtual environment**\n",
    "\n",
    ">On a terminal, or using magic keys, create a new virtual environment using a Python interpreter and creating a ```venv``` directory to hold it\n",
    "\n",
    "```bash\n",
    "    $ python3 -m venv venv\n",
    "```"
   ]
  },
  {
   "cell_type": "markdown",
   "metadata": {},
   "source": [
    "<br>\n",
    "\n",
    "**Activate the virtual environment**\n",
    "\n",
    "```bash\n",
    "    $ source ./venv/bin/activate      # sh, bash, or zsh\n",
    "\n",
    "    $ . ./venv/bin/activate.fish       # fish\n",
    "\n",
    "    $ source ./venv/bin/activate.csh  # csh or tcsh\n",
    "```"
   ]
  },
  {
   "cell_type": "markdown",
   "metadata": {},
   "source": [
    "<br>\n",
    "\n",
    "**Install packages within virtual environment**\n",
    "\n",
    "When the virtual environment is active, your shell prompt is prefixed by ```(venv)```\n",
    "\n",
    "> Step 1: reapeat 1.1.1 above, within ```(venv)```<br>\n",
    "\n",
    "```bash\n",
    "    # TensorFlow requires pip version >= 19.0\n",
    "    $ pip install --upgrade pip \n",
    "```    "
   ]
  },
  {
   "cell_type": "markdown",
   "metadata": {},
   "source": [
    "> Step 2: Install TensorFlow2\n",
    "\n",
    "```bash\n",
    "    (venv) $ pip install --upgrade tensorflow\n",
    "```\n"
   ]
  },
  {
   "cell_type": "markdown",
   "metadata": {},
   "source": [
    "> Step 3: Verify install\n",
    "\n",
    "```bash\n",
    "    (venv) $ python -c \"import tensorflow as tf;print(tf.reduce_sum(tf.random.normal([1000, 1000])))\"\n",
    "```"
   ]
  },
  {
   "cell_type": "markdown",
   "metadata": {},
   "source": [
    "> Step 4: To exit virtual enviroment later\n",
    "\n",
    "```bash\n",
    "    (venv) $ pip deactivate\n",
    "```"
   ]
  },
  {
   "cell_type": "markdown",
   "metadata": {},
   "source": [
    "<br>\n",
    "\n",
    "#### **Appendix I.3 Install TensorFlow on Local Machine (Optional Setup)**\n",
    "\n",
    "___\n",
    "\n",
    "\n",
    "**TensorFlow 2**\n",
    "\n",
    "https://www.tensorflow.org/install/pip\n",
    "\n",
    "```bash\n",
    "    # Install using pip\n",
    "    $ pip install --upgrade tensorflow \n",
    "```"
   ]
  },
  {
   "cell_type": "markdown",
   "metadata": {},
   "source": [
    "<br>\n",
    "\n",
    "**Verify Installation**\n",
    "\n",
    "```bash\n",
    "    $ python -c \"import tensorflow as tf;print(tf.reduce_sum(tf.random.normal([1000, 1000])))\"\n",
    "```"
   ]
  },
  {
   "cell_type": "markdown",
   "metadata": {},
   "source": [
    "<br>\n",
    "\n",
    "#### **Appendix I.4 Run TensorFlow in a Container (Optional Setup)**\n",
    "\n",
    "___\n",
    "\n",
    "<br>\n",
    "\n",
    "[**Tensorflow Docker images**](https://www.tensorflow.org/install/docker) come pre-configured to run TensorFlow, and provide a virtual environment that is generally the easiest way to set up [**GPU processing**](https://www.tensorflow.org/install/gpu). To learn more about how to use [**Docker**](https://www.tensorflow.org/install/docker/) to separate your applications from your infrastructure, click [here](https://docs.docker.com/get-docker/).\n",
    "\n",
    "<br>"
   ]
  },
  {
   "cell_type": "markdown",
   "metadata": {},
   "source": [
    "<a id='Appendix_2'></a>\n",
    "\n",
    "<hr style=\"border: 2px solid#003262;\" />\n",
    "\n",
    "#### APPENDIX II\n",
    "\n",
    "\n",
    "## **REFERENCES** AND ADDITIONAL **RESOURCES**\n",
    "\n",
    "<br>\n",
    "\n",
    "\n",
    "> [TensorFlow Tutorials](https://pandas.pydata.org/pandas-docs/stable/user_guide/index.html)<br>\n",
    "> [TensorFlow Guide](https://youtu.be/dcqPhpY7tWk) <br>\n",
    "> [Deep Learning with Python by Francois Chollet](https://www.manning.com/books/deep-learning-with-python)\n",
    "> [Introduction to TensorFlow by Andrew Ng and Kian Katanforoosh](https://cs230.stanford.edu/blog/tensorflow/)<br>\n",
    "> [Deep Learning Illustrated by Jon Krohn, Grant Beyleveld, and Aglae Bassens](https://www.deeplearningillustrated.com/)<br>\n",
    "> [Hands-On Introduction to TensorFlow 2.0 by Josh Gordon and Amit Patankar](https://youtu.be/Yyv-ng0_OTU)<br>\n",
    "> [Getting Started with TensorFlow and Deep Learning by Josh Gordon](https://youtu.be/tYYVSEHq-io)"
   ]
  },
  {
   "cell_type": "markdown",
   "metadata": {},
   "source": [
    "<!--Navigate back to table of contents-->\n",
    "<div alig=\"right\" style=\"text-align: right\">\n",
    "    <span>\n",
    "        <a style=\"color:#FFFFFF; background-color:#003262; border:1px solid #FFFFFF; border-color:#FFFFFF;border-radius:5px;border-width:0px;display:inline-block;font-family:arial,helvetica,sans-serif;font-size:10px;letter-spacing:0px;line-height:10px;padding:10px 20px;text-align:center;text-decoration:none; align:center\" href=\"#Part_table_contents\" name=\"Table of Contents\"  id=\"Part_table_contents\"> \n",
    "            Table of Contents \n",
    "        </a>\n",
    "    </span>\n",
    "</div>\n",
    "<!-------------------------------------->"
   ]
  },
  {
   "cell_type": "markdown",
   "metadata": {},
   "source": [
    "<hr style=\"border: 6px solid#003262;\" />\n"
   ]
  }
 ],
 "metadata": {
  "anaconda-cloud": {},
  "celltoolbar": "Slideshow",
  "kernelspec": {
   "display_name": "Python 3",
   "language": "python",
   "name": "python3"
  },
  "language_info": {
   "codemirror_mode": {
    "name": "ipython",
    "version": 3
   },
   "file_extension": ".py",
   "mimetype": "text/x-python",
   "name": "python",
   "nbconvert_exporter": "python",
   "pygments_lexer": "ipython3",
   "version": "3.6.10"
  },
  "livereveal": {
   "scroll": true
  },
  "rise": {
   "enable_chalkboard": true,
   "height": "90%",
   "width": "100%"
  }
 },
 "nbformat": 4,
 "nbformat_minor": 2
}
